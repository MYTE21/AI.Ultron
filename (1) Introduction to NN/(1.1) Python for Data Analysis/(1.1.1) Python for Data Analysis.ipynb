{
 "cells": [
  {
   "cell_type": "markdown",
   "source": [
    "# Python for Data Analysis\n",
    "1. Setting Up Necessary Things\n",
    "2. Python Libraries for Data Science\n",
    "    1. NumPy Library\n",
    "    2. SciPy Library\n",
    "    3. Pandas Library\n",
    "    4. Scikit-learn Library\n",
    "    5. Matplotlib Library\n",
    "    6. Seaborn Library\n",
    "3. Python Libraries Practical\n",
    "    1. Loading Python Libraries\n",
    "    2. Reading Data Using Pandas\n",
    "    3. Exploring DataFrame\n",
    "4. DataFrame\n",
    "    1. DataFrame Data Types\n",
    "    2. DataFrame Attributes\n",
    "    3. DataFrame Methods\n",
    "    4. Selecting a Column in a DataFrame\n",
    "        1. Description of a column\n",
    "    5. DataFrame groupby Method\n",
    "    6. DataFrame: Filtering\n",
    "    7. DataFrame: Slicing\n",
    "        1. Selecting Rows\n",
    "        2. Method loc\n",
    "        3. Method iloc\n",
    "    8. DataFrame: Sorting\n",
    "    9. Missing Values\n",
    "5. Aggregation Functions in Pandas\n",
    "    1. Basic Descriptive Statistics\n",
    "6. Graphics to Explore the Data\n",
    "    1. Graphics\n",
    "7. Basic Statistical Analysis"
   ],
   "metadata": {
    "collapsed": false
   }
  },
  {
   "cell_type": "markdown",
   "source": [
    "# 1. Setting Up Necessary Things"
   ],
   "metadata": {
    "collapsed": false
   }
  },
  {
   "cell_type": "code",
   "execution_count": 1,
   "metadata": {
    "collapsed": true,
    "ExecuteTime": {
     "end_time": "2023-07-25T06:45:57.423706600Z",
     "start_time": "2023-07-25T06:45:57.351040500Z"
    }
   },
   "outputs": [],
   "source": [
    "# Ignore All Warnings\n",
    "import warnings\n",
    "warnings.filterwarnings(\"ignore\")"
   ]
  },
  {
   "cell_type": "markdown",
   "source": [
    "# 2. Python Libraries for Data Science"
   ],
   "metadata": {
    "collapsed": false
   }
  },
  {
   "cell_type": "markdown",
   "source": [
    "Many popular Python libraries:\n",
    "1. [NumPy](https://numpy.org/)\n",
    "2. [SciPy](https://scipy.org/)\n",
    "3. [Pandas](https://pandas.pydata.org/)\n",
    "4. [Scikit-learn](https://scikit-learn.org/)\n",
    "\n",
    "`Visualization` libraries:\n",
    "1. [Matplotlib](https://matplotlib.org/)\n",
    "2. [Seaborn](https://seaborn.pydata.org/)\n",
    "\n",
    "*and many more...*\n",
    "\n",
    "**All these libraries are installed on the [SCC](https://www.alibabacloud.com/product/scc).**"
   ],
   "metadata": {
    "collapsed": false
   }
  },
  {
   "cell_type": "markdown",
   "source": [
    "## 2.1. NumPy Library\n",
    "Link: [NumPy](https://numpy.org/)\n",
    "\n",
    "* Introduces objects for `multidimensional arrays and matrices`, as well as functions that allow to easily perform advanced mathematical and statistical operations on those objects.\n",
    "* Provides `vectorization of mathematical operations` on arrays and matrices which significantly improves the performance.\n",
    "* Many other Python libraries are built on NumPy."
   ],
   "metadata": {
    "collapsed": false
   }
  },
  {
   "cell_type": "markdown",
   "source": [
    "## 2.2. SciPy Library\n",
    "Link: [SciPy](https://scipy.org/)\n",
    "* collection of algorithms for `linear algebra`, `differential equations`, `numerical integration`, `optimization`, `statistics` and more.\n",
    "* Part of the SciPy Stack.\n",
    "* built on `NumPy`."
   ],
   "metadata": {
    "collapsed": false
   }
  },
  {
   "cell_type": "markdown",
   "source": [
    "## 2.3. Pandas Library\n",
    "Link: [Pandas](https://pandas.pydata.org/)\n",
    "* Adds **data structures** and **tools** designed to work with `tabular data` (similar to Series and DataFrame in [R](https://www.r-project.org/)).\n",
    "* Provides tools for **data manipulation**: `Reshaping`, `Merging`, `Sorting`, `Slicing`, `Aggregation` etc.\n",
    "* Allows handling `missing data`."
   ],
   "metadata": {
    "collapsed": false
   }
  },
  {
   "cell_type": "markdown",
   "source": [
    "## 2.4. Scikit-learn Library\n",
    "Link: [Scikit-learn](https://scikit-learn.org/)\n",
    "* Provides **machine learning** algorithms: `Classification`, `Regression`, `Clustering`, `Model validation` etc.\n",
    "* Built on `NumPy`, `SciPy` and `Matplotlib`."
   ],
   "metadata": {
    "collapsed": false
   }
  },
  {
   "cell_type": "markdown",
   "source": [
    "## 2.5. Matplotlib Library\n",
    "Link: [Matplotlib](https://matplotlib.org/)\n",
    "* Python `2D plotting library` which produces publication quality figures in a variety of hardcopy formats.\n",
    "* A set of functionalities similar to those of [MATLAB](https://www.mathworks.com/products/matlab.html).\n",
    "* `Line Plots`, `Scatter Plots`, `Bar Charts`, `Histograms`, `Pie Charts` etc.\n",
    "* Relatively Low-level, some efforts needed to create advanced visualization."
   ],
   "metadata": {
    "collapsed": false
   }
  },
  {
   "cell_type": "markdown",
   "source": [
    "## 2.6. Seaborn Library\n",
    "Link: [Seaborn](https://seaborn.pydata.org/)\n",
    "* Based on `Matplotlib`.\n",
    "* Provides a high-level interface for drawing attractive statistical graphics.\n",
    "* Similar (in style) to the popular [ggplot2](https://ggplot2.tidyverse.org/) library in [R](https://www.r-project.org/).\n"
   ],
   "metadata": {
    "collapsed": false
   }
  },
  {
   "cell_type": "markdown",
   "source": [
    "# 3. Python Libraries Practical"
   ],
   "metadata": {
    "collapsed": false
   }
  },
  {
   "cell_type": "markdown",
   "source": [
    "## 3.1. Loading Python Libraries"
   ],
   "metadata": {
    "collapsed": false
   }
  },
  {
   "cell_type": "code",
   "execution_count": 2,
   "outputs": [],
   "source": [
    "# Import Python Libraries\n",
    "import numpy as np\n",
    "import scipy as sp\n",
    "import pandas as pd\n",
    "import matplotlib as plt\n",
    "import seaborn as sns"
   ],
   "metadata": {
    "collapsed": false,
    "ExecuteTime": {
     "end_time": "2023-07-25T06:45:57.451300500Z",
     "start_time": "2023-07-25T06:45:57.424707400Z"
    }
   }
  },
  {
   "cell_type": "markdown",
   "source": [
    "## 3.2. Reading Data Using Pandas"
   ],
   "metadata": {
    "collapsed": false
   }
  },
  {
   "cell_type": "code",
   "execution_count": 3,
   "outputs": [],
   "source": [
    "# Read CSV File\n",
    "df = pd.read_csv(\"../../data/salary_data.csv\")"
   ],
   "metadata": {
    "collapsed": false,
    "ExecuteTime": {
     "end_time": "2023-07-25T06:45:57.545234800Z",
     "start_time": "2023-07-25T06:45:57.452300Z"
    }
   }
  },
  {
   "cell_type": "markdown",
   "source": [
    "*Note: The above command has many optional arguments to fine-tune the data import process...*\n",
    "\n",
    "There is a number of `Pandas` commands to read other data formats:\n",
    "```python\n",
    "pd.read_excel(\"<my-file>.xlsx\", sheet_name = \"<sheet-name>\", index_col = None, na_vlalues = [\"NA\"])\n",
    "\n",
    "pd.read_stata(\"<my-file>.dta\")\n",
    "\n",
    "pd.read_sas(\"<my-file>.sas7bdat\")\n",
    "\n",
    "pd.read_hdf(\"<my-file>.h5\", \"df\")\n",
    "```"
   ],
   "metadata": {
    "collapsed": false
   }
  },
  {
   "cell_type": "markdown",
   "source": [
    "## 3.3. Exploring DataFrame"
   ],
   "metadata": {
    "collapsed": false
   }
  },
  {
   "cell_type": "code",
   "execution_count": 4,
   "outputs": [
    {
     "data": {
      "text/plain": "    Age  Gender Education Level          Job Title  Years of Experience  \\\n0  32.0    Male      Bachelor's  Software Engineer                  5.0   \n1  28.0  Female        Master's       Data Analyst                  3.0   \n2  45.0    Male             PhD     Senior Manager                 15.0   \n3  36.0  Female      Bachelor's    Sales Associate                  7.0   \n4  52.0    Male        Master's           Director                 20.0   \n\n     Salary  \n0   90000.0  \n1   65000.0  \n2  150000.0  \n3   60000.0  \n4  200000.0  ",
      "text/html": "<div>\n<style scoped>\n    .dataframe tbody tr th:only-of-type {\n        vertical-align: middle;\n    }\n\n    .dataframe tbody tr th {\n        vertical-align: top;\n    }\n\n    .dataframe thead th {\n        text-align: right;\n    }\n</style>\n<table border=\"1\" class=\"dataframe\">\n  <thead>\n    <tr style=\"text-align: right;\">\n      <th></th>\n      <th>Age</th>\n      <th>Gender</th>\n      <th>Education Level</th>\n      <th>Job Title</th>\n      <th>Years of Experience</th>\n      <th>Salary</th>\n    </tr>\n  </thead>\n  <tbody>\n    <tr>\n      <th>0</th>\n      <td>32.0</td>\n      <td>Male</td>\n      <td>Bachelor's</td>\n      <td>Software Engineer</td>\n      <td>5.0</td>\n      <td>90000.0</td>\n    </tr>\n    <tr>\n      <th>1</th>\n      <td>28.0</td>\n      <td>Female</td>\n      <td>Master's</td>\n      <td>Data Analyst</td>\n      <td>3.0</td>\n      <td>65000.0</td>\n    </tr>\n    <tr>\n      <th>2</th>\n      <td>45.0</td>\n      <td>Male</td>\n      <td>PhD</td>\n      <td>Senior Manager</td>\n      <td>15.0</td>\n      <td>150000.0</td>\n    </tr>\n    <tr>\n      <th>3</th>\n      <td>36.0</td>\n      <td>Female</td>\n      <td>Bachelor's</td>\n      <td>Sales Associate</td>\n      <td>7.0</td>\n      <td>60000.0</td>\n    </tr>\n    <tr>\n      <th>4</th>\n      <td>52.0</td>\n      <td>Male</td>\n      <td>Master's</td>\n      <td>Director</td>\n      <td>20.0</td>\n      <td>200000.0</td>\n    </tr>\n  </tbody>\n</table>\n</div>"
     },
     "execution_count": 4,
     "metadata": {},
     "output_type": "execute_result"
    }
   ],
   "source": [
    "# First 5 Records\n",
    "df.head()"
   ],
   "metadata": {
    "collapsed": false,
    "ExecuteTime": {
     "end_time": "2023-07-25T06:45:57.643625100Z",
     "start_time": "2023-07-25T06:45:57.476083900Z"
    }
   }
  },
  {
   "cell_type": "code",
   "execution_count": 5,
   "outputs": [
    {
     "data": {
      "text/plain": "    Age  Gender Education Level              Job Title  Years of Experience  \\\n0  32.0    Male      Bachelor's      Software Engineer                  5.0   \n1  28.0  Female        Master's           Data Analyst                  3.0   \n2  45.0    Male             PhD         Senior Manager                 15.0   \n3  36.0  Female      Bachelor's        Sales Associate                  7.0   \n4  52.0    Male        Master's               Director                 20.0   \n5  29.0    Male      Bachelor's      Marketing Analyst                  2.0   \n6  42.0  Female        Master's        Product Manager                 12.0   \n7  31.0    Male      Bachelor's          Sales Manager                  4.0   \n8  26.0  Female      Bachelor's  Marketing Coordinator                  1.0   \n9  38.0    Male             PhD       Senior Scientist                 10.0   \n\n     Salary  \n0   90000.0  \n1   65000.0  \n2  150000.0  \n3   60000.0  \n4  200000.0  \n5   55000.0  \n6  120000.0  \n7   80000.0  \n8   45000.0  \n9  110000.0  ",
      "text/html": "<div>\n<style scoped>\n    .dataframe tbody tr th:only-of-type {\n        vertical-align: middle;\n    }\n\n    .dataframe tbody tr th {\n        vertical-align: top;\n    }\n\n    .dataframe thead th {\n        text-align: right;\n    }\n</style>\n<table border=\"1\" class=\"dataframe\">\n  <thead>\n    <tr style=\"text-align: right;\">\n      <th></th>\n      <th>Age</th>\n      <th>Gender</th>\n      <th>Education Level</th>\n      <th>Job Title</th>\n      <th>Years of Experience</th>\n      <th>Salary</th>\n    </tr>\n  </thead>\n  <tbody>\n    <tr>\n      <th>0</th>\n      <td>32.0</td>\n      <td>Male</td>\n      <td>Bachelor's</td>\n      <td>Software Engineer</td>\n      <td>5.0</td>\n      <td>90000.0</td>\n    </tr>\n    <tr>\n      <th>1</th>\n      <td>28.0</td>\n      <td>Female</td>\n      <td>Master's</td>\n      <td>Data Analyst</td>\n      <td>3.0</td>\n      <td>65000.0</td>\n    </tr>\n    <tr>\n      <th>2</th>\n      <td>45.0</td>\n      <td>Male</td>\n      <td>PhD</td>\n      <td>Senior Manager</td>\n      <td>15.0</td>\n      <td>150000.0</td>\n    </tr>\n    <tr>\n      <th>3</th>\n      <td>36.0</td>\n      <td>Female</td>\n      <td>Bachelor's</td>\n      <td>Sales Associate</td>\n      <td>7.0</td>\n      <td>60000.0</td>\n    </tr>\n    <tr>\n      <th>4</th>\n      <td>52.0</td>\n      <td>Male</td>\n      <td>Master's</td>\n      <td>Director</td>\n      <td>20.0</td>\n      <td>200000.0</td>\n    </tr>\n    <tr>\n      <th>5</th>\n      <td>29.0</td>\n      <td>Male</td>\n      <td>Bachelor's</td>\n      <td>Marketing Analyst</td>\n      <td>2.0</td>\n      <td>55000.0</td>\n    </tr>\n    <tr>\n      <th>6</th>\n      <td>42.0</td>\n      <td>Female</td>\n      <td>Master's</td>\n      <td>Product Manager</td>\n      <td>12.0</td>\n      <td>120000.0</td>\n    </tr>\n    <tr>\n      <th>7</th>\n      <td>31.0</td>\n      <td>Male</td>\n      <td>Bachelor's</td>\n      <td>Sales Manager</td>\n      <td>4.0</td>\n      <td>80000.0</td>\n    </tr>\n    <tr>\n      <th>8</th>\n      <td>26.0</td>\n      <td>Female</td>\n      <td>Bachelor's</td>\n      <td>Marketing Coordinator</td>\n      <td>1.0</td>\n      <td>45000.0</td>\n    </tr>\n    <tr>\n      <th>9</th>\n      <td>38.0</td>\n      <td>Male</td>\n      <td>PhD</td>\n      <td>Senior Scientist</td>\n      <td>10.0</td>\n      <td>110000.0</td>\n    </tr>\n  </tbody>\n</table>\n</div>"
     },
     "execution_count": 5,
     "metadata": {},
     "output_type": "execute_result"
    }
   ],
   "source": [
    "# First 10 Records\n",
    "df.head(10)"
   ],
   "metadata": {
    "collapsed": false,
    "ExecuteTime": {
     "end_time": "2023-07-25T06:45:57.764482100Z",
     "start_time": "2023-07-25T06:45:57.590629200Z"
    }
   }
  },
  {
   "cell_type": "code",
   "execution_count": 6,
   "outputs": [
    {
     "data": {
      "text/plain": "      Age  Gender Education Level                      Job Title  \\\n370  35.0  Female      Bachelor's       Senior Marketing Analyst   \n371  43.0    Male        Master's         Director of Operations   \n372  29.0  Female      Bachelor's         Junior Project Manager   \n373  34.0    Male      Bachelor's  Senior Operations Coordinator   \n374  44.0  Female             PhD        Senior Business Analyst   \n\n     Years of Experience    Salary  \n370                  8.0   85000.0  \n371                 19.0  170000.0  \n372                  2.0   40000.0  \n373                  7.0   90000.0  \n374                 15.0  150000.0  ",
      "text/html": "<div>\n<style scoped>\n    .dataframe tbody tr th:only-of-type {\n        vertical-align: middle;\n    }\n\n    .dataframe tbody tr th {\n        vertical-align: top;\n    }\n\n    .dataframe thead th {\n        text-align: right;\n    }\n</style>\n<table border=\"1\" class=\"dataframe\">\n  <thead>\n    <tr style=\"text-align: right;\">\n      <th></th>\n      <th>Age</th>\n      <th>Gender</th>\n      <th>Education Level</th>\n      <th>Job Title</th>\n      <th>Years of Experience</th>\n      <th>Salary</th>\n    </tr>\n  </thead>\n  <tbody>\n    <tr>\n      <th>370</th>\n      <td>35.0</td>\n      <td>Female</td>\n      <td>Bachelor's</td>\n      <td>Senior Marketing Analyst</td>\n      <td>8.0</td>\n      <td>85000.0</td>\n    </tr>\n    <tr>\n      <th>371</th>\n      <td>43.0</td>\n      <td>Male</td>\n      <td>Master's</td>\n      <td>Director of Operations</td>\n      <td>19.0</td>\n      <td>170000.0</td>\n    </tr>\n    <tr>\n      <th>372</th>\n      <td>29.0</td>\n      <td>Female</td>\n      <td>Bachelor's</td>\n      <td>Junior Project Manager</td>\n      <td>2.0</td>\n      <td>40000.0</td>\n    </tr>\n    <tr>\n      <th>373</th>\n      <td>34.0</td>\n      <td>Male</td>\n      <td>Bachelor's</td>\n      <td>Senior Operations Coordinator</td>\n      <td>7.0</td>\n      <td>90000.0</td>\n    </tr>\n    <tr>\n      <th>374</th>\n      <td>44.0</td>\n      <td>Female</td>\n      <td>PhD</td>\n      <td>Senior Business Analyst</td>\n      <td>15.0</td>\n      <td>150000.0</td>\n    </tr>\n  </tbody>\n</table>\n</div>"
     },
     "execution_count": 6,
     "metadata": {},
     "output_type": "execute_result"
    }
   ],
   "source": [
    "# ? Last 5 Records\n",
    "df.tail()"
   ],
   "metadata": {
    "collapsed": false,
    "ExecuteTime": {
     "end_time": "2023-07-25T06:45:57.829919700Z",
     "start_time": "2023-07-25T06:45:57.591639500Z"
    }
   }
  },
  {
   "cell_type": "code",
   "execution_count": 7,
   "outputs": [
    {
     "data": {
      "text/plain": "      Age  Gender Education Level                      Job Title  \\\n365  43.0    Male        Master's          Director of Marketing   \n366  31.0  Female      Bachelor's       Junior Financial Analyst   \n367  41.0    Male      Bachelor's         Senior Product Manager   \n368  44.0  Female             PhD           Senior Data Engineer   \n369  33.0    Male      Bachelor's        Junior Business Analyst   \n370  35.0  Female      Bachelor's       Senior Marketing Analyst   \n371  43.0    Male        Master's         Director of Operations   \n372  29.0  Female      Bachelor's         Junior Project Manager   \n373  34.0    Male      Bachelor's  Senior Operations Coordinator   \n374  44.0  Female             PhD        Senior Business Analyst   \n\n     Years of Experience    Salary  \n365                 18.0  170000.0  \n366                  3.0   50000.0  \n367                 14.0  150000.0  \n368                 16.0  160000.0  \n369                  4.0   60000.0  \n370                  8.0   85000.0  \n371                 19.0  170000.0  \n372                  2.0   40000.0  \n373                  7.0   90000.0  \n374                 15.0  150000.0  ",
      "text/html": "<div>\n<style scoped>\n    .dataframe tbody tr th:only-of-type {\n        vertical-align: middle;\n    }\n\n    .dataframe tbody tr th {\n        vertical-align: top;\n    }\n\n    .dataframe thead th {\n        text-align: right;\n    }\n</style>\n<table border=\"1\" class=\"dataframe\">\n  <thead>\n    <tr style=\"text-align: right;\">\n      <th></th>\n      <th>Age</th>\n      <th>Gender</th>\n      <th>Education Level</th>\n      <th>Job Title</th>\n      <th>Years of Experience</th>\n      <th>Salary</th>\n    </tr>\n  </thead>\n  <tbody>\n    <tr>\n      <th>365</th>\n      <td>43.0</td>\n      <td>Male</td>\n      <td>Master's</td>\n      <td>Director of Marketing</td>\n      <td>18.0</td>\n      <td>170000.0</td>\n    </tr>\n    <tr>\n      <th>366</th>\n      <td>31.0</td>\n      <td>Female</td>\n      <td>Bachelor's</td>\n      <td>Junior Financial Analyst</td>\n      <td>3.0</td>\n      <td>50000.0</td>\n    </tr>\n    <tr>\n      <th>367</th>\n      <td>41.0</td>\n      <td>Male</td>\n      <td>Bachelor's</td>\n      <td>Senior Product Manager</td>\n      <td>14.0</td>\n      <td>150000.0</td>\n    </tr>\n    <tr>\n      <th>368</th>\n      <td>44.0</td>\n      <td>Female</td>\n      <td>PhD</td>\n      <td>Senior Data Engineer</td>\n      <td>16.0</td>\n      <td>160000.0</td>\n    </tr>\n    <tr>\n      <th>369</th>\n      <td>33.0</td>\n      <td>Male</td>\n      <td>Bachelor's</td>\n      <td>Junior Business Analyst</td>\n      <td>4.0</td>\n      <td>60000.0</td>\n    </tr>\n    <tr>\n      <th>370</th>\n      <td>35.0</td>\n      <td>Female</td>\n      <td>Bachelor's</td>\n      <td>Senior Marketing Analyst</td>\n      <td>8.0</td>\n      <td>85000.0</td>\n    </tr>\n    <tr>\n      <th>371</th>\n      <td>43.0</td>\n      <td>Male</td>\n      <td>Master's</td>\n      <td>Director of Operations</td>\n      <td>19.0</td>\n      <td>170000.0</td>\n    </tr>\n    <tr>\n      <th>372</th>\n      <td>29.0</td>\n      <td>Female</td>\n      <td>Bachelor's</td>\n      <td>Junior Project Manager</td>\n      <td>2.0</td>\n      <td>40000.0</td>\n    </tr>\n    <tr>\n      <th>373</th>\n      <td>34.0</td>\n      <td>Male</td>\n      <td>Bachelor's</td>\n      <td>Senior Operations Coordinator</td>\n      <td>7.0</td>\n      <td>90000.0</td>\n    </tr>\n    <tr>\n      <th>374</th>\n      <td>44.0</td>\n      <td>Female</td>\n      <td>PhD</td>\n      <td>Senior Business Analyst</td>\n      <td>15.0</td>\n      <td>150000.0</td>\n    </tr>\n  </tbody>\n</table>\n</div>"
     },
     "execution_count": 7,
     "metadata": {},
     "output_type": "execute_result"
    }
   ],
   "source": [
    "# ? Last 10 Records\n",
    "df.tail(10)"
   ],
   "metadata": {
    "collapsed": false,
    "ExecuteTime": {
     "end_time": "2023-07-25T06:45:57.942152300Z",
     "start_time": "2023-07-25T06:45:57.644625500Z"
    }
   }
  },
  {
   "cell_type": "markdown",
   "source": [
    "# 4. DataFrame"
   ],
   "metadata": {
    "collapsed": false
   }
  },
  {
   "cell_type": "markdown",
   "source": [
    "## 4.1. DataFrame Data Types\n",
    "\n",
    "| Pandas Type                   | Native Python Type                                               | Description                                                                                                                                        |\n",
    "|-------------------------------|------------------------------------------------------------------|----------------------------------------------------------------------------------------------------------------------------------------------------|\n",
    "| `object`                      | `string`                                                         | The most general dtype. Will be assigned to your column if column has mixed types (numbers and strings).                                           |\n",
    "| `int64`                       | `int`                                                            | Numeric characters. 64 refers to the memory allocated to hold this character.                                                                      |\n",
    "| `float64`                     | `float`                                                          | Numeric characters with decimals. If a column contains numbers and NaNs, pandas will default to float64, in case your missing value has a decimal. |\n",
    "| `datetime64`, `timedelta[ns]` | `N/A` (but see the datetime module in Python’s standard library) | Values meant to hold time data. Look into these for time series experiments.                                                                       |"
   ],
   "metadata": {
    "collapsed": false
   }
  },
  {
   "cell_type": "code",
   "execution_count": 8,
   "outputs": [
    {
     "data": {
      "text/plain": "dtype('float64')"
     },
     "execution_count": 8,
     "metadata": {},
     "output_type": "execute_result"
    }
   ],
   "source": [
    "# Check a particular column type\n",
    "df[\"Salary\"].dtype"
   ],
   "metadata": {
    "collapsed": false,
    "ExecuteTime": {
     "end_time": "2023-07-25T06:45:58.171824200Z",
     "start_time": "2023-07-25T06:45:57.714726700Z"
    }
   }
  },
  {
   "cell_type": "code",
   "execution_count": 9,
   "outputs": [
    {
     "data": {
      "text/plain": "Age                    float64\nGender                  object\nEducation Level         object\nJob Title               object\nYears of Experience    float64\nSalary                 float64\ndtype: object"
     },
     "execution_count": 9,
     "metadata": {},
     "output_type": "execute_result"
    }
   ],
   "source": [
    "# Check types for all the columns\n",
    "df.dtypes"
   ],
   "metadata": {
    "collapsed": false,
    "ExecuteTime": {
     "end_time": "2023-07-25T06:45:58.309726500Z",
     "start_time": "2023-07-25T06:45:57.774525900Z"
    }
   }
  },
  {
   "cell_type": "markdown",
   "source": [
    "## 4.2. DataFrame Attributes\n",
    "Python objects have *attributes*:\n",
    "\n",
    "| DataFrame Attribute | Description                                       |\n",
    "|---------------------|---------------------------------------------------|\n",
    "| `dtypes`            | List the *types of the columns*.                  |\n",
    "| `columns`           | List the *column names*.                          |\n",
    "| `axes`              | List the *row labels* and *columns names*.        |\n",
    "| `ndim`              | Number of *dimensions*.                           |\n",
    "| `size`              | Number of *elements*.                             |\n",
    "| `shape`             | Return a tuple representing the *dimensionality*. |\n",
    "| `values`            | NumPy representation of the *data*.               |"
   ],
   "metadata": {
    "collapsed": false
   }
  },
  {
   "cell_type": "code",
   "execution_count": 10,
   "outputs": [
    {
     "data": {
      "text/plain": "375"
     },
     "execution_count": 10,
     "metadata": {},
     "output_type": "execute_result"
    }
   ],
   "source": [
    "# Total number of records\n",
    "df.shape[0]"
   ],
   "metadata": {
    "collapsed": false,
    "ExecuteTime": {
     "end_time": "2023-07-25T06:45:58.639824400Z",
     "start_time": "2023-07-25T06:45:57.776529700Z"
    }
   }
  },
  {
   "cell_type": "code",
   "execution_count": 11,
   "outputs": [
    {
     "data": {
      "text/plain": "2250"
     },
     "execution_count": 11,
     "metadata": {},
     "output_type": "execute_result"
    }
   ],
   "source": [
    "# Total number of elements\n",
    "df.size"
   ],
   "metadata": {
    "collapsed": false,
    "ExecuteTime": {
     "end_time": "2023-07-25T06:45:58.737180400Z",
     "start_time": "2023-07-25T06:45:57.798728400Z"
    }
   }
  },
  {
   "cell_type": "code",
   "execution_count": 12,
   "outputs": [
    {
     "data": {
      "text/plain": "Index(['Age', 'Gender', 'Education Level', 'Job Title', 'Years of Experience',\n       'Salary'],\n      dtype='object')"
     },
     "execution_count": 12,
     "metadata": {},
     "output_type": "execute_result"
    }
   ],
   "source": [
    "# Column names\n",
    "df.columns"
   ],
   "metadata": {
    "collapsed": false,
    "ExecuteTime": {
     "end_time": "2023-07-25T06:45:58.861354200Z",
     "start_time": "2023-07-25T06:45:57.943153400Z"
    }
   }
  },
  {
   "cell_type": "code",
   "execution_count": 13,
   "outputs": [
    {
     "data": {
      "text/plain": "Age                    float64\nGender                  object\nEducation Level         object\nJob Title               object\nYears of Experience    float64\nSalary                 float64\ndtype: object"
     },
     "execution_count": 13,
     "metadata": {},
     "output_type": "execute_result"
    }
   ],
   "source": [
    "# All columns data types\n",
    "df.dtypes"
   ],
   "metadata": {
    "collapsed": false,
    "ExecuteTime": {
     "end_time": "2023-07-25T06:45:58.958446300Z",
     "start_time": "2023-07-25T06:45:57.944154400Z"
    }
   }
  },
  {
   "cell_type": "markdown",
   "source": [
    "## 4.3. DataFrame Methods"
   ],
   "metadata": {
    "collapsed": false
   }
  },
  {
   "cell_type": "markdown",
   "source": [
    "| DataFrame Method         | Description                                                   |\n",
    "|--------------------------|---------------------------------------------------------------|\n",
    "| `head([n])`, `tail([n])` | *first*/*last* n rows.                                        |\n",
    "| `describe()`             | Generate descriptive *statistics* (for numeric columns only). |\n",
    "| `max()`, `min()`         | Return *max*/*min* values for all numeric columns.            |\n",
    "| `mean()`, `median()`     | Return *mean*/*median* values for all numeric columns.        |\n",
    "| `std()`                  | *Standard Deviation*.                                         |\n",
    "| `sample([n])`            | Returns a *random sample* of the DataFrame.                   |\n",
    "| `dropna()`               | *Drop* all the records with *missing values*.                 |"
   ],
   "metadata": {
    "collapsed": false
   }
  },
  {
   "cell_type": "markdown",
   "source": [
    "*All attributes and methods can be listed with a `dir()` function ...*\n",
    "```python\n",
    "dir(df)\n",
    "```"
   ],
   "metadata": {
    "collapsed": false
   }
  },
  {
   "cell_type": "code",
   "execution_count": 14,
   "outputs": [
    {
     "data": {
      "text/plain": "              Age  Years of Experience         Salary\ncount  373.000000           373.000000     373.000000\nmean    37.431635            10.030831  100577.345845\nstd      7.069073             6.557007   48240.013482\nmin     23.000000             0.000000     350.000000\n25%     31.000000             4.000000   55000.000000\n50%     36.000000             9.000000   95000.000000\n75%     44.000000            15.000000  140000.000000\nmax     53.000000            25.000000  250000.000000",
      "text/html": "<div>\n<style scoped>\n    .dataframe tbody tr th:only-of-type {\n        vertical-align: middle;\n    }\n\n    .dataframe tbody tr th {\n        vertical-align: top;\n    }\n\n    .dataframe thead th {\n        text-align: right;\n    }\n</style>\n<table border=\"1\" class=\"dataframe\">\n  <thead>\n    <tr style=\"text-align: right;\">\n      <th></th>\n      <th>Age</th>\n      <th>Years of Experience</th>\n      <th>Salary</th>\n    </tr>\n  </thead>\n  <tbody>\n    <tr>\n      <th>count</th>\n      <td>373.000000</td>\n      <td>373.000000</td>\n      <td>373.000000</td>\n    </tr>\n    <tr>\n      <th>mean</th>\n      <td>37.431635</td>\n      <td>10.030831</td>\n      <td>100577.345845</td>\n    </tr>\n    <tr>\n      <th>std</th>\n      <td>7.069073</td>\n      <td>6.557007</td>\n      <td>48240.013482</td>\n    </tr>\n    <tr>\n      <th>min</th>\n      <td>23.000000</td>\n      <td>0.000000</td>\n      <td>350.000000</td>\n    </tr>\n    <tr>\n      <th>25%</th>\n      <td>31.000000</td>\n      <td>4.000000</td>\n      <td>55000.000000</td>\n    </tr>\n    <tr>\n      <th>50%</th>\n      <td>36.000000</td>\n      <td>9.000000</td>\n      <td>95000.000000</td>\n    </tr>\n    <tr>\n      <th>75%</th>\n      <td>44.000000</td>\n      <td>15.000000</td>\n      <td>140000.000000</td>\n    </tr>\n    <tr>\n      <th>max</th>\n      <td>53.000000</td>\n      <td>25.000000</td>\n      <td>250000.000000</td>\n    </tr>\n  </tbody>\n</table>\n</div>"
     },
     "execution_count": 14,
     "metadata": {},
     "output_type": "execute_result"
    }
   ],
   "source": [
    "# Summary Description of numeric columns\n",
    "df.describe()"
   ],
   "metadata": {
    "collapsed": false,
    "ExecuteTime": {
     "end_time": "2023-07-25T06:45:59.022583500Z",
     "start_time": "2023-07-25T06:45:57.945154400Z"
    }
   }
  },
  {
   "cell_type": "code",
   "execution_count": 15,
   "outputs": [
    {
     "data": {
      "text/plain": "Age                        7.069073\nYears of Experience        6.557007\nSalary                 48240.013482\ndtype: float64"
     },
     "execution_count": 15,
     "metadata": {},
     "output_type": "execute_result"
    }
   ],
   "source": [
    "# Standard Deviation\n",
    "df.std()"
   ],
   "metadata": {
    "collapsed": false,
    "ExecuteTime": {
     "end_time": "2023-07-25T06:45:59.066095100Z",
     "start_time": "2023-07-25T06:45:57.945154400Z"
    }
   }
  },
  {
   "cell_type": "code",
   "execution_count": 16,
   "outputs": [
    {
     "data": {
      "text/plain": "Age                       36.28\nYears of Experience        9.02\nSalary                 98100.00\ndtype: float64"
     },
     "execution_count": 16,
     "metadata": {},
     "output_type": "execute_result"
    }
   ],
   "source": [
    "# Mean values of the first 50 records\n",
    "df[:50].mean()"
   ],
   "metadata": {
    "collapsed": false,
    "ExecuteTime": {
     "end_time": "2023-07-25T06:45:59.164381700Z",
     "start_time": "2023-07-25T06:45:58.082651900Z"
    }
   }
  },
  {
   "cell_type": "markdown",
   "source": [
    "## 4.4. Selecting a Column in a DataFrame"
   ],
   "metadata": {
    "collapsed": false
   }
  },
  {
   "cell_type": "code",
   "execution_count": 17,
   "outputs": [
    {
     "data": {
      "text/plain": "0        Male\n1      Female\n2        Male\n3      Female\n4        Male\n        ...  \n370    Female\n371      Male\n372    Female\n373      Male\n374    Female\nName: Gender, Length: 375, dtype: object"
     },
     "execution_count": 17,
     "metadata": {},
     "output_type": "execute_result"
    }
   ],
   "source": [
    "# Method 1: Subset the DataFrame using column name\n",
    "df[\"Gender\"]"
   ],
   "metadata": {
    "collapsed": false,
    "ExecuteTime": {
     "end_time": "2023-07-25T06:45:59.233657100Z",
     "start_time": "2023-07-25T06:45:58.083654400Z"
    }
   }
  },
  {
   "cell_type": "code",
   "execution_count": 18,
   "outputs": [
    {
     "data": {
      "text/plain": "0        Male\n1      Female\n2        Male\n3      Female\n4        Male\n        ...  \n370    Female\n371      Male\n372    Female\n373      Male\n374    Female\nName: Gender, Length: 375, dtype: object"
     },
     "execution_count": 18,
     "metadata": {},
     "output_type": "execute_result"
    }
   ],
   "source": [
    "# Method 2: Use the column name as an attribute\n",
    "df.Gender"
   ],
   "metadata": {
    "collapsed": false,
    "ExecuteTime": {
     "end_time": "2023-07-25T06:45:59.306589600Z",
     "start_time": "2023-07-25T06:45:58.083654400Z"
    }
   }
  },
  {
   "cell_type": "markdown",
   "source": [
    "### 4.4.1. Description of a column"
   ],
   "metadata": {
    "collapsed": false
   }
  },
  {
   "cell_type": "code",
   "execution_count": 19,
   "outputs": [
    {
     "data": {
      "text/plain": "count       373.000000\nmean     100577.345845\nstd       48240.013482\nmin         350.000000\n25%       55000.000000\n50%       95000.000000\n75%      140000.000000\nmax      250000.000000\nName: Salary, dtype: float64"
     },
     "execution_count": 19,
     "metadata": {},
     "output_type": "execute_result"
    }
   ],
   "source": [
    "# Basic Statistics of the Salary column\n",
    "df[\"Salary\"].describe()"
   ],
   "metadata": {
    "collapsed": false,
    "ExecuteTime": {
     "end_time": "2023-07-25T06:45:59.393845700Z",
     "start_time": "2023-07-25T06:45:58.083654400Z"
    }
   }
  },
  {
   "cell_type": "code",
   "execution_count": 20,
   "outputs": [
    {
     "data": {
      "text/plain": "373"
     },
     "execution_count": 20,
     "metadata": {},
     "output_type": "execute_result"
    }
   ],
   "source": [
    "# Values count of the Salary column\n",
    "df[\"Salary\"].count()"
   ],
   "metadata": {
    "collapsed": false,
    "ExecuteTime": {
     "end_time": "2023-07-25T06:45:59.465372400Z",
     "start_time": "2023-07-25T06:45:58.120141100Z"
    }
   }
  },
  {
   "cell_type": "code",
   "execution_count": 21,
   "outputs": [
    {
     "data": {
      "text/plain": "100577.34584450402"
     },
     "execution_count": 21,
     "metadata": {},
     "output_type": "execute_result"
    }
   ],
   "source": [
    "# Average salary from the Salary column\n",
    "df[\"Salary\"].mean()"
   ],
   "metadata": {
    "collapsed": false,
    "ExecuteTime": {
     "end_time": "2023-07-25T06:45:59.524069800Z",
     "start_time": "2023-07-25T06:45:58.121154100Z"
    }
   }
  },
  {
   "cell_type": "markdown",
   "source": [
    "## 4.5. DataFrame groupby Method"
   ],
   "metadata": {
    "collapsed": false
   }
  },
  {
   "cell_type": "markdown",
   "source": [
    "Using `groupby` method we can:\n",
    "* Split the data into groups based on some criteria.\n",
    "* Calculate statistics or apply a function to each group.\n",
    "* Similar to `dplyr()` function in [R](https://www.r-project.org/)."
   ],
   "metadata": {
    "collapsed": false
   }
  },
  {
   "cell_type": "code",
   "execution_count": 22,
   "outputs": [],
   "source": [
    "# Group data using Education Level\n",
    "df_education_level = df.groupby([\"Education Level\"])"
   ],
   "metadata": {
    "collapsed": false,
    "ExecuteTime": {
     "end_time": "2023-07-25T06:45:59.563188900Z",
     "start_time": "2023-07-25T06:45:58.237475600Z"
    }
   }
  },
  {
   "cell_type": "code",
   "execution_count": 23,
   "outputs": [
    {
     "data": {
      "text/plain": "                       Age  Years of Experience         Salary\nEducation Level                                               \nBachelor's       34.312500             6.966518   74756.026786\nMaster's         40.765306            13.397959  129795.918367\nPhD              44.725490            17.019608  157843.137255",
      "text/html": "<div>\n<style scoped>\n    .dataframe tbody tr th:only-of-type {\n        vertical-align: middle;\n    }\n\n    .dataframe tbody tr th {\n        vertical-align: top;\n    }\n\n    .dataframe thead th {\n        text-align: right;\n    }\n</style>\n<table border=\"1\" class=\"dataframe\">\n  <thead>\n    <tr style=\"text-align: right;\">\n      <th></th>\n      <th>Age</th>\n      <th>Years of Experience</th>\n      <th>Salary</th>\n    </tr>\n    <tr>\n      <th>Education Level</th>\n      <th></th>\n      <th></th>\n      <th></th>\n    </tr>\n  </thead>\n  <tbody>\n    <tr>\n      <th>Bachelor's</th>\n      <td>34.312500</td>\n      <td>6.966518</td>\n      <td>74756.026786</td>\n    </tr>\n    <tr>\n      <th>Master's</th>\n      <td>40.765306</td>\n      <td>13.397959</td>\n      <td>129795.918367</td>\n    </tr>\n    <tr>\n      <th>PhD</th>\n      <td>44.725490</td>\n      <td>17.019608</td>\n      <td>157843.137255</td>\n    </tr>\n  </tbody>\n</table>\n</div>"
     },
     "execution_count": 23,
     "metadata": {},
     "output_type": "execute_result"
    }
   ],
   "source": [
    "# Calculate mean value for each numeric column per each group\n",
    "df_education_level.mean()"
   ],
   "metadata": {
    "collapsed": false,
    "ExecuteTime": {
     "end_time": "2023-07-25T06:45:59.606827200Z",
     "start_time": "2023-07-25T06:45:58.238480300Z"
    }
   }
  },
  {
   "cell_type": "markdown",
   "source": [
    "Once `groupby` object is created we can calculate various statistics for each group ..."
   ],
   "metadata": {
    "collapsed": false
   }
  },
  {
   "cell_type": "code",
   "execution_count": 24,
   "outputs": [
    {
     "data": {
      "text/plain": "                        Salary\nEducation Level               \nBachelor's        74756.026786\nMaster's         129795.918367\nPhD              157843.137255",
      "text/html": "<div>\n<style scoped>\n    .dataframe tbody tr th:only-of-type {\n        vertical-align: middle;\n    }\n\n    .dataframe tbody tr th {\n        vertical-align: top;\n    }\n\n    .dataframe thead th {\n        text-align: right;\n    }\n</style>\n<table border=\"1\" class=\"dataframe\">\n  <thead>\n    <tr style=\"text-align: right;\">\n      <th></th>\n      <th>Salary</th>\n    </tr>\n    <tr>\n      <th>Education Level</th>\n      <th></th>\n    </tr>\n  </thead>\n  <tbody>\n    <tr>\n      <th>Bachelor's</th>\n      <td>74756.026786</td>\n    </tr>\n    <tr>\n      <th>Master's</th>\n      <td>129795.918367</td>\n    </tr>\n    <tr>\n      <th>PhD</th>\n      <td>157843.137255</td>\n    </tr>\n  </tbody>\n</table>\n</div>"
     },
     "execution_count": 24,
     "metadata": {},
     "output_type": "execute_result"
    }
   ],
   "source": [
    "# Calculate mean Salary for each Education Level\n",
    "df.groupby(\"Education Level\")[[\"Salary\"]].mean()"
   ],
   "metadata": {
    "collapsed": false,
    "ExecuteTime": {
     "end_time": "2023-07-25T06:45:59.678143Z",
     "start_time": "2023-07-25T06:45:58.310725100Z"
    }
   }
  },
  {
   "cell_type": "markdown",
   "source": [
    "\n",
    "*Note: If `single brackets` are used to specify the column, then the output is `Pandas Series object`. When `double brackets` are used the output is a `DataFrame`.*"
   ],
   "metadata": {
    "collapsed": false
   }
  },
  {
   "cell_type": "markdown",
   "source": [
    "By default, the group keys are sorted during the `groupby` operation. You may want to pass `sort = False` for potential speedup."
   ],
   "metadata": {
    "collapsed": false
   }
  },
  {
   "cell_type": "code",
   "execution_count": 25,
   "outputs": [
    {
     "data": {
      "text/plain": "                        Salary\nEducation Level               \nBachelor's        74756.026786\nMaster's         129795.918367\nPhD              157843.137255",
      "text/html": "<div>\n<style scoped>\n    .dataframe tbody tr th:only-of-type {\n        vertical-align: middle;\n    }\n\n    .dataframe tbody tr th {\n        vertical-align: top;\n    }\n\n    .dataframe thead th {\n        text-align: right;\n    }\n</style>\n<table border=\"1\" class=\"dataframe\">\n  <thead>\n    <tr style=\"text-align: right;\">\n      <th></th>\n      <th>Salary</th>\n    </tr>\n    <tr>\n      <th>Education Level</th>\n      <th></th>\n    </tr>\n  </thead>\n  <tbody>\n    <tr>\n      <th>Bachelor's</th>\n      <td>74756.026786</td>\n    </tr>\n    <tr>\n      <th>Master's</th>\n      <td>129795.918367</td>\n    </tr>\n    <tr>\n      <th>PhD</th>\n      <td>157843.137255</td>\n    </tr>\n  </tbody>\n</table>\n</div>"
     },
     "execution_count": 25,
     "metadata": {},
     "output_type": "execute_result"
    }
   ],
   "source": [
    "# Calculate mean Salary for each Education Level\n",
    "df.groupby([\"Education Level\"], sort = False)[[\"Salary\"]].mean()"
   ],
   "metadata": {
    "collapsed": false,
    "ExecuteTime": {
     "end_time": "2023-07-25T06:45:59.784555500Z",
     "start_time": "2023-07-25T06:45:58.311734400Z"
    }
   }
  },
  {
   "cell_type": "markdown",
   "source": [
    "## 4.6. DataFrame: Filtering\n",
    "To subset the data, we can apply Boolean indexing. This indexing is commonly known as a filter."
   ],
   "metadata": {
    "collapsed": false
   }
  },
  {
   "cell_type": "markdown",
   "source": [
    "**Example:** *Subset the rows in which the salary value is greater than $120K.*"
   ],
   "metadata": {
    "collapsed": false
   }
  },
  {
   "cell_type": "code",
   "execution_count": 26,
   "outputs": [
    {
     "data": {
      "text/plain": "     Age  Gender Education Level           Job Title  Years of Experience  \\\n2   45.0    Male             PhD      Senior Manager                 15.0   \n4   52.0    Male        Master's            Director                 20.0   \n11  48.0  Female      Bachelor's          HR Manager                 18.0   \n13  40.0  Female        Master's     Project Manager                 14.0   \n15  44.0    Male      Bachelor's  Operations Manager                 16.0   \n\n      Salary  \n2   150000.0  \n4   200000.0  \n11  140000.0  \n13  130000.0  \n15  125000.0  ",
      "text/html": "<div>\n<style scoped>\n    .dataframe tbody tr th:only-of-type {\n        vertical-align: middle;\n    }\n\n    .dataframe tbody tr th {\n        vertical-align: top;\n    }\n\n    .dataframe thead th {\n        text-align: right;\n    }\n</style>\n<table border=\"1\" class=\"dataframe\">\n  <thead>\n    <tr style=\"text-align: right;\">\n      <th></th>\n      <th>Age</th>\n      <th>Gender</th>\n      <th>Education Level</th>\n      <th>Job Title</th>\n      <th>Years of Experience</th>\n      <th>Salary</th>\n    </tr>\n  </thead>\n  <tbody>\n    <tr>\n      <th>2</th>\n      <td>45.0</td>\n      <td>Male</td>\n      <td>PhD</td>\n      <td>Senior Manager</td>\n      <td>15.0</td>\n      <td>150000.0</td>\n    </tr>\n    <tr>\n      <th>4</th>\n      <td>52.0</td>\n      <td>Male</td>\n      <td>Master's</td>\n      <td>Director</td>\n      <td>20.0</td>\n      <td>200000.0</td>\n    </tr>\n    <tr>\n      <th>11</th>\n      <td>48.0</td>\n      <td>Female</td>\n      <td>Bachelor's</td>\n      <td>HR Manager</td>\n      <td>18.0</td>\n      <td>140000.0</td>\n    </tr>\n    <tr>\n      <th>13</th>\n      <td>40.0</td>\n      <td>Female</td>\n      <td>Master's</td>\n      <td>Project Manager</td>\n      <td>14.0</td>\n      <td>130000.0</td>\n    </tr>\n    <tr>\n      <th>15</th>\n      <td>44.0</td>\n      <td>Male</td>\n      <td>Bachelor's</td>\n      <td>Operations Manager</td>\n      <td>16.0</td>\n      <td>125000.0</td>\n    </tr>\n  </tbody>\n</table>\n</div>"
     },
     "execution_count": 26,
     "metadata": {},
     "output_type": "execute_result"
    }
   ],
   "source": [
    "# Salary greater than $120K\n",
    "df_greater_salary = df[df[\"Salary\"] > 120000]\n",
    "df_greater_salary.head()"
   ],
   "metadata": {
    "collapsed": false,
    "ExecuteTime": {
     "end_time": "2023-07-25T06:45:59.939971400Z",
     "start_time": "2023-07-25T06:45:58.400120600Z"
    }
   }
  },
  {
   "cell_type": "markdown",
   "source": [
    "*Any Boolean operator can be used to subset the data...*\n",
    "\n",
    "`> greater`\n",
    "\n",
    "`>= greater or equal`\n",
    "\n",
    "`< less`\n",
    "\n",
    "`<= less or equal`\n",
    "\n",
    "`== e`\n",
    "\n",
    "`!= not equal`"
   ],
   "metadata": {
    "collapsed": false
   }
  },
  {
   "cell_type": "code",
   "execution_count": 27,
   "outputs": [
    {
     "data": {
      "text/plain": "     Age  Gender Education Level              Job Title  Years of Experience  \\\n1   28.0  Female        Master's           Data Analyst                  3.0   \n3   36.0  Female      Bachelor's        Sales Associate                  7.0   \n6   42.0  Female        Master's        Product Manager                 12.0   \n8   26.0  Female      Bachelor's  Marketing Coordinator                  1.0   \n11  48.0  Female      Bachelor's             HR Manager                 18.0   \n\n      Salary  \n1    65000.0  \n3    60000.0  \n6   120000.0  \n8    45000.0  \n11  140000.0  ",
      "text/html": "<div>\n<style scoped>\n    .dataframe tbody tr th:only-of-type {\n        vertical-align: middle;\n    }\n\n    .dataframe tbody tr th {\n        vertical-align: top;\n    }\n\n    .dataframe thead th {\n        text-align: right;\n    }\n</style>\n<table border=\"1\" class=\"dataframe\">\n  <thead>\n    <tr style=\"text-align: right;\">\n      <th></th>\n      <th>Age</th>\n      <th>Gender</th>\n      <th>Education Level</th>\n      <th>Job Title</th>\n      <th>Years of Experience</th>\n      <th>Salary</th>\n    </tr>\n  </thead>\n  <tbody>\n    <tr>\n      <th>1</th>\n      <td>28.0</td>\n      <td>Female</td>\n      <td>Master's</td>\n      <td>Data Analyst</td>\n      <td>3.0</td>\n      <td>65000.0</td>\n    </tr>\n    <tr>\n      <th>3</th>\n      <td>36.0</td>\n      <td>Female</td>\n      <td>Bachelor's</td>\n      <td>Sales Associate</td>\n      <td>7.0</td>\n      <td>60000.0</td>\n    </tr>\n    <tr>\n      <th>6</th>\n      <td>42.0</td>\n      <td>Female</td>\n      <td>Master's</td>\n      <td>Product Manager</td>\n      <td>12.0</td>\n      <td>120000.0</td>\n    </tr>\n    <tr>\n      <th>8</th>\n      <td>26.0</td>\n      <td>Female</td>\n      <td>Bachelor's</td>\n      <td>Marketing Coordinator</td>\n      <td>1.0</td>\n      <td>45000.0</td>\n    </tr>\n    <tr>\n      <th>11</th>\n      <td>48.0</td>\n      <td>Female</td>\n      <td>Bachelor's</td>\n      <td>HR Manager</td>\n      <td>18.0</td>\n      <td>140000.0</td>\n    </tr>\n  </tbody>\n</table>\n</div>"
     },
     "execution_count": 27,
     "metadata": {},
     "output_type": "execute_result"
    }
   ],
   "source": [
    "# Select only those rows that contain only female\n",
    "df_female = df[df[\"Gender\"] == \"Female\"]\n",
    "df_female.head()"
   ],
   "metadata": {
    "collapsed": false,
    "ExecuteTime": {
     "end_time": "2023-07-25T06:45:59.963960600Z",
     "start_time": "2023-07-25T06:45:58.442542100Z"
    }
   }
  },
  {
   "cell_type": "markdown",
   "source": [
    "## 4.7. DataFrame: Slicing\n",
    "There are a number of ways to subset the DataFrame:\n",
    "* One or more columns\n",
    "* One or more rows\n",
    "* A subset of rows and columns\n",
    "\n",
    "*Rows and columns can be selected by their position or label ...*"
   ],
   "metadata": {
    "collapsed": false
   }
  },
  {
   "cell_type": "markdown",
   "source": [
    "*When selecting one column, it is possible to use single set of brackets, but the resulting object will be a Series, not a DataFrame.*"
   ],
   "metadata": {
    "collapsed": false
   }
  },
  {
   "cell_type": "code",
   "execution_count": 28,
   "outputs": [
    {
     "data": {
      "text/plain": "0       90000.0\n1       65000.0\n2      150000.0\n3       60000.0\n4      200000.0\n         ...   \n370     85000.0\n371    170000.0\n372     40000.0\n373     90000.0\n374    150000.0\nName: Salary, Length: 375, dtype: float64"
     },
     "execution_count": 28,
     "metadata": {},
     "output_type": "execute_result"
    }
   ],
   "source": [
    "# Select a single column with a single set of brackets\n",
    "df[\"Salary\"]"
   ],
   "metadata": {
    "collapsed": false,
    "ExecuteTime": {
     "end_time": "2023-07-25T06:45:59.964961Z",
     "start_time": "2023-07-25T06:45:58.519608800Z"
    }
   }
  },
  {
   "cell_type": "code",
   "execution_count": 29,
   "outputs": [
    {
     "data": {
      "text/plain": "       Salary\n0     90000.0\n1     65000.0\n2    150000.0\n3     60000.0\n4    200000.0\n..        ...\n370   85000.0\n371  170000.0\n372   40000.0\n373   90000.0\n374  150000.0\n\n[375 rows x 1 columns]",
      "text/html": "<div>\n<style scoped>\n    .dataframe tbody tr th:only-of-type {\n        vertical-align: middle;\n    }\n\n    .dataframe tbody tr th {\n        vertical-align: top;\n    }\n\n    .dataframe thead th {\n        text-align: right;\n    }\n</style>\n<table border=\"1\" class=\"dataframe\">\n  <thead>\n    <tr style=\"text-align: right;\">\n      <th></th>\n      <th>Salary</th>\n    </tr>\n  </thead>\n  <tbody>\n    <tr>\n      <th>0</th>\n      <td>90000.0</td>\n    </tr>\n    <tr>\n      <th>1</th>\n      <td>65000.0</td>\n    </tr>\n    <tr>\n      <th>2</th>\n      <td>150000.0</td>\n    </tr>\n    <tr>\n      <th>3</th>\n      <td>60000.0</td>\n    </tr>\n    <tr>\n      <th>4</th>\n      <td>200000.0</td>\n    </tr>\n    <tr>\n      <th>...</th>\n      <td>...</td>\n    </tr>\n    <tr>\n      <th>370</th>\n      <td>85000.0</td>\n    </tr>\n    <tr>\n      <th>371</th>\n      <td>170000.0</td>\n    </tr>\n    <tr>\n      <th>372</th>\n      <td>40000.0</td>\n    </tr>\n    <tr>\n      <th>373</th>\n      <td>90000.0</td>\n    </tr>\n    <tr>\n      <th>374</th>\n      <td>150000.0</td>\n    </tr>\n  </tbody>\n</table>\n<p>375 rows × 1 columns</p>\n</div>"
     },
     "execution_count": 29,
     "metadata": {},
     "output_type": "execute_result"
    }
   ],
   "source": [
    "# Select a single column with a double set of brackets\n",
    "df[[\"Salary\"]]"
   ],
   "metadata": {
    "collapsed": false,
    "ExecuteTime": {
     "end_time": "2023-07-25T06:45:59.964961Z",
     "start_time": "2023-07-25T06:45:58.545796200Z"
    }
   }
  },
  {
   "cell_type": "markdown",
   "source": [
    "*Let's see what are the type of objects: with a single set of brackets and double set of brackets...*"
   ],
   "metadata": {
    "collapsed": false
   }
  },
  {
   "cell_type": "code",
   "execution_count": 30,
   "outputs": [
    {
     "data": {
      "text/plain": "pandas.core.series.Series"
     },
     "execution_count": 30,
     "metadata": {},
     "output_type": "execute_result"
    }
   ],
   "source": [
    "type(df[\"Salary\"])"
   ],
   "metadata": {
    "collapsed": false,
    "ExecuteTime": {
     "end_time": "2023-07-25T06:45:59.964961Z",
     "start_time": "2023-07-25T06:45:58.566372900Z"
    }
   }
  },
  {
   "cell_type": "code",
   "execution_count": 31,
   "outputs": [
    {
     "data": {
      "text/plain": "pandas.core.frame.DataFrame"
     },
     "execution_count": 31,
     "metadata": {},
     "output_type": "execute_result"
    }
   ],
   "source": [
    "type(df[[\"Salary\"]])"
   ],
   "metadata": {
    "collapsed": false,
    "ExecuteTime": {
     "end_time": "2023-07-25T06:46:00.525016500Z",
     "start_time": "2023-07-25T06:45:58.602554200Z"
    }
   }
  },
  {
   "cell_type": "markdown",
   "source": [
    "*When we need to select more than one column and/or make the output to be a DataFrame, we should use double brackets...*"
   ],
   "metadata": {
    "collapsed": false
   }
  },
  {
   "cell_type": "code",
   "execution_count": 32,
   "outputs": [
    {
     "data": {
      "text/plain": "    Education Level    Salary\n0        Bachelor's   90000.0\n1          Master's   65000.0\n2               PhD  150000.0\n3        Bachelor's   60000.0\n4          Master's  200000.0\n..              ...       ...\n370      Bachelor's   85000.0\n371        Master's  170000.0\n372      Bachelor's   40000.0\n373      Bachelor's   90000.0\n374             PhD  150000.0\n\n[375 rows x 2 columns]",
      "text/html": "<div>\n<style scoped>\n    .dataframe tbody tr th:only-of-type {\n        vertical-align: middle;\n    }\n\n    .dataframe tbody tr th {\n        vertical-align: top;\n    }\n\n    .dataframe thead th {\n        text-align: right;\n    }\n</style>\n<table border=\"1\" class=\"dataframe\">\n  <thead>\n    <tr style=\"text-align: right;\">\n      <th></th>\n      <th>Education Level</th>\n      <th>Salary</th>\n    </tr>\n  </thead>\n  <tbody>\n    <tr>\n      <th>0</th>\n      <td>Bachelor's</td>\n      <td>90000.0</td>\n    </tr>\n    <tr>\n      <th>1</th>\n      <td>Master's</td>\n      <td>65000.0</td>\n    </tr>\n    <tr>\n      <th>2</th>\n      <td>PhD</td>\n      <td>150000.0</td>\n    </tr>\n    <tr>\n      <th>3</th>\n      <td>Bachelor's</td>\n      <td>60000.0</td>\n    </tr>\n    <tr>\n      <th>4</th>\n      <td>Master's</td>\n      <td>200000.0</td>\n    </tr>\n    <tr>\n      <th>...</th>\n      <td>...</td>\n      <td>...</td>\n    </tr>\n    <tr>\n      <th>370</th>\n      <td>Bachelor's</td>\n      <td>85000.0</td>\n    </tr>\n    <tr>\n      <th>371</th>\n      <td>Master's</td>\n      <td>170000.0</td>\n    </tr>\n    <tr>\n      <th>372</th>\n      <td>Bachelor's</td>\n      <td>40000.0</td>\n    </tr>\n    <tr>\n      <th>373</th>\n      <td>Bachelor's</td>\n      <td>90000.0</td>\n    </tr>\n    <tr>\n      <th>374</th>\n      <td>PhD</td>\n      <td>150000.0</td>\n    </tr>\n  </tbody>\n</table>\n<p>375 rows × 2 columns</p>\n</div>"
     },
     "execution_count": 32,
     "metadata": {},
     "output_type": "execute_result"
    }
   ],
   "source": [
    "# Select columns Education Level and Salary\n",
    "df[[\"Education Level\", \"Salary\"]]"
   ],
   "metadata": {
    "collapsed": false,
    "ExecuteTime": {
     "end_time": "2023-07-25T06:46:00.648517500Z",
     "start_time": "2023-07-25T06:45:58.612481900Z"
    }
   }
  },
  {
   "cell_type": "markdown",
   "source": [
    "### 4.7.1. Selecting Rows\n",
    "If we need to select a range of rows, we can specify the range using `:`"
   ],
   "metadata": {
    "collapsed": false
   }
  },
  {
   "cell_type": "code",
   "execution_count": 33,
   "outputs": [
    {
     "data": {
      "text/plain": "     Age  Gender Education Level             Job Title  Years of Experience  \\\n10  29.0    Male        Master's    Software Developer                  3.0   \n11  48.0  Female      Bachelor's            HR Manager                 18.0   \n12  35.0    Male      Bachelor's     Financial Analyst                  6.0   \n13  40.0  Female        Master's       Project Manager                 14.0   \n14  27.0    Male      Bachelor's  Customer Service Rep                  2.0   \n15  44.0    Male      Bachelor's    Operations Manager                 16.0   \n16  33.0  Female        Master's     Marketing Manager                  7.0   \n17  39.0    Male             PhD       Senior Engineer                 12.0   \n18  25.0  Female      Bachelor's      Data Entry Clerk                  0.0   \n19  51.0    Male      Bachelor's        Sales Director                 22.0   \n\n      Salary  \n10   75000.0  \n11  140000.0  \n12   65000.0  \n13  130000.0  \n14   40000.0  \n15  125000.0  \n16   90000.0  \n17  115000.0  \n18   35000.0  \n19  180000.0  ",
      "text/html": "<div>\n<style scoped>\n    .dataframe tbody tr th:only-of-type {\n        vertical-align: middle;\n    }\n\n    .dataframe tbody tr th {\n        vertical-align: top;\n    }\n\n    .dataframe thead th {\n        text-align: right;\n    }\n</style>\n<table border=\"1\" class=\"dataframe\">\n  <thead>\n    <tr style=\"text-align: right;\">\n      <th></th>\n      <th>Age</th>\n      <th>Gender</th>\n      <th>Education Level</th>\n      <th>Job Title</th>\n      <th>Years of Experience</th>\n      <th>Salary</th>\n    </tr>\n  </thead>\n  <tbody>\n    <tr>\n      <th>10</th>\n      <td>29.0</td>\n      <td>Male</td>\n      <td>Master's</td>\n      <td>Software Developer</td>\n      <td>3.0</td>\n      <td>75000.0</td>\n    </tr>\n    <tr>\n      <th>11</th>\n      <td>48.0</td>\n      <td>Female</td>\n      <td>Bachelor's</td>\n      <td>HR Manager</td>\n      <td>18.0</td>\n      <td>140000.0</td>\n    </tr>\n    <tr>\n      <th>12</th>\n      <td>35.0</td>\n      <td>Male</td>\n      <td>Bachelor's</td>\n      <td>Financial Analyst</td>\n      <td>6.0</td>\n      <td>65000.0</td>\n    </tr>\n    <tr>\n      <th>13</th>\n      <td>40.0</td>\n      <td>Female</td>\n      <td>Master's</td>\n      <td>Project Manager</td>\n      <td>14.0</td>\n      <td>130000.0</td>\n    </tr>\n    <tr>\n      <th>14</th>\n      <td>27.0</td>\n      <td>Male</td>\n      <td>Bachelor's</td>\n      <td>Customer Service Rep</td>\n      <td>2.0</td>\n      <td>40000.0</td>\n    </tr>\n    <tr>\n      <th>15</th>\n      <td>44.0</td>\n      <td>Male</td>\n      <td>Bachelor's</td>\n      <td>Operations Manager</td>\n      <td>16.0</td>\n      <td>125000.0</td>\n    </tr>\n    <tr>\n      <th>16</th>\n      <td>33.0</td>\n      <td>Female</td>\n      <td>Master's</td>\n      <td>Marketing Manager</td>\n      <td>7.0</td>\n      <td>90000.0</td>\n    </tr>\n    <tr>\n      <th>17</th>\n      <td>39.0</td>\n      <td>Male</td>\n      <td>PhD</td>\n      <td>Senior Engineer</td>\n      <td>12.0</td>\n      <td>115000.0</td>\n    </tr>\n    <tr>\n      <th>18</th>\n      <td>25.0</td>\n      <td>Female</td>\n      <td>Bachelor's</td>\n      <td>Data Entry Clerk</td>\n      <td>0.0</td>\n      <td>35000.0</td>\n    </tr>\n    <tr>\n      <th>19</th>\n      <td>51.0</td>\n      <td>Male</td>\n      <td>Bachelor's</td>\n      <td>Sales Director</td>\n      <td>22.0</td>\n      <td>180000.0</td>\n    </tr>\n  </tbody>\n</table>\n</div>"
     },
     "execution_count": 33,
     "metadata": {},
     "output_type": "execute_result"
    }
   ],
   "source": [
    "# Select rows by their position\n",
    "df[10:20]"
   ],
   "metadata": {
    "collapsed": false,
    "ExecuteTime": {
     "end_time": "2023-07-25T06:46:00.724621400Z",
     "start_time": "2023-07-25T06:45:58.654371700Z"
    }
   }
  },
  {
   "cell_type": "markdown",
   "source": [
    "*Notice that the first row has position 0, and the last value in the range is omitted. So for 0:10 range the first 10 rows are returned with the positions starting with 0 and ending with 9.*"
   ],
   "metadata": {
    "collapsed": false
   }
  },
  {
   "cell_type": "markdown",
   "source": [
    "### 4.7.2. Method loc\n",
    "If we need to select a range of rows, using their labels we can use method `loc`:"
   ],
   "metadata": {
    "collapsed": false
   }
  },
  {
   "cell_type": "code",
   "execution_count": 34,
   "outputs": [
    {
     "data": {
      "text/plain": "   Education Level  Gender    Salary\n10        Master's    Male   75000.0\n11      Bachelor's  Female  140000.0\n12      Bachelor's    Male   65000.0\n13        Master's  Female  130000.0\n14      Bachelor's    Male   40000.0\n15      Bachelor's    Male  125000.0\n16        Master's  Female   90000.0\n17             PhD    Male  115000.0\n18      Bachelor's  Female   35000.0\n19      Bachelor's    Male  180000.0\n20        Master's  Female   80000.0",
      "text/html": "<div>\n<style scoped>\n    .dataframe tbody tr th:only-of-type {\n        vertical-align: middle;\n    }\n\n    .dataframe tbody tr th {\n        vertical-align: top;\n    }\n\n    .dataframe thead th {\n        text-align: right;\n    }\n</style>\n<table border=\"1\" class=\"dataframe\">\n  <thead>\n    <tr style=\"text-align: right;\">\n      <th></th>\n      <th>Education Level</th>\n      <th>Gender</th>\n      <th>Salary</th>\n    </tr>\n  </thead>\n  <tbody>\n    <tr>\n      <th>10</th>\n      <td>Master's</td>\n      <td>Male</td>\n      <td>75000.0</td>\n    </tr>\n    <tr>\n      <th>11</th>\n      <td>Bachelor's</td>\n      <td>Female</td>\n      <td>140000.0</td>\n    </tr>\n    <tr>\n      <th>12</th>\n      <td>Bachelor's</td>\n      <td>Male</td>\n      <td>65000.0</td>\n    </tr>\n    <tr>\n      <th>13</th>\n      <td>Master's</td>\n      <td>Female</td>\n      <td>130000.0</td>\n    </tr>\n    <tr>\n      <th>14</th>\n      <td>Bachelor's</td>\n      <td>Male</td>\n      <td>40000.0</td>\n    </tr>\n    <tr>\n      <th>15</th>\n      <td>Bachelor's</td>\n      <td>Male</td>\n      <td>125000.0</td>\n    </tr>\n    <tr>\n      <th>16</th>\n      <td>Master's</td>\n      <td>Female</td>\n      <td>90000.0</td>\n    </tr>\n    <tr>\n      <th>17</th>\n      <td>PhD</td>\n      <td>Male</td>\n      <td>115000.0</td>\n    </tr>\n    <tr>\n      <th>18</th>\n      <td>Bachelor's</td>\n      <td>Female</td>\n      <td>35000.0</td>\n    </tr>\n    <tr>\n      <th>19</th>\n      <td>Bachelor's</td>\n      <td>Male</td>\n      <td>180000.0</td>\n    </tr>\n    <tr>\n      <th>20</th>\n      <td>Master's</td>\n      <td>Female</td>\n      <td>80000.0</td>\n    </tr>\n  </tbody>\n</table>\n</div>"
     },
     "execution_count": 34,
     "metadata": {},
     "output_type": "execute_result"
    }
   ],
   "source": [
    "# Select rows by their labels Education Level, Gender and Salary\n",
    "df.loc[10:20, [\"Education Level\", \"Gender\", \"Salary\"]]"
   ],
   "metadata": {
    "collapsed": false,
    "ExecuteTime": {
     "end_time": "2023-07-25T06:46:00.766728900Z",
     "start_time": "2023-07-25T06:45:58.737180400Z"
    }
   }
  },
  {
   "cell_type": "markdown",
   "source": [
    "### 4.7.3. Method iloc\n",
    "If we need to select a range of rows and/or columns, using their positions we can use method `iloc`:"
   ],
   "metadata": {
    "collapsed": false
   }
  },
  {
   "cell_type": "code",
   "execution_count": 35,
   "outputs": [
    {
     "data": {
      "text/plain": "     Age Education Level  Years of Experience\n10  29.0        Master's                  3.0\n11  48.0      Bachelor's                 18.0\n12  35.0      Bachelor's                  6.0\n13  40.0        Master's                 14.0\n14  27.0      Bachelor's                  2.0\n15  44.0      Bachelor's                 16.0\n16  33.0        Master's                  7.0\n17  39.0             PhD                 12.0\n18  25.0      Bachelor's                  0.0\n19  51.0      Bachelor's                 22.0",
      "text/html": "<div>\n<style scoped>\n    .dataframe tbody tr th:only-of-type {\n        vertical-align: middle;\n    }\n\n    .dataframe tbody tr th {\n        vertical-align: top;\n    }\n\n    .dataframe thead th {\n        text-align: right;\n    }\n</style>\n<table border=\"1\" class=\"dataframe\">\n  <thead>\n    <tr style=\"text-align: right;\">\n      <th></th>\n      <th>Age</th>\n      <th>Education Level</th>\n      <th>Years of Experience</th>\n    </tr>\n  </thead>\n  <tbody>\n    <tr>\n      <th>10</th>\n      <td>29.0</td>\n      <td>Master's</td>\n      <td>3.0</td>\n    </tr>\n    <tr>\n      <th>11</th>\n      <td>48.0</td>\n      <td>Bachelor's</td>\n      <td>18.0</td>\n    </tr>\n    <tr>\n      <th>12</th>\n      <td>35.0</td>\n      <td>Bachelor's</td>\n      <td>6.0</td>\n    </tr>\n    <tr>\n      <th>13</th>\n      <td>40.0</td>\n      <td>Master's</td>\n      <td>14.0</td>\n    </tr>\n    <tr>\n      <th>14</th>\n      <td>27.0</td>\n      <td>Bachelor's</td>\n      <td>2.0</td>\n    </tr>\n    <tr>\n      <th>15</th>\n      <td>44.0</td>\n      <td>Bachelor's</td>\n      <td>16.0</td>\n    </tr>\n    <tr>\n      <th>16</th>\n      <td>33.0</td>\n      <td>Master's</td>\n      <td>7.0</td>\n    </tr>\n    <tr>\n      <th>17</th>\n      <td>39.0</td>\n      <td>PhD</td>\n      <td>12.0</td>\n    </tr>\n    <tr>\n      <th>18</th>\n      <td>25.0</td>\n      <td>Bachelor's</td>\n      <td>0.0</td>\n    </tr>\n    <tr>\n      <th>19</th>\n      <td>51.0</td>\n      <td>Bachelor's</td>\n      <td>22.0</td>\n    </tr>\n  </tbody>\n</table>\n</div>"
     },
     "execution_count": 35,
     "metadata": {},
     "output_type": "execute_result"
    }
   ],
   "source": [
    "# Select rows by their positions\n",
    "df.iloc[10:20, [0, 2, 4]]"
   ],
   "metadata": {
    "collapsed": false,
    "ExecuteTime": {
     "end_time": "2023-07-25T06:46:00.861235400Z",
     "start_time": "2023-07-25T06:45:58.789162700Z"
    }
   }
  },
  {
   "cell_type": "markdown",
   "source": [
    "*more...*"
   ],
   "metadata": {
    "collapsed": false
   }
  },
  {
   "cell_type": "code",
   "execution_count": 36,
   "outputs": [
    {
     "data": {
      "text/plain": "Age                                 32.0\nGender                              Male\nEducation Level               Bachelor's\nJob Title              Software Engineer\nYears of Experience                  5.0\nSalary                           90000.0\nName: 0, dtype: object"
     },
     "execution_count": 36,
     "metadata": {},
     "output_type": "execute_result"
    }
   ],
   "source": [
    "# First row of the DataFrame\n",
    "df.iloc[0]"
   ],
   "metadata": {
    "collapsed": false,
    "ExecuteTime": {
     "end_time": "2023-07-25T06:46:00.862254Z",
     "start_time": "2023-07-25T06:45:58.790175300Z"
    }
   }
  },
  {
   "cell_type": "code",
   "execution_count": 37,
   "outputs": [
    {
     "data": {
      "text/plain": "Age                               36.0\nGender                          Female\nEducation Level             Bachelor's\nJob Title              Sales Associate\nYears of Experience                7.0\nSalary                         60000.0\nName: 3, dtype: object"
     },
     "execution_count": 37,
     "metadata": {},
     "output_type": "execute_result"
    }
   ],
   "source": [
    "# (i + 1)th row of the DataFrame\n",
    "i = 3\n",
    "\n",
    "df.iloc[i]"
   ],
   "metadata": {
    "collapsed": false,
    "ExecuteTime": {
     "end_time": "2023-07-25T06:46:00.865234200Z",
     "start_time": "2023-07-25T06:45:58.790175300Z"
    }
   }
  },
  {
   "cell_type": "code",
   "execution_count": 38,
   "outputs": [
    {
     "data": {
      "text/plain": "Age                                       44.0\nGender                                  Female\nEducation Level                            PhD\nJob Title              Senior Business Analyst\nYears of Experience                       15.0\nSalary                                150000.0\nName: 374, dtype: object"
     },
     "execution_count": 38,
     "metadata": {},
     "output_type": "execute_result"
    }
   ],
   "source": [
    "# Last row of the DataFrame\n",
    "df.iloc[-1]"
   ],
   "metadata": {
    "collapsed": false,
    "ExecuteTime": {
     "end_time": "2023-07-25T06:46:00.872915400Z",
     "start_time": "2023-07-25T06:45:58.796187500Z"
    }
   }
  },
  {
   "cell_type": "code",
   "execution_count": 39,
   "outputs": [
    {
     "data": {
      "text/plain": "0      32.0\n1      28.0\n2      45.0\n3      36.0\n4      52.0\n       ... \n370    35.0\n371    43.0\n372    29.0\n373    34.0\n374    44.0\nName: Age, Length: 375, dtype: float64"
     },
     "execution_count": 39,
     "metadata": {},
     "output_type": "execute_result"
    }
   ],
   "source": [
    "# First column of the DataFrame\n",
    "df.iloc[:, 0]"
   ],
   "metadata": {
    "collapsed": false,
    "ExecuteTime": {
     "end_time": "2023-07-25T06:46:00.874765100Z",
     "start_time": "2023-07-25T06:45:58.819465800Z"
    }
   }
  },
  {
   "cell_type": "code",
   "execution_count": 40,
   "outputs": [
    {
     "data": {
      "text/plain": "0       90000.0\n1       65000.0\n2      150000.0\n3       60000.0\n4      200000.0\n         ...   \n370     85000.0\n371    170000.0\n372     40000.0\n373     90000.0\n374    150000.0\nName: Salary, Length: 375, dtype: float64"
     },
     "execution_count": 40,
     "metadata": {},
     "output_type": "execute_result"
    }
   ],
   "source": [
    "# Last column of the DataFrame\n",
    "df.iloc[:, -1]"
   ],
   "metadata": {
    "collapsed": false,
    "ExecuteTime": {
     "end_time": "2023-07-25T06:46:00.876765100Z",
     "start_time": "2023-07-25T06:45:58.834422200Z"
    }
   }
  },
  {
   "cell_type": "code",
   "execution_count": 41,
   "outputs": [
    {
     "data": {
      "text/plain": "    Age  Gender Education Level          Job Title  Years of Experience  \\\n0  32.0    Male      Bachelor's  Software Engineer                  5.0   \n1  28.0  Female        Master's       Data Analyst                  3.0   \n2  45.0    Male             PhD     Senior Manager                 15.0   \n3  36.0  Female      Bachelor's    Sales Associate                  7.0   \n4  52.0    Male        Master's           Director                 20.0   \n5  29.0    Male      Bachelor's  Marketing Analyst                  2.0   \n6  42.0  Female        Master's    Product Manager                 12.0   \n\n     Salary  \n0   90000.0  \n1   65000.0  \n2  150000.0  \n3   60000.0  \n4  200000.0  \n5   55000.0  \n6  120000.0  ",
      "text/html": "<div>\n<style scoped>\n    .dataframe tbody tr th:only-of-type {\n        vertical-align: middle;\n    }\n\n    .dataframe tbody tr th {\n        vertical-align: top;\n    }\n\n    .dataframe thead th {\n        text-align: right;\n    }\n</style>\n<table border=\"1\" class=\"dataframe\">\n  <thead>\n    <tr style=\"text-align: right;\">\n      <th></th>\n      <th>Age</th>\n      <th>Gender</th>\n      <th>Education Level</th>\n      <th>Job Title</th>\n      <th>Years of Experience</th>\n      <th>Salary</th>\n    </tr>\n  </thead>\n  <tbody>\n    <tr>\n      <th>0</th>\n      <td>32.0</td>\n      <td>Male</td>\n      <td>Bachelor's</td>\n      <td>Software Engineer</td>\n      <td>5.0</td>\n      <td>90000.0</td>\n    </tr>\n    <tr>\n      <th>1</th>\n      <td>28.0</td>\n      <td>Female</td>\n      <td>Master's</td>\n      <td>Data Analyst</td>\n      <td>3.0</td>\n      <td>65000.0</td>\n    </tr>\n    <tr>\n      <th>2</th>\n      <td>45.0</td>\n      <td>Male</td>\n      <td>PhD</td>\n      <td>Senior Manager</td>\n      <td>15.0</td>\n      <td>150000.0</td>\n    </tr>\n    <tr>\n      <th>3</th>\n      <td>36.0</td>\n      <td>Female</td>\n      <td>Bachelor's</td>\n      <td>Sales Associate</td>\n      <td>7.0</td>\n      <td>60000.0</td>\n    </tr>\n    <tr>\n      <th>4</th>\n      <td>52.0</td>\n      <td>Male</td>\n      <td>Master's</td>\n      <td>Director</td>\n      <td>20.0</td>\n      <td>200000.0</td>\n    </tr>\n    <tr>\n      <th>5</th>\n      <td>29.0</td>\n      <td>Male</td>\n      <td>Bachelor's</td>\n      <td>Marketing Analyst</td>\n      <td>2.0</td>\n      <td>55000.0</td>\n    </tr>\n    <tr>\n      <th>6</th>\n      <td>42.0</td>\n      <td>Female</td>\n      <td>Master's</td>\n      <td>Product Manager</td>\n      <td>12.0</td>\n      <td>120000.0</td>\n    </tr>\n  </tbody>\n</table>\n</div>"
     },
     "execution_count": 41,
     "metadata": {},
     "output_type": "execute_result"
    }
   ],
   "source": [
    "# First 7 rows of the DataFrame\n",
    "df.iloc[0:7]"
   ],
   "metadata": {
    "collapsed": false,
    "ExecuteTime": {
     "end_time": "2023-07-25T06:46:00.876765100Z",
     "start_time": "2023-07-25T06:45:58.862352600Z"
    }
   }
  },
  {
   "cell_type": "code",
   "execution_count": 42,
   "outputs": [
    {
     "data": {
      "text/plain": "      Age  Gender\n0    32.0    Male\n1    28.0  Female\n2    45.0    Male\n3    36.0  Female\n4    52.0    Male\n..    ...     ...\n370  35.0  Female\n371  43.0    Male\n372  29.0  Female\n373  34.0    Male\n374  44.0  Female\n\n[375 rows x 2 columns]",
      "text/html": "<div>\n<style scoped>\n    .dataframe tbody tr th:only-of-type {\n        vertical-align: middle;\n    }\n\n    .dataframe tbody tr th {\n        vertical-align: top;\n    }\n\n    .dataframe thead th {\n        text-align: right;\n    }\n</style>\n<table border=\"1\" class=\"dataframe\">\n  <thead>\n    <tr style=\"text-align: right;\">\n      <th></th>\n      <th>Age</th>\n      <th>Gender</th>\n    </tr>\n  </thead>\n  <tbody>\n    <tr>\n      <th>0</th>\n      <td>32.0</td>\n      <td>Male</td>\n    </tr>\n    <tr>\n      <th>1</th>\n      <td>28.0</td>\n      <td>Female</td>\n    </tr>\n    <tr>\n      <th>2</th>\n      <td>45.0</td>\n      <td>Male</td>\n    </tr>\n    <tr>\n      <th>3</th>\n      <td>36.0</td>\n      <td>Female</td>\n    </tr>\n    <tr>\n      <th>4</th>\n      <td>52.0</td>\n      <td>Male</td>\n    </tr>\n    <tr>\n      <th>...</th>\n      <td>...</td>\n      <td>...</td>\n    </tr>\n    <tr>\n      <th>370</th>\n      <td>35.0</td>\n      <td>Female</td>\n    </tr>\n    <tr>\n      <th>371</th>\n      <td>43.0</td>\n      <td>Male</td>\n    </tr>\n    <tr>\n      <th>372</th>\n      <td>29.0</td>\n      <td>Female</td>\n    </tr>\n    <tr>\n      <th>373</th>\n      <td>34.0</td>\n      <td>Male</td>\n    </tr>\n    <tr>\n      <th>374</th>\n      <td>44.0</td>\n      <td>Female</td>\n    </tr>\n  </tbody>\n</table>\n<p>375 rows × 2 columns</p>\n</div>"
     },
     "execution_count": 42,
     "metadata": {},
     "output_type": "execute_result"
    }
   ],
   "source": [
    "# First 2 columns of the DataFrame\n",
    "df.iloc[:, 0:2]"
   ],
   "metadata": {
    "collapsed": false,
    "ExecuteTime": {
     "end_time": "2023-07-25T06:46:00.919919900Z",
     "start_time": "2023-07-25T06:45:58.923489900Z"
    }
   }
  },
  {
   "cell_type": "code",
   "execution_count": 43,
   "outputs": [
    {
     "data": {
      "text/plain": "    Age  Gender\n1  28.0  Female\n2  45.0    Male",
      "text/html": "<div>\n<style scoped>\n    .dataframe tbody tr th:only-of-type {\n        vertical-align: middle;\n    }\n\n    .dataframe tbody tr th {\n        vertical-align: top;\n    }\n\n    .dataframe thead th {\n        text-align: right;\n    }\n</style>\n<table border=\"1\" class=\"dataframe\">\n  <thead>\n    <tr style=\"text-align: right;\">\n      <th></th>\n      <th>Age</th>\n      <th>Gender</th>\n    </tr>\n  </thead>\n  <tbody>\n    <tr>\n      <th>1</th>\n      <td>28.0</td>\n      <td>Female</td>\n    </tr>\n    <tr>\n      <th>2</th>\n      <td>45.0</td>\n      <td>Male</td>\n    </tr>\n  </tbody>\n</table>\n</div>"
     },
     "execution_count": 43,
     "metadata": {},
     "output_type": "execute_result"
    }
   ],
   "source": [
    "# 2nd through 3rd rows and first 2 columns of the DataFrame\n",
    "df.iloc[1:3, 0:2]"
   ],
   "metadata": {
    "collapsed": false,
    "ExecuteTime": {
     "end_time": "2023-07-25T06:46:00.994843600Z",
     "start_time": "2023-07-25T06:45:58.958446300Z"
    }
   }
  },
  {
   "cell_type": "code",
   "execution_count": 44,
   "outputs": [
    {
     "data": {
      "text/plain": "  Gender          Job Title\n0   Male  Software Engineer\n5   Male  Marketing Analyst",
      "text/html": "<div>\n<style scoped>\n    .dataframe tbody tr th:only-of-type {\n        vertical-align: middle;\n    }\n\n    .dataframe tbody tr th {\n        vertical-align: top;\n    }\n\n    .dataframe thead th {\n        text-align: right;\n    }\n</style>\n<table border=\"1\" class=\"dataframe\">\n  <thead>\n    <tr style=\"text-align: right;\">\n      <th></th>\n      <th>Gender</th>\n      <th>Job Title</th>\n    </tr>\n  </thead>\n  <tbody>\n    <tr>\n      <th>0</th>\n      <td>Male</td>\n      <td>Software Engineer</td>\n    </tr>\n    <tr>\n      <th>5</th>\n      <td>Male</td>\n      <td>Marketing Analyst</td>\n    </tr>\n  </tbody>\n</table>\n</div>"
     },
     "execution_count": 44,
     "metadata": {},
     "output_type": "execute_result"
    }
   ],
   "source": [
    "# 1st and 6th rows and 2nd and 4th columns of the DataFrame\n",
    "df.iloc[[0, 5], [1, 3]]"
   ],
   "metadata": {
    "collapsed": false,
    "ExecuteTime": {
     "end_time": "2023-07-25T06:46:01.066580100Z",
     "start_time": "2023-07-25T06:45:58.959459400Z"
    }
   }
  },
  {
   "cell_type": "markdown",
   "source": [
    "## 4.8. DataFrame: Sorting\n",
    "We can sort the data by a value in the column. By default, the sorting will occur in ascending order and a new data frame is returned."
   ],
   "metadata": {
    "collapsed": false
   }
  },
  {
   "cell_type": "code",
   "execution_count": 45,
   "outputs": [
    {
     "data": {
      "text/plain": "      Age Gender Education Level                           Job Title  \\\n259  29.0   Male      Bachelor's  Junior Business Operations Analyst   \n82   25.0   Male      Bachelor's                Sales Representative   \n97   26.0   Male      Bachelor's           Junior Software Developer   \n218  29.0   Male      Bachelor's  Junior Business Operations Analyst   \n49   25.0   Male      Bachelor's                   Help Desk Analyst   \n\n     Years of Experience   Salary  \n259                  1.5    350.0  \n82                   0.0  30000.0  \n97                   1.0  35000.0  \n218                  1.5  35000.0  \n49                   0.0  35000.0  ",
      "text/html": "<div>\n<style scoped>\n    .dataframe tbody tr th:only-of-type {\n        vertical-align: middle;\n    }\n\n    .dataframe tbody tr th {\n        vertical-align: top;\n    }\n\n    .dataframe thead th {\n        text-align: right;\n    }\n</style>\n<table border=\"1\" class=\"dataframe\">\n  <thead>\n    <tr style=\"text-align: right;\">\n      <th></th>\n      <th>Age</th>\n      <th>Gender</th>\n      <th>Education Level</th>\n      <th>Job Title</th>\n      <th>Years of Experience</th>\n      <th>Salary</th>\n    </tr>\n  </thead>\n  <tbody>\n    <tr>\n      <th>259</th>\n      <td>29.0</td>\n      <td>Male</td>\n      <td>Bachelor's</td>\n      <td>Junior Business Operations Analyst</td>\n      <td>1.5</td>\n      <td>350.0</td>\n    </tr>\n    <tr>\n      <th>82</th>\n      <td>25.0</td>\n      <td>Male</td>\n      <td>Bachelor's</td>\n      <td>Sales Representative</td>\n      <td>0.0</td>\n      <td>30000.0</td>\n    </tr>\n    <tr>\n      <th>97</th>\n      <td>26.0</td>\n      <td>Male</td>\n      <td>Bachelor's</td>\n      <td>Junior Software Developer</td>\n      <td>1.0</td>\n      <td>35000.0</td>\n    </tr>\n    <tr>\n      <th>218</th>\n      <td>29.0</td>\n      <td>Male</td>\n      <td>Bachelor's</td>\n      <td>Junior Business Operations Analyst</td>\n      <td>1.5</td>\n      <td>35000.0</td>\n    </tr>\n    <tr>\n      <th>49</th>\n      <td>25.0</td>\n      <td>Male</td>\n      <td>Bachelor's</td>\n      <td>Help Desk Analyst</td>\n      <td>0.0</td>\n      <td>35000.0</td>\n    </tr>\n  </tbody>\n</table>\n</div>"
     },
     "execution_count": 45,
     "metadata": {},
     "output_type": "execute_result"
    }
   ],
   "source": [
    "# Create a new DataFrame from the original sorted by the column Salary\n",
    "df_sorted = df.sort_values(by = \"Salary\")\n",
    "df_sorted.head()"
   ],
   "metadata": {
    "collapsed": false,
    "ExecuteTime": {
     "end_time": "2023-07-25T06:46:01.164405100Z",
     "start_time": "2023-07-25T06:45:58.995585800Z"
    }
   }
  },
  {
   "cell_type": "markdown",
   "source": [
    "*We can sort the data using 2 or more columns...*"
   ],
   "metadata": {
    "collapsed": false
   }
  },
  {
   "cell_type": "code",
   "execution_count": 46,
   "outputs": [
    {
     "data": {
      "text/plain": "      Age  Gender Education Level                      Job Title  \\\n46   32.0    Male      Bachelor's                Account Manager   \n31   31.0  Female      Bachelor's                     Accountant   \n135  39.0  Female      Bachelor's       Administrative Assistant   \n43   36.0  Female      Bachelor's       Administrative Assistant   \n20   34.0  Female        Master's               Business Analyst   \n94   33.0    Male      Bachelor's               Business Analyst   \n68   34.0    Male        Master's   Business Development Manager   \n51   33.0    Male        Master's  Business Intelligence Analyst   \n30   50.0    Male      Bachelor's                            CEO   \n105  44.0    Male             PhD             Chief Data Officer   \n\n     Years of Experience    Salary  \n46                   5.0   75000.0  \n31                   4.0   55000.0  \n135                 10.0   55000.0  \n43                   8.0   45000.0  \n20                   5.0   80000.0  \n94                   7.0   75000.0  \n68                   8.0   90000.0  \n51                   7.0   85000.0  \n30                  25.0  250000.0  \n105                 16.0  220000.0  ",
      "text/html": "<div>\n<style scoped>\n    .dataframe tbody tr th:only-of-type {\n        vertical-align: middle;\n    }\n\n    .dataframe tbody tr th {\n        vertical-align: top;\n    }\n\n    .dataframe thead th {\n        text-align: right;\n    }\n</style>\n<table border=\"1\" class=\"dataframe\">\n  <thead>\n    <tr style=\"text-align: right;\">\n      <th></th>\n      <th>Age</th>\n      <th>Gender</th>\n      <th>Education Level</th>\n      <th>Job Title</th>\n      <th>Years of Experience</th>\n      <th>Salary</th>\n    </tr>\n  </thead>\n  <tbody>\n    <tr>\n      <th>46</th>\n      <td>32.0</td>\n      <td>Male</td>\n      <td>Bachelor's</td>\n      <td>Account Manager</td>\n      <td>5.0</td>\n      <td>75000.0</td>\n    </tr>\n    <tr>\n      <th>31</th>\n      <td>31.0</td>\n      <td>Female</td>\n      <td>Bachelor's</td>\n      <td>Accountant</td>\n      <td>4.0</td>\n      <td>55000.0</td>\n    </tr>\n    <tr>\n      <th>135</th>\n      <td>39.0</td>\n      <td>Female</td>\n      <td>Bachelor's</td>\n      <td>Administrative Assistant</td>\n      <td>10.0</td>\n      <td>55000.0</td>\n    </tr>\n    <tr>\n      <th>43</th>\n      <td>36.0</td>\n      <td>Female</td>\n      <td>Bachelor's</td>\n      <td>Administrative Assistant</td>\n      <td>8.0</td>\n      <td>45000.0</td>\n    </tr>\n    <tr>\n      <th>20</th>\n      <td>34.0</td>\n      <td>Female</td>\n      <td>Master's</td>\n      <td>Business Analyst</td>\n      <td>5.0</td>\n      <td>80000.0</td>\n    </tr>\n    <tr>\n      <th>94</th>\n      <td>33.0</td>\n      <td>Male</td>\n      <td>Bachelor's</td>\n      <td>Business Analyst</td>\n      <td>7.0</td>\n      <td>75000.0</td>\n    </tr>\n    <tr>\n      <th>68</th>\n      <td>34.0</td>\n      <td>Male</td>\n      <td>Master's</td>\n      <td>Business Development Manager</td>\n      <td>8.0</td>\n      <td>90000.0</td>\n    </tr>\n    <tr>\n      <th>51</th>\n      <td>33.0</td>\n      <td>Male</td>\n      <td>Master's</td>\n      <td>Business Intelligence Analyst</td>\n      <td>7.0</td>\n      <td>85000.0</td>\n    </tr>\n    <tr>\n      <th>30</th>\n      <td>50.0</td>\n      <td>Male</td>\n      <td>Bachelor's</td>\n      <td>CEO</td>\n      <td>25.0</td>\n      <td>250000.0</td>\n    </tr>\n    <tr>\n      <th>105</th>\n      <td>44.0</td>\n      <td>Male</td>\n      <td>PhD</td>\n      <td>Chief Data Officer</td>\n      <td>16.0</td>\n      <td>220000.0</td>\n    </tr>\n  </tbody>\n</table>\n</div>"
     },
     "execution_count": 46,
     "metadata": {},
     "output_type": "execute_result"
    }
   ],
   "source": [
    "df_sorted = df.sort_values(by = [\"Job Title\", \"Salary\"], ascending = [True, False])\n",
    "df_sorted.head(10)"
   ],
   "metadata": {
    "collapsed": false,
    "ExecuteTime": {
     "end_time": "2023-07-25T06:46:01.254670200Z",
     "start_time": "2023-07-25T06:45:59.044176600Z"
    }
   }
  },
  {
   "cell_type": "markdown",
   "source": [
    "## 4.9. Missing Values\n",
    "Missing values are marked as `NaN`."
   ],
   "metadata": {
    "collapsed": false
   }
  },
  {
   "cell_type": "code",
   "execution_count": 47,
   "outputs": [
    {
     "data": {
      "text/plain": "     Age Gender Education Level Job Title  Years of Experience  Salary\n172  NaN    NaN             NaN       NaN                  NaN     NaN\n260  NaN    NaN             NaN       NaN                  NaN     NaN",
      "text/html": "<div>\n<style scoped>\n    .dataframe tbody tr th:only-of-type {\n        vertical-align: middle;\n    }\n\n    .dataframe tbody tr th {\n        vertical-align: top;\n    }\n\n    .dataframe thead th {\n        text-align: right;\n    }\n</style>\n<table border=\"1\" class=\"dataframe\">\n  <thead>\n    <tr style=\"text-align: right;\">\n      <th></th>\n      <th>Age</th>\n      <th>Gender</th>\n      <th>Education Level</th>\n      <th>Job Title</th>\n      <th>Years of Experience</th>\n      <th>Salary</th>\n    </tr>\n  </thead>\n  <tbody>\n    <tr>\n      <th>172</th>\n      <td>NaN</td>\n      <td>NaN</td>\n      <td>NaN</td>\n      <td>NaN</td>\n      <td>NaN</td>\n      <td>NaN</td>\n    </tr>\n    <tr>\n      <th>260</th>\n      <td>NaN</td>\n      <td>NaN</td>\n      <td>NaN</td>\n      <td>NaN</td>\n      <td>NaN</td>\n      <td>NaN</td>\n    </tr>\n  </tbody>\n</table>\n</div>"
     },
     "execution_count": 47,
     "metadata": {},
     "output_type": "execute_result"
    }
   ],
   "source": [
    "# Select the rows that have at least one missing values\n",
    "df[df.isnull().any(axis=1)].head()"
   ],
   "metadata": {
    "collapsed": false,
    "ExecuteTime": {
     "end_time": "2023-07-25T06:46:01.303813800Z",
     "start_time": "2023-07-25T06:45:59.066603Z"
    }
   }
  },
  {
   "cell_type": "markdown",
   "source": [
    "*There are a number of methods to deal with missing values in the DataFrame...*\n",
    "\n",
    "| DataFrame Method                | Description                                            |\n",
    "|---------------------------------|--------------------------------------------------------|\n",
    "| `dropna()`                      | Drop *missing observations*.                           |\n",
    "| `dropna(how = \"all\")`           | Drop observations where all cells in `NA`.             |\n",
    "| `dropna(axis = 1, how = \"all\")` | Drop column if all the values are missing.             |\n",
    "| `dropna(thresh = 5)`            | Drop rows that contain less than 5 non-missing values. |\n",
    "| `fillna(0)`                     | Replace missing values with zeros.                     |\n",
    "| `isnull()`                      | Returns True if the value is missing.                  |\n",
    "| `notnull()`                     | Returns True for non-missing values.                   |"
   ],
   "metadata": {
    "collapsed": false
   }
  },
  {
   "cell_type": "markdown",
   "source": [
    "* When `summing up the data`, *missing values* will be treated as `zero`.\n",
    "* If *all values are missing*, the sum will be equal to `NaN`.\n",
    "* [cumsum()](https://pandas.pydata.org/docs/reference/api/pandas.DataFrame.cumsum.html) and [cumprod()](https://pandas.pydata.org/docs/reference/api/pandas.DataFrame.cumprod.html) methods ignore missing values but preserve them in the resulting arrays.\n",
    "* Missing values in `groupby` method are excluded (just like in [R](https://www.r-project.org/)).\n",
    "* Many descriptive statistics methods have `skipna` option to control if missing data should be excluded. This value is set to `True` by default (unlike [R](https://www.r-project.org/))."
   ],
   "metadata": {
    "collapsed": false
   }
  },
  {
   "cell_type": "markdown",
   "source": [
    "# 5. Aggregation Functions in Pandas\n",
    "[agg()](https://pandas.pydata.org/docs/reference/api/pandas.DataFrame.agg.html) method are useful when multiple statistics are computed per column."
   ],
   "metadata": {
    "collapsed": false
   }
  },
  {
   "cell_type": "code",
   "execution_count": 48,
   "outputs": [
    {
     "data": {
      "text/plain": "            Age  Years of Experience\nmin   23.000000             0.000000\nmean  37.431635            10.030831\nmax   53.000000            25.000000",
      "text/html": "<div>\n<style scoped>\n    .dataframe tbody tr th:only-of-type {\n        vertical-align: middle;\n    }\n\n    .dataframe tbody tr th {\n        vertical-align: top;\n    }\n\n    .dataframe thead th {\n        text-align: right;\n    }\n</style>\n<table border=\"1\" class=\"dataframe\">\n  <thead>\n    <tr style=\"text-align: right;\">\n      <th></th>\n      <th>Age</th>\n      <th>Years of Experience</th>\n    </tr>\n  </thead>\n  <tbody>\n    <tr>\n      <th>min</th>\n      <td>23.000000</td>\n      <td>0.000000</td>\n    </tr>\n    <tr>\n      <th>mean</th>\n      <td>37.431635</td>\n      <td>10.030831</td>\n    </tr>\n    <tr>\n      <th>max</th>\n      <td>53.000000</td>\n      <td>25.000000</td>\n    </tr>\n  </tbody>\n</table>\n</div>"
     },
     "execution_count": 48,
     "metadata": {},
     "output_type": "execute_result"
    }
   ],
   "source": [
    "df[[\"Age\", \"Years of Experience\"]].agg([\"min\", \"mean\", \"max\"])"
   ],
   "metadata": {
    "collapsed": false,
    "ExecuteTime": {
     "end_time": "2023-07-25T07:16:23.025617800Z",
     "start_time": "2023-07-25T07:16:22.972993Z"
    }
   }
  },
  {
   "cell_type": "markdown",
   "source": [
    "## 5.1. Basic Descriptive Statistics\n",
    "\n",
    "| DataFrame Method         | Description                                                           |\n",
    "|--------------------------|-----------------------------------------------------------------------|\n",
    "| `describe`               | Basic statistics (*count*, *mean*, *std*, *min*, *quantiles*, *max*). |\n",
    "| `min`, `max`             | *Minimum* and *maximum* values.                                       |\n",
    "| `mean`, `median`, `mode` | Arithmetic *average*, *median* and *mode*.                            |\n",
    "| `var`, `std`             | *Variance* and *standard deviation*.                                  |\n",
    "| `sem`                    | *Standard error of mean*.                                             |\n",
    "| `skew`                   | *Sample skewness*.                                                    |\n",
    "| `kurt`                   | *Kurtosis*.                                                           |"
   ],
   "metadata": {
    "collapsed": false
   }
  },
  {
   "cell_type": "markdown",
   "source": [
    "# 6. Graphics to Explore the Data\n",
    "[Seaborn](https://seaborn.pydata.org/) package is built on [Matplotlib](https://matplotlib.org/) but provides high-level interface for drawing attractive statistical graphics, similar to `ggplot` library in [R](https://www.r-project.org/). It specifically targets statistical `data visualization`."
   ],
   "metadata": {
    "collapsed": false
   }
  },
  {
   "cell_type": "code",
   "execution_count": 49,
   "outputs": [],
   "source": [
    "# To show graphs within Python notebook include inline directive\n",
    "%matplotlib inline"
   ],
   "metadata": {
    "collapsed": false,
    "ExecuteTime": {
     "end_time": "2023-07-25T07:33:11.967811100Z",
     "start_time": "2023-07-25T07:33:11.907724700Z"
    }
   }
  },
  {
   "cell_type": "markdown",
   "source": [
    "## 6.1. Graphics\n",
    "\n",
    "| Method       | Description                                                           |\n",
    "|--------------|-----------------------------------------------------------------------|\n",
    "| `distplot`   | *Histogram*.                                                          |\n",
    "| `barplot`    | Estimate of *central tendency* for a numeric variable.                |\n",
    "| `violinplot` | Similar to *boxplot*, also shows the probability density of the data. |\n",
    "| `jointplot`  | *Scatterplot*.                                                        |\n",
    "| `regplot`    | *Regression plot*.                                                    |\n",
    "| `pairplot`   | *Pairplot*.                                                           |\n",
    "| `boxplot`    | *Boxplot*.                                                            |\n",
    "| `swarmplot`  | *Categorical scatterplot*.                                            |\n",
    "| `factorplot` | *General categorical plot*.                                           |"
   ],
   "metadata": {
    "collapsed": false
   }
  },
  {
   "cell_type": "markdown",
   "source": [
    "# 7. Basic Statistical Analysis\n",
    "[Statsmodels](https://www.statsmodels.org/stable/index.html) and [Scikit-learn](https://scikit-learn.org/) both have a number of functions for statistical analysis.\n",
    "\n",
    "The first one is mostly used for regular analysis using [R](https://www.r-project.org/) style formulas, while [Scikit-learn](https://scikit-learn.org/) is more tailored for `Machine Learning`.\n",
    "\n",
    "[Statsmodels](https://www.statsmodels.org/stable/index.html):\n",
    "* [Linear Regression](https://www.statsmodels.org/stable/regression.html)\n",
    "* [ANOVA](https://www.statsmodels.org/stable/anova.html)\n",
    "* Hypothesis Testing\n",
    "* *many more...*\n",
    "\n",
    "[Scikit-learn](https://scikit-learn.org/):\n",
    "* [K-Means Clustering](https://scikit-learn.org/stable/modules/generated/sklearn.cluster.KMeans.html)\n",
    "* [Support Vector Machines](https://scikit-learn.org/stable/modules/svm.html)\n",
    "* [Random Forest Classifier](https://scikit-learn.org/stable/modules/generated/sklearn.ensemble.RandomForestClassifier.html)\n",
    "* *many more...*"
   ],
   "metadata": {
    "collapsed": false
   }
  }
 ],
 "metadata": {
  "kernelspec": {
   "display_name": "Python 3",
   "language": "python",
   "name": "python3"
  },
  "language_info": {
   "codemirror_mode": {
    "name": "ipython",
    "version": 2
   },
   "file_extension": ".py",
   "mimetype": "text/x-python",
   "name": "python",
   "nbconvert_exporter": "python",
   "pygments_lexer": "ipython2",
   "version": "2.7.6"
  }
 },
 "nbformat": 4,
 "nbformat_minor": 0
}
