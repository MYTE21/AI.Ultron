{
 "cells": [
  {
   "cell_type": "markdown",
   "source": [
    "# Python for Data Analysis\n",
    "1. Setting Up Necessary Things"
   ],
   "metadata": {
    "collapsed": false
   }
  },
  {
   "cell_type": "markdown",
   "source": [
    "# 1. Setting Up Necessary Things"
   ],
   "metadata": {
    "collapsed": false
   }
  },
  {
   "cell_type": "code",
   "execution_count": 1,
   "metadata": {
    "collapsed": true,
    "ExecuteTime": {
     "end_time": "2023-07-24T07:41:49.952560600Z",
     "start_time": "2023-07-24T07:41:49.942916500Z"
    }
   },
   "outputs": [],
   "source": [
    "# Ignore All Warnings\n",
    "import warnings\n",
    "warnings.filterwarnings(\"ignore\")"
   ]
  },
  {
   "cell_type": "markdown",
   "source": [
    "# 2. Python Libraries for Data Science"
   ],
   "metadata": {
    "collapsed": false
   }
  },
  {
   "cell_type": "markdown",
   "source": [
    "Many popular Python libraries:\n",
    "1. [NumPy](https://numpy.org/)\n",
    "2. [SciPy](https://scipy.org/)\n",
    "3. [Pandas](https://pandas.pydata.org/)\n",
    "4. [Scikit-learn](https://scikit-learn.org/)\n",
    "\n",
    "`Visualization` libraries:\n",
    "1. [Matplotlib](https://matplotlib.org/)\n",
    "2. [Seaborn](https://seaborn.pydata.org/)\n",
    "\n",
    "*and many more...*\n",
    "\n",
    "**All these libraries are installed on the [SCC](https://www.alibabacloud.com/product/scc).**"
   ],
   "metadata": {
    "collapsed": false
   }
  },
  {
   "cell_type": "markdown",
   "source": [
    "## 2.1. NumPy Library\n",
    "Link: [NumPy](https://numpy.org/)\n",
    "\n",
    "* Introduces objects for `multidimensional arrays and matrices`, as well as functions that allow to easily perform advanced mathematical and statistical operations on those objects.\n",
    "* Provides `vectorization of mathematical operations` on arrays and matrices which significantly improves the performance.\n",
    "* Many other Python libraries are built on NumPy."
   ],
   "metadata": {
    "collapsed": false
   }
  },
  {
   "cell_type": "markdown",
   "source": [
    "## 2.2. SciPy Library\n",
    "Link: [SciPy](https://scipy.org/)\n",
    "* collection of algorithms for `linear algebra`, `differential equations`, `numerical integration`, `optimization`, `statistics` and more.\n",
    "* Part of the SciPy Stack.\n",
    "* built on `NumPy`."
   ],
   "metadata": {
    "collapsed": false
   }
  },
  {
   "cell_type": "markdown",
   "source": [
    "## 2.3. Pandas Library\n",
    "Link: [Pandas](https://pandas.pydata.org/)\n",
    "* Adds **data structures** and **tools** designed to work with `tabular data` (similar to Series and DataFrame in [R](https://www.r-project.org/)).\n",
    "* Provides tools for **data manipulation**: `Reshaping`, `Merging`, `Sorting`, `Slicing`, `Aggregation` etc.\n",
    "* Allows handling `missing data`."
   ],
   "metadata": {
    "collapsed": false
   }
  },
  {
   "cell_type": "markdown",
   "source": [
    "## 2.4. Scikit-learn Library\n",
    "Link: [Scikit-learn](https://scikit-learn.org/)\n",
    "* Provides **machine learning** algorithms: `Classification`, `Regression`, `Clustering`, `Model validation` etc.\n",
    "* Built on `NumPy`, `SciPy` and `Matplotlib`."
   ],
   "metadata": {
    "collapsed": false
   }
  },
  {
   "cell_type": "markdown",
   "source": [
    "## 2.5. Matplotlib Library\n",
    "Link: [Matplotlib](https://matplotlib.org/)\n",
    "* Python `2D plotting library` which produces publication quality figures in a variety of hardcopy formats.\n",
    "* A set of functionalities similar to those of [MATLAB](https://www.mathworks.com/products/matlab.html).\n",
    "* `Line Plots`, `Scatter Plots`, `Bar Charts`, `Histograms`, `Pie Charts` etc.\n",
    "* Relatively Low-level, some efforts needed to create advanced visualization."
   ],
   "metadata": {
    "collapsed": false
   }
  },
  {
   "cell_type": "markdown",
   "source": [
    "2.6. Seaborn Library\n",
    "[Seaborn](https://seaborn.pydata.org/)\n",
    "* Based on `Matplotlib`.\n",
    "* Provides a high-level interface for drawing attractive statistical graphics.\n",
    "* Similar (in style) to the popular [ggplot2](https://ggplot2.tidyverse.org/) library in [R](https://www.r-project.org/).\n"
   ],
   "metadata": {
    "collapsed": false
   }
  },
  {
   "cell_type": "markdown",
   "source": [
    "# 3. Python Libraries Practical"
   ],
   "metadata": {
    "collapsed": false
   }
  },
  {
   "cell_type": "markdown",
   "source": [
    "## 3.1. Loading Python Libraries"
   ],
   "metadata": {
    "collapsed": false
   }
  },
  {
   "cell_type": "code",
   "execution_count": 2,
   "outputs": [],
   "source": [
    "# Import Python Libraries\n",
    "import numpy as np\n",
    "import scipy as sp\n",
    "import pandas as pd\n",
    "import matplotlib as plt\n",
    "import seaborn as sns"
   ],
   "metadata": {
    "collapsed": false,
    "ExecuteTime": {
     "end_time": "2023-07-24T07:48:33.325640500Z",
     "start_time": "2023-07-24T07:48:31.132455100Z"
    }
   }
  },
  {
   "cell_type": "markdown",
   "source": [
    "## 3.2. Reading Data Using Pandas"
   ],
   "metadata": {
    "collapsed": false
   }
  },
  {
   "cell_type": "code",
   "execution_count": 3,
   "outputs": [],
   "source": [
    "# Read CSV File\n",
    "df = pd.read_csv(\"../../data/salary_data.csv\")"
   ],
   "metadata": {
    "collapsed": false,
    "ExecuteTime": {
     "end_time": "2023-07-24T08:50:53.719404200Z",
     "start_time": "2023-07-24T08:50:53.706381100Z"
    }
   }
  },
  {
   "cell_type": "markdown",
   "source": [
    "*Note: The above command has many optional arguments to fine-tune the data import process...*\n",
    "\n",
    "There is a number of `Pandas` commands to read other data formats:\n",
    "```python\n",
    "pd.read_excel(\"<my-file>.xlsx\", sheet_name = \"<sheet-name>\", index_col = None, na_vlalues = [\"NA\"])\n",
    "\n",
    "pd.read_stata(\"<my-file>.dta\")\n",
    "\n",
    "pd.read_sas(\"<my-file>.sas7bdat\")\n",
    "\n",
    "pd.read_hdf(\"<my-file>.h5\", \"df\")\n",
    "```"
   ],
   "metadata": {
    "collapsed": false
   }
  },
  {
   "cell_type": "markdown",
   "source": [
    "## 3.3. Exploring DataFrame"
   ],
   "metadata": {
    "collapsed": false
   }
  },
  {
   "cell_type": "code",
   "execution_count": 4,
   "outputs": [
    {
     "data": {
      "text/plain": "    Age  Gender Education Level          Job Title  Years of Experience  \\\n0  32.0    Male      Bachelor's  Software Engineer                  5.0   \n1  28.0  Female        Master's       Data Analyst                  3.0   \n2  45.0    Male             PhD     Senior Manager                 15.0   \n3  36.0  Female      Bachelor's    Sales Associate                  7.0   \n4  52.0    Male        Master's           Director                 20.0   \n\n     Salary  \n0   90000.0  \n1   65000.0  \n2  150000.0  \n3   60000.0  \n4  200000.0  ",
      "text/html": "<div>\n<style scoped>\n    .dataframe tbody tr th:only-of-type {\n        vertical-align: middle;\n    }\n\n    .dataframe tbody tr th {\n        vertical-align: top;\n    }\n\n    .dataframe thead th {\n        text-align: right;\n    }\n</style>\n<table border=\"1\" class=\"dataframe\">\n  <thead>\n    <tr style=\"text-align: right;\">\n      <th></th>\n      <th>Age</th>\n      <th>Gender</th>\n      <th>Education Level</th>\n      <th>Job Title</th>\n      <th>Years of Experience</th>\n      <th>Salary</th>\n    </tr>\n  </thead>\n  <tbody>\n    <tr>\n      <th>0</th>\n      <td>32.0</td>\n      <td>Male</td>\n      <td>Bachelor's</td>\n      <td>Software Engineer</td>\n      <td>5.0</td>\n      <td>90000.0</td>\n    </tr>\n    <tr>\n      <th>1</th>\n      <td>28.0</td>\n      <td>Female</td>\n      <td>Master's</td>\n      <td>Data Analyst</td>\n      <td>3.0</td>\n      <td>65000.0</td>\n    </tr>\n    <tr>\n      <th>2</th>\n      <td>45.0</td>\n      <td>Male</td>\n      <td>PhD</td>\n      <td>Senior Manager</td>\n      <td>15.0</td>\n      <td>150000.0</td>\n    </tr>\n    <tr>\n      <th>3</th>\n      <td>36.0</td>\n      <td>Female</td>\n      <td>Bachelor's</td>\n      <td>Sales Associate</td>\n      <td>7.0</td>\n      <td>60000.0</td>\n    </tr>\n    <tr>\n      <th>4</th>\n      <td>52.0</td>\n      <td>Male</td>\n      <td>Master's</td>\n      <td>Director</td>\n      <td>20.0</td>\n      <td>200000.0</td>\n    </tr>\n  </tbody>\n</table>\n</div>"
     },
     "execution_count": 4,
     "metadata": {},
     "output_type": "execute_result"
    }
   ],
   "source": [
    "# First 5 Records\n",
    "df.head()"
   ],
   "metadata": {
    "collapsed": false,
    "ExecuteTime": {
     "end_time": "2023-07-24T08:52:42.861716800Z",
     "start_time": "2023-07-24T08:52:42.816963300Z"
    }
   }
  },
  {
   "cell_type": "code",
   "execution_count": 5,
   "outputs": [
    {
     "data": {
      "text/plain": "    Age  Gender Education Level              Job Title  Years of Experience  \\\n0  32.0    Male      Bachelor's      Software Engineer                  5.0   \n1  28.0  Female        Master's           Data Analyst                  3.0   \n2  45.0    Male             PhD         Senior Manager                 15.0   \n3  36.0  Female      Bachelor's        Sales Associate                  7.0   \n4  52.0    Male        Master's               Director                 20.0   \n5  29.0    Male      Bachelor's      Marketing Analyst                  2.0   \n6  42.0  Female        Master's        Product Manager                 12.0   \n7  31.0    Male      Bachelor's          Sales Manager                  4.0   \n8  26.0  Female      Bachelor's  Marketing Coordinator                  1.0   \n9  38.0    Male             PhD       Senior Scientist                 10.0   \n\n     Salary  \n0   90000.0  \n1   65000.0  \n2  150000.0  \n3   60000.0  \n4  200000.0  \n5   55000.0  \n6  120000.0  \n7   80000.0  \n8   45000.0  \n9  110000.0  ",
      "text/html": "<div>\n<style scoped>\n    .dataframe tbody tr th:only-of-type {\n        vertical-align: middle;\n    }\n\n    .dataframe tbody tr th {\n        vertical-align: top;\n    }\n\n    .dataframe thead th {\n        text-align: right;\n    }\n</style>\n<table border=\"1\" class=\"dataframe\">\n  <thead>\n    <tr style=\"text-align: right;\">\n      <th></th>\n      <th>Age</th>\n      <th>Gender</th>\n      <th>Education Level</th>\n      <th>Job Title</th>\n      <th>Years of Experience</th>\n      <th>Salary</th>\n    </tr>\n  </thead>\n  <tbody>\n    <tr>\n      <th>0</th>\n      <td>32.0</td>\n      <td>Male</td>\n      <td>Bachelor's</td>\n      <td>Software Engineer</td>\n      <td>5.0</td>\n      <td>90000.0</td>\n    </tr>\n    <tr>\n      <th>1</th>\n      <td>28.0</td>\n      <td>Female</td>\n      <td>Master's</td>\n      <td>Data Analyst</td>\n      <td>3.0</td>\n      <td>65000.0</td>\n    </tr>\n    <tr>\n      <th>2</th>\n      <td>45.0</td>\n      <td>Male</td>\n      <td>PhD</td>\n      <td>Senior Manager</td>\n      <td>15.0</td>\n      <td>150000.0</td>\n    </tr>\n    <tr>\n      <th>3</th>\n      <td>36.0</td>\n      <td>Female</td>\n      <td>Bachelor's</td>\n      <td>Sales Associate</td>\n      <td>7.0</td>\n      <td>60000.0</td>\n    </tr>\n    <tr>\n      <th>4</th>\n      <td>52.0</td>\n      <td>Male</td>\n      <td>Master's</td>\n      <td>Director</td>\n      <td>20.0</td>\n      <td>200000.0</td>\n    </tr>\n    <tr>\n      <th>5</th>\n      <td>29.0</td>\n      <td>Male</td>\n      <td>Bachelor's</td>\n      <td>Marketing Analyst</td>\n      <td>2.0</td>\n      <td>55000.0</td>\n    </tr>\n    <tr>\n      <th>6</th>\n      <td>42.0</td>\n      <td>Female</td>\n      <td>Master's</td>\n      <td>Product Manager</td>\n      <td>12.0</td>\n      <td>120000.0</td>\n    </tr>\n    <tr>\n      <th>7</th>\n      <td>31.0</td>\n      <td>Male</td>\n      <td>Bachelor's</td>\n      <td>Sales Manager</td>\n      <td>4.0</td>\n      <td>80000.0</td>\n    </tr>\n    <tr>\n      <th>8</th>\n      <td>26.0</td>\n      <td>Female</td>\n      <td>Bachelor's</td>\n      <td>Marketing Coordinator</td>\n      <td>1.0</td>\n      <td>45000.0</td>\n    </tr>\n    <tr>\n      <th>9</th>\n      <td>38.0</td>\n      <td>Male</td>\n      <td>PhD</td>\n      <td>Senior Scientist</td>\n      <td>10.0</td>\n      <td>110000.0</td>\n    </tr>\n  </tbody>\n</table>\n</div>"
     },
     "execution_count": 5,
     "metadata": {},
     "output_type": "execute_result"
    }
   ],
   "source": [
    "# First 10 Records\n",
    "df.head(10)"
   ],
   "metadata": {
    "collapsed": false,
    "ExecuteTime": {
     "end_time": "2023-07-24T08:54:46.855064Z",
     "start_time": "2023-07-24T08:54:46.784042700Z"
    }
   }
  },
  {
   "cell_type": "code",
   "execution_count": 8,
   "outputs": [
    {
     "data": {
      "text/plain": "      Age  Gender Education Level                      Job Title  \\\n370  35.0  Female      Bachelor's       Senior Marketing Analyst   \n371  43.0    Male        Master's         Director of Operations   \n372  29.0  Female      Bachelor's         Junior Project Manager   \n373  34.0    Male      Bachelor's  Senior Operations Coordinator   \n374  44.0  Female             PhD        Senior Business Analyst   \n\n     Years of Experience    Salary  \n370                  8.0   85000.0  \n371                 19.0  170000.0  \n372                  2.0   40000.0  \n373                  7.0   90000.0  \n374                 15.0  150000.0  ",
      "text/html": "<div>\n<style scoped>\n    .dataframe tbody tr th:only-of-type {\n        vertical-align: middle;\n    }\n\n    .dataframe tbody tr th {\n        vertical-align: top;\n    }\n\n    .dataframe thead th {\n        text-align: right;\n    }\n</style>\n<table border=\"1\" class=\"dataframe\">\n  <thead>\n    <tr style=\"text-align: right;\">\n      <th></th>\n      <th>Age</th>\n      <th>Gender</th>\n      <th>Education Level</th>\n      <th>Job Title</th>\n      <th>Years of Experience</th>\n      <th>Salary</th>\n    </tr>\n  </thead>\n  <tbody>\n    <tr>\n      <th>370</th>\n      <td>35.0</td>\n      <td>Female</td>\n      <td>Bachelor's</td>\n      <td>Senior Marketing Analyst</td>\n      <td>8.0</td>\n      <td>85000.0</td>\n    </tr>\n    <tr>\n      <th>371</th>\n      <td>43.0</td>\n      <td>Male</td>\n      <td>Master's</td>\n      <td>Director of Operations</td>\n      <td>19.0</td>\n      <td>170000.0</td>\n    </tr>\n    <tr>\n      <th>372</th>\n      <td>29.0</td>\n      <td>Female</td>\n      <td>Bachelor's</td>\n      <td>Junior Project Manager</td>\n      <td>2.0</td>\n      <td>40000.0</td>\n    </tr>\n    <tr>\n      <th>373</th>\n      <td>34.0</td>\n      <td>Male</td>\n      <td>Bachelor's</td>\n      <td>Senior Operations Coordinator</td>\n      <td>7.0</td>\n      <td>90000.0</td>\n    </tr>\n    <tr>\n      <th>374</th>\n      <td>44.0</td>\n      <td>Female</td>\n      <td>PhD</td>\n      <td>Senior Business Analyst</td>\n      <td>15.0</td>\n      <td>150000.0</td>\n    </tr>\n  </tbody>\n</table>\n</div>"
     },
     "execution_count": 8,
     "metadata": {},
     "output_type": "execute_result"
    }
   ],
   "source": [
    "# ? Last 5 Records\n",
    "df.tail()"
   ],
   "metadata": {
    "collapsed": false,
    "ExecuteTime": {
     "end_time": "2023-07-24T08:56:19.191732800Z",
     "start_time": "2023-07-24T08:56:19.154724600Z"
    }
   }
  },
  {
   "cell_type": "code",
   "execution_count": 9,
   "outputs": [
    {
     "data": {
      "text/plain": "      Age  Gender Education Level                      Job Title  \\\n365  43.0    Male        Master's          Director of Marketing   \n366  31.0  Female      Bachelor's       Junior Financial Analyst   \n367  41.0    Male      Bachelor's         Senior Product Manager   \n368  44.0  Female             PhD           Senior Data Engineer   \n369  33.0    Male      Bachelor's        Junior Business Analyst   \n370  35.0  Female      Bachelor's       Senior Marketing Analyst   \n371  43.0    Male        Master's         Director of Operations   \n372  29.0  Female      Bachelor's         Junior Project Manager   \n373  34.0    Male      Bachelor's  Senior Operations Coordinator   \n374  44.0  Female             PhD        Senior Business Analyst   \n\n     Years of Experience    Salary  \n365                 18.0  170000.0  \n366                  3.0   50000.0  \n367                 14.0  150000.0  \n368                 16.0  160000.0  \n369                  4.0   60000.0  \n370                  8.0   85000.0  \n371                 19.0  170000.0  \n372                  2.0   40000.0  \n373                  7.0   90000.0  \n374                 15.0  150000.0  ",
      "text/html": "<div>\n<style scoped>\n    .dataframe tbody tr th:only-of-type {\n        vertical-align: middle;\n    }\n\n    .dataframe tbody tr th {\n        vertical-align: top;\n    }\n\n    .dataframe thead th {\n        text-align: right;\n    }\n</style>\n<table border=\"1\" class=\"dataframe\">\n  <thead>\n    <tr style=\"text-align: right;\">\n      <th></th>\n      <th>Age</th>\n      <th>Gender</th>\n      <th>Education Level</th>\n      <th>Job Title</th>\n      <th>Years of Experience</th>\n      <th>Salary</th>\n    </tr>\n  </thead>\n  <tbody>\n    <tr>\n      <th>365</th>\n      <td>43.0</td>\n      <td>Male</td>\n      <td>Master's</td>\n      <td>Director of Marketing</td>\n      <td>18.0</td>\n      <td>170000.0</td>\n    </tr>\n    <tr>\n      <th>366</th>\n      <td>31.0</td>\n      <td>Female</td>\n      <td>Bachelor's</td>\n      <td>Junior Financial Analyst</td>\n      <td>3.0</td>\n      <td>50000.0</td>\n    </tr>\n    <tr>\n      <th>367</th>\n      <td>41.0</td>\n      <td>Male</td>\n      <td>Bachelor's</td>\n      <td>Senior Product Manager</td>\n      <td>14.0</td>\n      <td>150000.0</td>\n    </tr>\n    <tr>\n      <th>368</th>\n      <td>44.0</td>\n      <td>Female</td>\n      <td>PhD</td>\n      <td>Senior Data Engineer</td>\n      <td>16.0</td>\n      <td>160000.0</td>\n    </tr>\n    <tr>\n      <th>369</th>\n      <td>33.0</td>\n      <td>Male</td>\n      <td>Bachelor's</td>\n      <td>Junior Business Analyst</td>\n      <td>4.0</td>\n      <td>60000.0</td>\n    </tr>\n    <tr>\n      <th>370</th>\n      <td>35.0</td>\n      <td>Female</td>\n      <td>Bachelor's</td>\n      <td>Senior Marketing Analyst</td>\n      <td>8.0</td>\n      <td>85000.0</td>\n    </tr>\n    <tr>\n      <th>371</th>\n      <td>43.0</td>\n      <td>Male</td>\n      <td>Master's</td>\n      <td>Director of Operations</td>\n      <td>19.0</td>\n      <td>170000.0</td>\n    </tr>\n    <tr>\n      <th>372</th>\n      <td>29.0</td>\n      <td>Female</td>\n      <td>Bachelor's</td>\n      <td>Junior Project Manager</td>\n      <td>2.0</td>\n      <td>40000.0</td>\n    </tr>\n    <tr>\n      <th>373</th>\n      <td>34.0</td>\n      <td>Male</td>\n      <td>Bachelor's</td>\n      <td>Senior Operations Coordinator</td>\n      <td>7.0</td>\n      <td>90000.0</td>\n    </tr>\n    <tr>\n      <th>374</th>\n      <td>44.0</td>\n      <td>Female</td>\n      <td>PhD</td>\n      <td>Senior Business Analyst</td>\n      <td>15.0</td>\n      <td>150000.0</td>\n    </tr>\n  </tbody>\n</table>\n</div>"
     },
     "execution_count": 9,
     "metadata": {},
     "output_type": "execute_result"
    }
   ],
   "source": [
    "# ? Last 10 Records\n",
    "df.tail(10)"
   ],
   "metadata": {
    "collapsed": false,
    "ExecuteTime": {
     "end_time": "2023-07-24T08:56:28.469443200Z",
     "start_time": "2023-07-24T08:56:28.434284400Z"
    }
   }
  },
  {
   "cell_type": "markdown",
   "source": [
    "# 4. DataFrame"
   ],
   "metadata": {
    "collapsed": false
   }
  },
  {
   "cell_type": "markdown",
   "source": [
    "## 4.1. DataFrame Data Types\n",
    "| Pandas Type                   | Native Python Type                                               | Description                                                                                                                                        |\n",
    "|-------------------------------|------------------------------------------------------------------|----------------------------------------------------------------------------------------------------------------------------------------------------|\n",
    "| `object`                      | `string`                                                         | The most general dtype. Will be assigned to your column if column has mixed types (numbers and strings).                                           |\n",
    "| `int64`                       | `int`                                                            | Numeric characters. 64 refers to the memory allocated to hold this character.                                                                      |\n",
    "| `float64`                     | `float`                                                          | Numeric characters with decimals. If a column contains numbers and NaNs, pandas will default to float64, in case your missing value has a decimal. |\n",
    "| `datetime64`, `timedelta[ns]` | `N/A` (but see the datetime module in Python’s standard library) | Values meant to hold time data. Look into these for time series experiments.                                                                       |"
   ],
   "metadata": {
    "collapsed": false
   }
  },
  {
   "cell_type": "code",
   "execution_count": null,
   "outputs": [],
   "source": [],
   "metadata": {
    "collapsed": false
   }
  }
 ],
 "metadata": {
  "kernelspec": {
   "display_name": "Python 3",
   "language": "python",
   "name": "python3"
  },
  "language_info": {
   "codemirror_mode": {
    "name": "ipython",
    "version": 2
   },
   "file_extension": ".py",
   "mimetype": "text/x-python",
   "name": "python",
   "nbconvert_exporter": "python",
   "pygments_lexer": "ipython2",
   "version": "2.7.6"
  }
 },
 "nbformat": 4,
 "nbformat_minor": 0
}
