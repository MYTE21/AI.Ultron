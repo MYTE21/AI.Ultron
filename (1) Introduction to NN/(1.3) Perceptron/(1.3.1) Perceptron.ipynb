{
 "cells": [
  {
   "cell_type": "markdown",
   "source": [
    "# Perceptron\n",
    "\n",
    "[Perceptron: A Simple Neural Network](https://www.youtube.com/watch?v=kft1AJ9WVDk)\n",
    "\n",
    "[Original Code: GitHub](https://github.com/jonasbostoen/simple-neural-network/blob/master/training_version.py)\n",
    "\n",
    "[How to build a simple neural network](https://medium.com/technology-invention-and-more/how-to-build-a-simple-neural-network-in-9-lines-of-python-code-cc8f23647ca1)\n",
    "\n",
    "[What is Perceptron: A BeginnersTutorial For Perceptron](https://medium.com/mlearning-ai/what-is-perceptron-a-beginnerstutorial-for-perceptron-632539884146)\n",
    "\n",
    "[What the Hell is Perceptron?](https://towardsdatascience.com/what-the-hell-is-perceptron-626217814f53)\n"
   ],
   "metadata": {
    "collapsed": false
   },
   "id": "490733c21751a9fc"
  },
  {
   "cell_type": "markdown",
   "source": [
    "## Setting Up Necessary Things"
   ],
   "metadata": {
    "collapsed": false
   },
   "id": "221b85c32b748bf"
  },
  {
   "cell_type": "code",
   "execution_count": 1,
   "id": "initial_id",
   "metadata": {
    "collapsed": true,
    "ExecuteTime": {
     "end_time": "2023-07-31T16:34:04.578577700Z",
     "start_time": "2023-07-31T16:34:04.564459500Z"
    }
   },
   "outputs": [],
   "source": [
    "# Ignore All Warnings\n",
    "import warnings\n",
    "warnings.filterwarnings(\"ignore\")"
   ]
  },
  {
   "cell_type": "markdown",
   "source": [
    "## Necessary Imports"
   ],
   "metadata": {
    "collapsed": false
   },
   "id": "d4e1a82392bbd8b"
  },
  {
   "cell_type": "code",
   "execution_count": 2,
   "outputs": [],
   "source": [
    "# For Numerical\n",
    "import numpy as np"
   ],
   "metadata": {
    "collapsed": false,
    "ExecuteTime": {
     "end_time": "2023-07-31T16:34:04.743825400Z",
     "start_time": "2023-07-31T16:34:04.577016200Z"
    }
   },
   "id": "83efe0ef85c19f6c"
  },
  {
   "cell_type": "markdown",
   "source": [
    "## Data"
   ],
   "metadata": {
    "collapsed": false
   },
   "id": "2a8d518de9ae7b93"
  },
  {
   "cell_type": "code",
   "execution_count": 16,
   "outputs": [
    {
     "name": "stdout",
     "output_type": "stream",
     "text": [
      "Training Input: \n"
     ]
    },
    {
     "data": {
      "text/plain": "array([[0, 0, 1],\n       [1, 1, 1],\n       [1, 0, 1],\n       [0, 1, 1]])"
     },
     "execution_count": 16,
     "metadata": {},
     "output_type": "execute_result"
    }
   ],
   "source": [
    "# Input Data\n",
    "train_x = np.array([\n",
    "    [0, 0, 1],\n",
    "    [1, 1, 1],\n",
    "    [1, 0, 1],\n",
    "    [0, 1, 1]\n",
    "])\n",
    "\n",
    "print(\"Training Input: \")\n",
    "train_x"
   ],
   "metadata": {
    "collapsed": false,
    "ExecuteTime": {
     "end_time": "2023-07-31T16:40:39.802907400Z",
     "start_time": "2023-07-31T16:40:39.789282900Z"
    }
   },
   "id": "d1aa1a907d49def3"
  },
  {
   "cell_type": "code",
   "execution_count": 17,
   "outputs": [
    {
     "name": "stdout",
     "output_type": "stream",
     "text": [
      "Training Output: \n"
     ]
    },
    {
     "data": {
      "text/plain": "array([[0],\n       [1],\n       [1],\n       [0]])"
     },
     "execution_count": 17,
     "metadata": {},
     "output_type": "execute_result"
    }
   ],
   "source": [
    "# Output Data\n",
    "train_y = np.array([[0, 1, 1, 0]]).T\n",
    "\n",
    "print(\"Training Output: \")\n",
    "train_y"
   ],
   "metadata": {
    "collapsed": false,
    "ExecuteTime": {
     "end_time": "2023-07-31T16:40:40.344989400Z",
     "start_time": "2023-07-31T16:40:40.332220800Z"
    }
   },
   "id": "a225b175e5db719d"
  },
  {
   "cell_type": "markdown",
   "source": [
    "## Weights"
   ],
   "metadata": {
    "collapsed": false
   },
   "id": "1db75c453807d797"
  },
  {
   "cell_type": "code",
   "execution_count": 18,
   "outputs": [],
   "source": [
    "# Seed random numbers\n",
    "np.random.seed(42)\n",
    "\n",
    "# Initialize weights randomly\n",
    "synaptic_weights = 2 * np.random.random((3, 1)) - 1"
   ],
   "metadata": {
    "collapsed": false,
    "ExecuteTime": {
     "end_time": "2023-07-31T16:44:32.413834800Z",
     "start_time": "2023-07-31T16:44:32.382714900Z"
    }
   },
   "id": "7db22c000f459451"
  },
  {
   "cell_type": "code",
   "execution_count": 19,
   "outputs": [
    {
     "name": "stdout",
     "output_type": "stream",
     "text": [
      "Synaptic weights: \n"
     ]
    },
    {
     "data": {
      "text/plain": "array([[-0.25091976],\n       [ 0.90142861],\n       [ 0.46398788]])"
     },
     "execution_count": 19,
     "metadata": {},
     "output_type": "execute_result"
    }
   ],
   "source": [
    "# Synaptic weights\n",
    "print(\"Synaptic weights: \")\n",
    "synaptic_weights"
   ],
   "metadata": {
    "collapsed": false,
    "ExecuteTime": {
     "end_time": "2023-07-31T16:44:54.431737Z",
     "start_time": "2023-07-31T16:44:54.399445400Z"
    }
   },
   "id": "72042d771fa1a0c5"
  },
  {
   "cell_type": "markdown",
   "source": [
    "## Perceptron"
   ],
   "metadata": {
    "collapsed": false
   },
   "id": "2cb74145d44400c"
  },
  {
   "cell_type": "code",
   "execution_count": 20,
   "outputs": [],
   "source": [
    "# Sigmoid Function to normalize inputs\n",
    "def sigmoid(x):\n",
    "    return 1 / (1 + np.exp(-x))"
   ],
   "metadata": {
    "collapsed": false,
    "ExecuteTime": {
     "end_time": "2023-07-31T16:50:25.493337800Z",
     "start_time": "2023-07-31T16:50:25.480329100Z"
    }
   },
   "id": "ec9ff05f4a9c9fa2"
  },
  {
   "cell_type": "code",
   "execution_count": 21,
   "outputs": [],
   "source": [
    "# Sigmoid Derivative to adjust synaptic weights\n",
    "def sigmoid_derivative(x):\n",
    "    return x * (1 - x)"
   ],
   "metadata": {
    "collapsed": false,
    "ExecuteTime": {
     "end_time": "2023-07-31T16:51:00.967790400Z",
     "start_time": "2023-07-31T16:51:00.943714900Z"
    }
   },
   "id": "42374b5b8ee4ea9"
  },
  {
   "cell_type": "code",
   "execution_count": 23,
   "outputs": [],
   "source": [
    "# Train\n",
    "for iteration in range(10_000):\n",
    "    input_layer = train_x\n",
    "    outputs = sigmoid(np.dot(input_layer, synaptic_weights))\n",
    "    \n",
    "    error = train_y - outputs\n",
    "    adjustments = error * sigmoid_derivative(outputs)\n",
    "    synaptic_weights += np.dot(input_layer.T, adjustments)"
   ],
   "metadata": {
    "collapsed": false,
    "ExecuteTime": {
     "end_time": "2023-07-31T16:56:46.651708200Z",
     "start_time": "2023-07-31T16:56:46.453435800Z"
    }
   },
   "id": "d5dfc0c42b6edd0b"
  },
  {
   "cell_type": "code",
   "execution_count": 24,
   "outputs": [
    {
     "name": "stdout",
     "output_type": "stream",
     "text": [
      "Synaptic Weight: \n"
     ]
    },
    {
     "data": {
      "text/plain": "array([[ 9.67256303],\n       [-0.20811174],\n       [-4.62926144]])"
     },
     "execution_count": 24,
     "metadata": {},
     "output_type": "execute_result"
    }
   ],
   "source": [
    "print(\"Synaptic Weight: \")\n",
    "synaptic_weights"
   ],
   "metadata": {
    "collapsed": false,
    "ExecuteTime": {
     "end_time": "2023-07-31T16:57:01.551491700Z",
     "start_time": "2023-07-31T16:57:01.522637700Z"
    }
   },
   "id": "cb8900cf755c2ae2"
  },
  {
   "cell_type": "code",
   "execution_count": 25,
   "outputs": [
    {
     "name": "stdout",
     "output_type": "stream",
     "text": [
      "Output: \n"
     ]
    },
    {
     "data": {
      "text/plain": "array([[0.00966808],\n       [0.99211705],\n       [0.99358863],\n       [0.00786589]])"
     },
     "execution_count": 25,
     "metadata": {},
     "output_type": "execute_result"
    }
   ],
   "source": [
    "print(\"Output: \")\n",
    "outputs"
   ],
   "metadata": {
    "collapsed": false,
    "ExecuteTime": {
     "end_time": "2023-07-31T16:57:16.064185100Z",
     "start_time": "2023-07-31T16:57:16.030907700Z"
    }
   },
   "id": "43fb63df5f4456a3"
  }
 ],
 "metadata": {
  "kernelspec": {
   "display_name": "Python 3",
   "language": "python",
   "name": "python3"
  },
  "language_info": {
   "codemirror_mode": {
    "name": "ipython",
    "version": 2
   },
   "file_extension": ".py",
   "mimetype": "text/x-python",
   "name": "python",
   "nbconvert_exporter": "python",
   "pygments_lexer": "ipython2",
   "version": "2.7.6"
  }
 },
 "nbformat": 4,
 "nbformat_minor": 5
}
