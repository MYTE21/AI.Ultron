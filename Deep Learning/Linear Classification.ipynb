{
 "cells": [
  {
   "cell_type": "markdown",
   "source": [
    "# Linear Classification\n",
    "* Dataset: [Breast Cancer Dataset](https://scikit-learn.org/stable/modules/generated/sklearn.datasets.load_breast_cancer.html)"
   ],
   "metadata": {
    "collapsed": false
   }
  },
  {
   "cell_type": "code",
   "execution_count": 1,
   "metadata": {
    "collapsed": true
   },
   "outputs": [
    {
     "name": "stdout",
     "output_type": "stream",
     "text": [
      "2.10.0\n"
     ]
    }
   ],
   "source": [
    "# Import TensorFlow\n",
    "import tensorflow as tf\n",
    "print(tf.__version__)"
   ]
  },
  {
   "cell_type": "code",
   "execution_count": 2,
   "outputs": [],
   "source": [
    "# Load the breast_cancer Data from Sklearn\n",
    "from sklearn.datasets import load_breast_cancer\n",
    "\n",
    "data = load_breast_cancer()"
   ],
   "metadata": {
    "collapsed": false
   }
  },
  {
   "cell_type": "code",
   "execution_count": 3,
   "outputs": [
    {
     "data": {
      "text/plain": "sklearn.utils._bunch.Bunch"
     },
     "execution_count": 3,
     "metadata": {},
     "output_type": "execute_result"
    }
   ],
   "source": [
    "# Check the type of data\n",
    "type(data)"
   ],
   "metadata": {
    "collapsed": false
   }
  },
  {
   "cell_type": "code",
   "execution_count": 4,
   "outputs": [
    {
     "data": {
      "text/plain": "dict_keys(['data', 'target', 'frame', 'target_names', 'DESCR', 'feature_names', 'filename', 'data_module'])"
     },
     "execution_count": 4,
     "metadata": {},
     "output_type": "execute_result"
    }
   ],
   "source": [
    "# note: It is a Bunch object\n",
    "# ? this Bunch basically act like a dictionary where you can treat the keys like attributes\n",
    "data.keys()"
   ],
   "metadata": {
    "collapsed": false
   }
  },
  {
   "cell_type": "code",
   "execution_count": 5,
   "outputs": [
    {
     "data": {
      "text/plain": "(569, 30)"
     },
     "execution_count": 5,
     "metadata": {},
     "output_type": "execute_result"
    }
   ],
   "source": [
    "# ? 'data' means input data (X)\n",
    "data.data.shape"
   ],
   "metadata": {
    "collapsed": false
   }
  },
  {
   "cell_type": "code",
   "execution_count": 6,
   "outputs": [
    {
     "data": {
      "text/plain": "array([0, 0, 0, 0, 0, 0, 0, 0, 0, 0, 0, 0, 0, 0, 0, 0, 0, 0, 0, 1, 1, 1,\n       0, 0, 0, 0, 0, 0, 0, 0, 0, 0, 0, 0, 0, 0, 0, 1, 0, 0, 0, 0, 0, 0,\n       0, 0, 1, 0, 1, 1, 1, 1, 1, 0, 0, 1, 0, 0, 1, 1, 1, 1, 0, 1, 0, 0,\n       1, 1, 1, 1, 0, 1, 0, 0, 1, 0, 1, 0, 0, 1, 1, 1, 0, 0, 1, 0, 0, 0,\n       1, 1, 1, 0, 1, 1, 0, 0, 1, 1, 1, 0, 0, 1, 1, 1, 1, 0, 1, 1, 0, 1,\n       1, 1, 1, 1, 1, 1, 1, 0, 0, 0, 1, 0, 0, 1, 1, 1, 0, 0, 1, 0, 1, 0,\n       0, 1, 0, 0, 1, 1, 0, 1, 1, 0, 1, 1, 1, 1, 0, 1, 1, 1, 1, 1, 1, 1,\n       1, 1, 0, 1, 1, 1, 1, 0, 0, 1, 0, 1, 1, 0, 0, 1, 1, 0, 0, 1, 1, 1,\n       1, 0, 1, 1, 0, 0, 0, 1, 0, 1, 0, 1, 1, 1, 0, 1, 1, 0, 0, 1, 0, 0,\n       0, 0, 1, 0, 0, 0, 1, 0, 1, 0, 1, 1, 0, 1, 0, 0, 0, 0, 1, 1, 0, 0,\n       1, 1, 1, 0, 1, 1, 1, 1, 1, 0, 0, 1, 1, 0, 1, 1, 0, 0, 1, 0, 1, 1,\n       1, 1, 0, 1, 1, 1, 1, 1, 0, 1, 0, 0, 0, 0, 0, 0, 0, 0, 0, 0, 0, 0,\n       0, 0, 1, 1, 1, 1, 1, 1, 0, 1, 0, 1, 1, 0, 1, 1, 0, 1, 0, 0, 1, 1,\n       1, 1, 1, 1, 1, 1, 1, 1, 1, 1, 1, 0, 1, 1, 0, 1, 0, 1, 1, 1, 1, 1,\n       1, 1, 1, 1, 1, 1, 1, 1, 1, 0, 1, 1, 1, 0, 1, 0, 1, 1, 1, 1, 0, 0,\n       0, 1, 1, 1, 1, 0, 1, 0, 1, 0, 1, 1, 1, 0, 1, 1, 1, 1, 1, 1, 1, 0,\n       0, 0, 1, 1, 1, 1, 1, 1, 1, 1, 1, 1, 1, 0, 0, 1, 0, 0, 0, 1, 0, 0,\n       1, 1, 1, 1, 1, 0, 1, 1, 1, 1, 1, 0, 1, 1, 1, 0, 1, 1, 0, 0, 1, 1,\n       1, 1, 1, 1, 0, 1, 1, 1, 1, 1, 1, 1, 0, 1, 1, 1, 1, 1, 0, 1, 1, 0,\n       1, 1, 1, 1, 1, 1, 1, 1, 1, 1, 1, 1, 0, 1, 0, 0, 1, 0, 1, 1, 1, 1,\n       1, 0, 1, 1, 0, 1, 0, 1, 1, 0, 1, 0, 1, 1, 1, 1, 1, 1, 1, 1, 0, 0,\n       1, 1, 1, 1, 1, 1, 0, 1, 1, 1, 1, 1, 1, 1, 1, 1, 1, 0, 1, 1, 1, 1,\n       1, 1, 1, 0, 1, 0, 1, 1, 0, 1, 1, 1, 1, 1, 0, 0, 1, 0, 1, 0, 1, 1,\n       1, 1, 1, 0, 1, 1, 0, 1, 0, 1, 0, 0, 1, 1, 1, 0, 1, 1, 1, 1, 1, 1,\n       1, 1, 1, 1, 1, 0, 1, 0, 0, 1, 1, 1, 1, 1, 1, 1, 1, 1, 1, 1, 1, 1,\n       1, 1, 1, 1, 1, 1, 1, 1, 1, 1, 1, 1, 0, 0, 0, 0, 0, 0, 1])"
     },
     "execution_count": 6,
     "metadata": {},
     "output_type": "execute_result"
    }
   ],
   "source": [
    "# ? 'target' means output data (y)\n",
    "data.target"
   ],
   "metadata": {
    "collapsed": false
   }
  },
  {
   "cell_type": "code",
   "execution_count": 7,
   "outputs": [
    {
     "data": {
      "text/plain": "array(['malignant', 'benign'], dtype='<U9')"
     },
     "execution_count": 7,
     "metadata": {},
     "output_type": "execute_result"
    }
   ],
   "source": [
    "# 'target' names\n",
    "data.target_names"
   ],
   "metadata": {
    "collapsed": false
   }
  },
  {
   "cell_type": "code",
   "execution_count": 8,
   "outputs": [
    {
     "data": {
      "text/plain": "(569,)"
     },
     "execution_count": 8,
     "metadata": {},
     "output_type": "execute_result"
    }
   ],
   "source": [
    "data.target.shape"
   ],
   "metadata": {
    "collapsed": false
   }
  },
  {
   "cell_type": "code",
   "execution_count": 9,
   "outputs": [
    {
     "data": {
      "text/plain": "array(['mean radius', 'mean texture', 'mean perimeter', 'mean area',\n       'mean smoothness', 'mean compactness', 'mean concavity',\n       'mean concave points', 'mean symmetry', 'mean fractal dimension',\n       'radius error', 'texture error', 'perimeter error', 'area error',\n       'smoothness error', 'compactness error', 'concavity error',\n       'concave points error', 'symmetry error',\n       'fractal dimension error', 'worst radius', 'worst texture',\n       'worst perimeter', 'worst area', 'worst smoothness',\n       'worst compactness', 'worst concavity', 'worst concave points',\n       'worst symmetry', 'worst fractal dimension'], dtype='<U23')"
     },
     "execution_count": 9,
     "metadata": {},
     "output_type": "execute_result"
    }
   ],
   "source": [
    "# Meaning of each feature\n",
    "data.feature_names"
   ],
   "metadata": {
    "collapsed": false
   }
  },
  {
   "cell_type": "code",
   "execution_count": 10,
   "outputs": [],
   "source": [
    "# Split dataset into train and test\n",
    "from sklearn.model_selection import train_test_split\n",
    "\n",
    "X_train, X_test, y_train, y_test = train_test_split(data.data, data.target, test_size=0.33)\n",
    "N, D = X_train.shape"
   ],
   "metadata": {
    "collapsed": false
   }
  },
  {
   "cell_type": "code",
   "execution_count": 11,
   "outputs": [],
   "source": [
    "# Scaling the input dataset\n",
    "from sklearn.preprocessing import StandardScaler\n",
    "\n",
    "scaler = StandardScaler()\n",
    "\n",
    "X_train = scaler.fit_transform(X_train)\n",
    "X_test = scaler.fit_transform(X_test)"
   ],
   "metadata": {
    "collapsed": false
   }
  },
  {
   "cell_type": "code",
   "execution_count": 12,
   "outputs": [
    {
     "name": "stdout",
     "output_type": "stream",
     "text": [
      "Epoch 1/100\n",
      "12/12 [==============================] - 1s 18ms/step - loss: 1.4120 - accuracy: 0.3202 - val_loss: 1.4539 - val_accuracy: 0.3085\n",
      "Epoch 2/100\n",
      "12/12 [==============================] - 0s 5ms/step - loss: 1.2945 - accuracy: 0.3570 - val_loss: 1.3260 - val_accuracy: 0.3191\n",
      "Epoch 3/100\n",
      "12/12 [==============================] - 0s 5ms/step - loss: 1.1834 - accuracy: 0.3911 - val_loss: 1.2080 - val_accuracy: 0.3723\n",
      "Epoch 4/100\n",
      "12/12 [==============================] - 0s 5ms/step - loss: 1.0834 - accuracy: 0.4173 - val_loss: 1.0972 - val_accuracy: 0.4309\n",
      "Epoch 5/100\n",
      "12/12 [==============================] - 0s 5ms/step - loss: 0.9866 - accuracy: 0.4436 - val_loss: 0.9990 - val_accuracy: 0.4628\n",
      "Epoch 6/100\n",
      "12/12 [==============================] - 0s 5ms/step - loss: 0.9021 - accuracy: 0.4856 - val_loss: 0.9096 - val_accuracy: 0.5160\n",
      "Epoch 7/100\n",
      "12/12 [==============================] - 0s 5ms/step - loss: 0.8253 - accuracy: 0.5171 - val_loss: 0.8297 - val_accuracy: 0.5532\n",
      "Epoch 8/100\n",
      "12/12 [==============================] - 0s 4ms/step - loss: 0.7559 - accuracy: 0.5748 - val_loss: 0.7598 - val_accuracy: 0.5957\n",
      "Epoch 9/100\n",
      "12/12 [==============================] - 0s 4ms/step - loss: 0.6971 - accuracy: 0.6247 - val_loss: 0.6959 - val_accuracy: 0.6330\n",
      "Epoch 10/100\n",
      "12/12 [==============================] - 0s 5ms/step - loss: 0.6428 - accuracy: 0.6824 - val_loss: 0.6405 - val_accuracy: 0.6702\n",
      "Epoch 11/100\n",
      "12/12 [==============================] - 0s 4ms/step - loss: 0.5960 - accuracy: 0.7139 - val_loss: 0.5909 - val_accuracy: 0.6968\n",
      "Epoch 12/100\n",
      "12/12 [==============================] - 0s 4ms/step - loss: 0.5540 - accuracy: 0.7507 - val_loss: 0.5473 - val_accuracy: 0.7181\n",
      "Epoch 13/100\n",
      "12/12 [==============================] - 0s 6ms/step - loss: 0.5178 - accuracy: 0.7769 - val_loss: 0.5078 - val_accuracy: 0.7394\n",
      "Epoch 14/100\n",
      "12/12 [==============================] - 0s 5ms/step - loss: 0.4849 - accuracy: 0.8031 - val_loss: 0.4728 - val_accuracy: 0.7660\n",
      "Epoch 15/100\n",
      "12/12 [==============================] - 0s 4ms/step - loss: 0.4552 - accuracy: 0.8110 - val_loss: 0.4421 - val_accuracy: 0.7872\n",
      "Epoch 16/100\n",
      "12/12 [==============================] - 0s 5ms/step - loss: 0.4295 - accuracy: 0.8268 - val_loss: 0.4141 - val_accuracy: 0.8085\n",
      "Epoch 17/100\n",
      "12/12 [==============================] - 0s 5ms/step - loss: 0.4058 - accuracy: 0.8425 - val_loss: 0.3895 - val_accuracy: 0.8298\n",
      "Epoch 18/100\n",
      "12/12 [==============================] - 0s 5ms/step - loss: 0.3849 - accuracy: 0.8714 - val_loss: 0.3672 - val_accuracy: 0.8404\n",
      "Epoch 19/100\n",
      "12/12 [==============================] - 0s 4ms/step - loss: 0.3660 - accuracy: 0.8793 - val_loss: 0.3474 - val_accuracy: 0.8511\n",
      "Epoch 20/100\n",
      "12/12 [==============================] - 0s 4ms/step - loss: 0.3487 - accuracy: 0.8924 - val_loss: 0.3300 - val_accuracy: 0.8670\n",
      "Epoch 21/100\n",
      "12/12 [==============================] - 0s 4ms/step - loss: 0.3339 - accuracy: 0.9003 - val_loss: 0.3138 - val_accuracy: 0.8830\n",
      "Epoch 22/100\n",
      "12/12 [==============================] - 0s 4ms/step - loss: 0.3200 - accuracy: 0.9081 - val_loss: 0.2991 - val_accuracy: 0.8883\n",
      "Epoch 23/100\n",
      "12/12 [==============================] - 0s 5ms/step - loss: 0.3071 - accuracy: 0.9081 - val_loss: 0.2862 - val_accuracy: 0.8989\n",
      "Epoch 24/100\n",
      "12/12 [==============================] - 0s 5ms/step - loss: 0.2960 - accuracy: 0.9108 - val_loss: 0.2743 - val_accuracy: 0.9096\n",
      "Epoch 25/100\n",
      "12/12 [==============================] - 0s 4ms/step - loss: 0.2856 - accuracy: 0.9134 - val_loss: 0.2633 - val_accuracy: 0.9149\n",
      "Epoch 26/100\n",
      "12/12 [==============================] - 0s 4ms/step - loss: 0.2760 - accuracy: 0.9108 - val_loss: 0.2537 - val_accuracy: 0.9149\n",
      "Epoch 27/100\n",
      "12/12 [==============================] - 0s 4ms/step - loss: 0.2676 - accuracy: 0.9108 - val_loss: 0.2445 - val_accuracy: 0.9202\n",
      "Epoch 28/100\n",
      "12/12 [==============================] - 0s 5ms/step - loss: 0.2597 - accuracy: 0.9108 - val_loss: 0.2360 - val_accuracy: 0.9202\n",
      "Epoch 29/100\n",
      "12/12 [==============================] - 0s 6ms/step - loss: 0.2523 - accuracy: 0.9134 - val_loss: 0.2283 - val_accuracy: 0.9202\n",
      "Epoch 30/100\n",
      "12/12 [==============================] - 0s 5ms/step - loss: 0.2454 - accuracy: 0.9213 - val_loss: 0.2215 - val_accuracy: 0.9202\n",
      "Epoch 31/100\n",
      "12/12 [==============================] - 0s 5ms/step - loss: 0.2394 - accuracy: 0.9213 - val_loss: 0.2149 - val_accuracy: 0.9202\n",
      "Epoch 32/100\n",
      "12/12 [==============================] - 0s 5ms/step - loss: 0.2336 - accuracy: 0.9239 - val_loss: 0.2087 - val_accuracy: 0.9202\n",
      "Epoch 33/100\n",
      "12/12 [==============================] - 0s 7ms/step - loss: 0.2281 - accuracy: 0.9265 - val_loss: 0.2031 - val_accuracy: 0.9255\n",
      "Epoch 34/100\n",
      "12/12 [==============================] - 0s 6ms/step - loss: 0.2230 - accuracy: 0.9318 - val_loss: 0.1979 - val_accuracy: 0.9309\n",
      "Epoch 35/100\n",
      "12/12 [==============================] - 0s 6ms/step - loss: 0.2184 - accuracy: 0.9318 - val_loss: 0.1929 - val_accuracy: 0.9362\n",
      "Epoch 36/100\n",
      "12/12 [==============================] - 0s 5ms/step - loss: 0.2139 - accuracy: 0.9370 - val_loss: 0.1884 - val_accuracy: 0.9521\n",
      "Epoch 37/100\n",
      "12/12 [==============================] - 0s 5ms/step - loss: 0.2097 - accuracy: 0.9370 - val_loss: 0.1841 - val_accuracy: 0.9521\n",
      "Epoch 38/100\n",
      "12/12 [==============================] - 0s 5ms/step - loss: 0.2059 - accuracy: 0.9396 - val_loss: 0.1800 - val_accuracy: 0.9574\n",
      "Epoch 39/100\n",
      "12/12 [==============================] - 0s 5ms/step - loss: 0.2021 - accuracy: 0.9396 - val_loss: 0.1761 - val_accuracy: 0.9574\n",
      "Epoch 40/100\n",
      "12/12 [==============================] - 0s 5ms/step - loss: 0.1986 - accuracy: 0.9423 - val_loss: 0.1724 - val_accuracy: 0.9574\n",
      "Epoch 41/100\n",
      "12/12 [==============================] - 0s 6ms/step - loss: 0.1952 - accuracy: 0.9423 - val_loss: 0.1690 - val_accuracy: 0.9574\n",
      "Epoch 42/100\n",
      "12/12 [==============================] - 0s 4ms/step - loss: 0.1920 - accuracy: 0.9423 - val_loss: 0.1658 - val_accuracy: 0.9574\n",
      "Epoch 43/100\n",
      "12/12 [==============================] - 0s 4ms/step - loss: 0.1890 - accuracy: 0.9423 - val_loss: 0.1627 - val_accuracy: 0.9574\n",
      "Epoch 44/100\n",
      "12/12 [==============================] - 0s 4ms/step - loss: 0.1861 - accuracy: 0.9449 - val_loss: 0.1598 - val_accuracy: 0.9574\n",
      "Epoch 45/100\n",
      "12/12 [==============================] - 0s 5ms/step - loss: 0.1834 - accuracy: 0.9449 - val_loss: 0.1570 - val_accuracy: 0.9628\n",
      "Epoch 46/100\n",
      "12/12 [==============================] - 0s 4ms/step - loss: 0.1808 - accuracy: 0.9423 - val_loss: 0.1543 - val_accuracy: 0.9628\n",
      "Epoch 47/100\n",
      "12/12 [==============================] - 0s 5ms/step - loss: 0.1783 - accuracy: 0.9475 - val_loss: 0.1518 - val_accuracy: 0.9628\n",
      "Epoch 48/100\n",
      "12/12 [==============================] - 0s 5ms/step - loss: 0.1758 - accuracy: 0.9475 - val_loss: 0.1494 - val_accuracy: 0.9681\n",
      "Epoch 49/100\n",
      "12/12 [==============================] - 0s 5ms/step - loss: 0.1735 - accuracy: 0.9501 - val_loss: 0.1470 - val_accuracy: 0.9681\n",
      "Epoch 50/100\n",
      "12/12 [==============================] - 0s 5ms/step - loss: 0.1713 - accuracy: 0.9528 - val_loss: 0.1448 - val_accuracy: 0.9681\n",
      "Epoch 51/100\n",
      "12/12 [==============================] - 0s 4ms/step - loss: 0.1692 - accuracy: 0.9528 - val_loss: 0.1427 - val_accuracy: 0.9681\n",
      "Epoch 52/100\n",
      "12/12 [==============================] - 0s 4ms/step - loss: 0.1671 - accuracy: 0.9554 - val_loss: 0.1408 - val_accuracy: 0.9681\n",
      "Epoch 53/100\n",
      "12/12 [==============================] - 0s 4ms/step - loss: 0.1652 - accuracy: 0.9554 - val_loss: 0.1388 - val_accuracy: 0.9681\n",
      "Epoch 54/100\n",
      "12/12 [==============================] - 0s 4ms/step - loss: 0.1633 - accuracy: 0.9606 - val_loss: 0.1369 - val_accuracy: 0.9681\n",
      "Epoch 55/100\n",
      "12/12 [==============================] - 0s 4ms/step - loss: 0.1615 - accuracy: 0.9606 - val_loss: 0.1350 - val_accuracy: 0.9681\n",
      "Epoch 56/100\n",
      "12/12 [==============================] - 0s 4ms/step - loss: 0.1597 - accuracy: 0.9606 - val_loss: 0.1332 - val_accuracy: 0.9681\n",
      "Epoch 57/100\n",
      "12/12 [==============================] - 0s 5ms/step - loss: 0.1580 - accuracy: 0.9606 - val_loss: 0.1315 - val_accuracy: 0.9681\n",
      "Epoch 58/100\n",
      "12/12 [==============================] - 0s 4ms/step - loss: 0.1564 - accuracy: 0.9606 - val_loss: 0.1298 - val_accuracy: 0.9681\n",
      "Epoch 59/100\n",
      "12/12 [==============================] - 0s 4ms/step - loss: 0.1547 - accuracy: 0.9606 - val_loss: 0.1283 - val_accuracy: 0.9681\n",
      "Epoch 60/100\n",
      "12/12 [==============================] - 0s 4ms/step - loss: 0.1532 - accuracy: 0.9606 - val_loss: 0.1268 - val_accuracy: 0.9681\n",
      "Epoch 61/100\n",
      "12/12 [==============================] - 0s 4ms/step - loss: 0.1517 - accuracy: 0.9606 - val_loss: 0.1253 - val_accuracy: 0.9681\n",
      "Epoch 62/100\n",
      "12/12 [==============================] - 0s 4ms/step - loss: 0.1503 - accuracy: 0.9606 - val_loss: 0.1239 - val_accuracy: 0.9681\n",
      "Epoch 63/100\n",
      "12/12 [==============================] - 0s 4ms/step - loss: 0.1489 - accuracy: 0.9606 - val_loss: 0.1224 - val_accuracy: 0.9681\n",
      "Epoch 64/100\n",
      "12/12 [==============================] - 0s 5ms/step - loss: 0.1475 - accuracy: 0.9606 - val_loss: 0.1211 - val_accuracy: 0.9681\n",
      "Epoch 65/100\n",
      "12/12 [==============================] - 0s 4ms/step - loss: 0.1462 - accuracy: 0.9606 - val_loss: 0.1198 - val_accuracy: 0.9681\n",
      "Epoch 66/100\n",
      "12/12 [==============================] - 0s 5ms/step - loss: 0.1449 - accuracy: 0.9606 - val_loss: 0.1186 - val_accuracy: 0.9681\n",
      "Epoch 67/100\n",
      "12/12 [==============================] - 0s 4ms/step - loss: 0.1437 - accuracy: 0.9606 - val_loss: 0.1173 - val_accuracy: 0.9681\n",
      "Epoch 68/100\n",
      "12/12 [==============================] - 0s 4ms/step - loss: 0.1425 - accuracy: 0.9606 - val_loss: 0.1162 - val_accuracy: 0.9681\n",
      "Epoch 69/100\n",
      "12/12 [==============================] - 0s 5ms/step - loss: 0.1413 - accuracy: 0.9633 - val_loss: 0.1151 - val_accuracy: 0.9681\n",
      "Epoch 70/100\n",
      "12/12 [==============================] - 0s 5ms/step - loss: 0.1402 - accuracy: 0.9633 - val_loss: 0.1139 - val_accuracy: 0.9681\n",
      "Epoch 71/100\n",
      "12/12 [==============================] - 0s 5ms/step - loss: 0.1391 - accuracy: 0.9633 - val_loss: 0.1129 - val_accuracy: 0.9681\n",
      "Epoch 72/100\n",
      "12/12 [==============================] - 0s 4ms/step - loss: 0.1381 - accuracy: 0.9633 - val_loss: 0.1118 - val_accuracy: 0.9681\n",
      "Epoch 73/100\n",
      "12/12 [==============================] - 0s 5ms/step - loss: 0.1370 - accuracy: 0.9659 - val_loss: 0.1108 - val_accuracy: 0.9681\n",
      "Epoch 74/100\n",
      "12/12 [==============================] - 0s 4ms/step - loss: 0.1360 - accuracy: 0.9659 - val_loss: 0.1097 - val_accuracy: 0.9681\n",
      "Epoch 75/100\n",
      "12/12 [==============================] - 0s 5ms/step - loss: 0.1350 - accuracy: 0.9659 - val_loss: 0.1087 - val_accuracy: 0.9681\n",
      "Epoch 76/100\n",
      "12/12 [==============================] - 0s 5ms/step - loss: 0.1341 - accuracy: 0.9659 - val_loss: 0.1078 - val_accuracy: 0.9681\n",
      "Epoch 77/100\n",
      "12/12 [==============================] - 0s 5ms/step - loss: 0.1331 - accuracy: 0.9659 - val_loss: 0.1069 - val_accuracy: 0.9734\n",
      "Epoch 78/100\n",
      "12/12 [==============================] - 0s 5ms/step - loss: 0.1322 - accuracy: 0.9659 - val_loss: 0.1060 - val_accuracy: 0.9734\n",
      "Epoch 79/100\n",
      "12/12 [==============================] - 0s 4ms/step - loss: 0.1313 - accuracy: 0.9659 - val_loss: 0.1051 - val_accuracy: 0.9734\n",
      "Epoch 80/100\n",
      "12/12 [==============================] - 0s 4ms/step - loss: 0.1305 - accuracy: 0.9659 - val_loss: 0.1042 - val_accuracy: 0.9734\n",
      "Epoch 81/100\n",
      "12/12 [==============================] - 0s 4ms/step - loss: 0.1296 - accuracy: 0.9659 - val_loss: 0.1034 - val_accuracy: 0.9734\n",
      "Epoch 82/100\n",
      "12/12 [==============================] - 0s 4ms/step - loss: 0.1288 - accuracy: 0.9659 - val_loss: 0.1025 - val_accuracy: 0.9734\n",
      "Epoch 83/100\n",
      "12/12 [==============================] - 0s 4ms/step - loss: 0.1280 - accuracy: 0.9659 - val_loss: 0.1018 - val_accuracy: 0.9734\n",
      "Epoch 84/100\n",
      "12/12 [==============================] - 0s 4ms/step - loss: 0.1272 - accuracy: 0.9659 - val_loss: 0.1010 - val_accuracy: 0.9734\n",
      "Epoch 85/100\n",
      "12/12 [==============================] - 0s 5ms/step - loss: 0.1265 - accuracy: 0.9659 - val_loss: 0.1002 - val_accuracy: 0.9734\n",
      "Epoch 86/100\n",
      "12/12 [==============================] - 0s 4ms/step - loss: 0.1257 - accuracy: 0.9659 - val_loss: 0.0995 - val_accuracy: 0.9734\n",
      "Epoch 87/100\n",
      "12/12 [==============================] - 0s 4ms/step - loss: 0.1249 - accuracy: 0.9659 - val_loss: 0.0988 - val_accuracy: 0.9734\n",
      "Epoch 88/100\n",
      "12/12 [==============================] - 0s 4ms/step - loss: 0.1243 - accuracy: 0.9659 - val_loss: 0.0980 - val_accuracy: 0.9734\n",
      "Epoch 89/100\n",
      "12/12 [==============================] - 0s 4ms/step - loss: 0.1236 - accuracy: 0.9659 - val_loss: 0.0974 - val_accuracy: 0.9734\n",
      "Epoch 90/100\n",
      "12/12 [==============================] - 0s 4ms/step - loss: 0.1229 - accuracy: 0.9659 - val_loss: 0.0967 - val_accuracy: 0.9734\n",
      "Epoch 91/100\n",
      "12/12 [==============================] - 0s 5ms/step - loss: 0.1222 - accuracy: 0.9659 - val_loss: 0.0960 - val_accuracy: 0.9734\n",
      "Epoch 92/100\n",
      "12/12 [==============================] - 0s 4ms/step - loss: 0.1215 - accuracy: 0.9659 - val_loss: 0.0953 - val_accuracy: 0.9734\n",
      "Epoch 93/100\n",
      "12/12 [==============================] - 0s 5ms/step - loss: 0.1209 - accuracy: 0.9659 - val_loss: 0.0947 - val_accuracy: 0.9734\n",
      "Epoch 94/100\n",
      "12/12 [==============================] - 0s 4ms/step - loss: 0.1203 - accuracy: 0.9659 - val_loss: 0.0941 - val_accuracy: 0.9734\n",
      "Epoch 95/100\n",
      "12/12 [==============================] - 0s 4ms/step - loss: 0.1197 - accuracy: 0.9659 - val_loss: 0.0934 - val_accuracy: 0.9734\n",
      "Epoch 96/100\n",
      "12/12 [==============================] - 0s 4ms/step - loss: 0.1191 - accuracy: 0.9659 - val_loss: 0.0928 - val_accuracy: 0.9734\n",
      "Epoch 97/100\n",
      "12/12 [==============================] - 0s 4ms/step - loss: 0.1185 - accuracy: 0.9659 - val_loss: 0.0922 - val_accuracy: 0.9734\n",
      "Epoch 98/100\n",
      "12/12 [==============================] - 0s 4ms/step - loss: 0.1179 - accuracy: 0.9659 - val_loss: 0.0916 - val_accuracy: 0.9734\n",
      "Epoch 99/100\n",
      "12/12 [==============================] - 0s 4ms/step - loss: 0.1173 - accuracy: 0.9659 - val_loss: 0.0911 - val_accuracy: 0.9734\n",
      "Epoch 100/100\n",
      "12/12 [==============================] - 0s 4ms/step - loss: 0.1168 - accuracy: 0.9659 - val_loss: 0.0905 - val_accuracy: 0.9734\n",
      "12/12 [==============================] - 0s 1ms/step - loss: 0.1164 - accuracy: 0.9659\n",
      "Train Score:  [0.11643123626708984, 0.9658792614936829]\n",
      "6/6 [==============================] - 0s 2ms/step - loss: 0.0905 - accuracy: 0.9734\n",
      "Test Score:  [0.09052611142396927, 0.9734042286872864]\n"
     ]
    }
   ],
   "source": [
    "# TensorFlow Model\n",
    "model = tf.keras.models.Sequential([\n",
    "    tf.keras.layers.Input(shape=(D,)),\n",
    "    tf.keras.layers.Dense(1, activation='sigmoid')\n",
    "])\n",
    "\n",
    "model.compile(optimizer='adam',\n",
    "              loss='binary_crossentropy',\n",
    "              metrics=['accuracy'])\n",
    "\n",
    "# Train the Model\n",
    "r = model.fit(X_train, y_train, validation_data=(X_test, y_test), epochs=100)\n",
    "\n",
    "print(\"Train Score: \", model.evaluate(X_train, y_train))\n",
    "print(\"Test Score: \", model.evaluate(X_test, y_test))"
   ],
   "metadata": {
    "collapsed": false
   }
  },
  {
   "cell_type": "code",
   "execution_count": 13,
   "outputs": [
    {
     "data": {
      "text/plain": "<matplotlib.legend.Legend at 0x1c3416f66e0>"
     },
     "execution_count": 13,
     "metadata": {},
     "output_type": "execute_result"
    },
    {
     "data": {
      "text/plain": "<Figure size 640x480 with 1 Axes>",
      "image/png": "[encoded data removed]"
     },
     "metadata": {},
     "output_type": "display_data"
    }
   ],
   "source": [
    "# Plot what's returned by model.fit()\n",
    "import matplotlib.pyplot as plt\n",
    "plt.plot(r.history['loss'], label='loss')\n",
    "plt.plot(r.history['val_loss'], label='val_loss')\n",
    "plt.legend()"
   ],
   "metadata": {
    "collapsed": false
   }
  },
  {
   "cell_type": "code",
   "execution_count": 14,
   "outputs": [
    {
     "data": {
      "text/plain": "<matplotlib.legend.Legend at 0x1c340b6fa90>"
     },
     "execution_count": 14,
     "metadata": {},
     "output_type": "execute_result"
    },
    {
     "data": {
      "text/plain": "<Figure size 640x480 with 1 Axes>",
      "image/png": "[encoded data removed]"
     },
     "metadata": {},
     "output_type": "display_data"
    }
   ],
   "source": [
    "# Plot the accuracy of the model\n",
    "plt.plot(r.history['accuracy'], label='acc')\n",
    "plt.plot(r.history['val_accuracy'], label='val_acc')\n",
    "plt.legend()"
   ],
   "metadata": {
    "collapsed": false
   }
  },
  {
   "cell_type": "markdown",
   "source": [
    "### Making Predictions"
   ],
   "metadata": {
    "collapsed": false
   }
  },
  {
   "cell_type": "code",
   "execution_count": 15,
   "outputs": [
    {
     "name": "stdout",
     "output_type": "stream",
     "text": [
      "6/6 [==============================] - 0s 2ms/step\n",
      "[[4.33894061e-03]\n",
      " [9.98652875e-01]\n",
      " [8.24048042e-01]\n",
      " [8.54170740e-01]\n",
      " [2.41739582e-03]\n",
      " [9.74060655e-01]\n",
      " [9.85868871e-01]\n",
      " [9.99355674e-01]\n",
      " [4.60864697e-03]\n",
      " [9.80241656e-01]\n",
      " [9.71314609e-01]\n",
      " [9.97294426e-01]\n",
      " [9.93554473e-01]\n",
      " [1.09483735e-04]\n",
      " [1.49812058e-01]\n",
      " [9.91724849e-01]\n",
      " [3.38745140e-03]\n",
      " [8.30124199e-01]\n",
      " [6.56749964e-01]\n",
      " [7.73061752e-01]\n",
      " [1.17846653e-02]\n",
      " [9.52856302e-01]\n",
      " [4.29232791e-02]\n",
      " [9.97421384e-01]\n",
      " [6.16443872e-01]\n",
      " [4.93481338e-01]\n",
      " [6.61887825e-01]\n",
      " [8.77738118e-01]\n",
      " [4.85244878e-02]\n",
      " [1.19976047e-03]\n",
      " [4.55261159e-07]\n",
      " [2.89824277e-01]\n",
      " [9.28456008e-01]\n",
      " [1.08557194e-01]\n",
      " [9.80140269e-01]\n",
      " [9.15540397e-01]\n",
      " [9.88273978e-01]\n",
      " [9.91384804e-01]\n",
      " [7.30413230e-05]\n",
      " [9.93157208e-01]\n",
      " [9.20045376e-01]\n",
      " [2.44297087e-03]\n",
      " [9.08213317e-01]\n",
      " [9.63901341e-01]\n",
      " [9.95982051e-01]\n",
      " [3.73773687e-02]\n",
      " [9.80622232e-01]\n",
      " [9.67905343e-01]\n",
      " [8.81445825e-01]\n",
      " [9.98969376e-01]\n",
      " [1.65203020e-01]\n",
      " [9.91052806e-01]\n",
      " [9.14600968e-01]\n",
      " [1.53926671e-01]\n",
      " [2.70121731e-04]\n",
      " [9.87724066e-01]\n",
      " [5.28371185e-02]\n",
      " [1.72794569e-06]\n",
      " [9.99424398e-01]\n",
      " [8.87654662e-01]\n",
      " [8.82770419e-01]\n",
      " [9.93520260e-01]\n",
      " [9.74892855e-01]\n",
      " [9.14514422e-01]\n",
      " [4.80317548e-02]\n",
      " [9.33085740e-01]\n",
      " [8.01468939e-02]\n",
      " [9.79842186e-01]\n",
      " [5.37208654e-03]\n",
      " [2.22300306e-01]\n",
      " [8.02421391e-01]\n",
      " [2.52446294e-01]\n",
      " [8.05123091e-01]\n",
      " [9.27853823e-01]\n",
      " [8.15445364e-01]\n",
      " [9.99695718e-01]\n",
      " [9.97528315e-01]\n",
      " [9.98063326e-01]\n",
      " [9.86136794e-01]\n",
      " [5.22291422e-01]\n",
      " [6.35571957e-01]\n",
      " [9.96586859e-01]\n",
      " [3.07641029e-01]\n",
      " [2.20972281e-02]\n",
      " [9.84723806e-01]\n",
      " [9.93509471e-01]\n",
      " [9.67000008e-01]\n",
      " [1.98831724e-04]\n",
      " [9.44564700e-01]\n",
      " [9.29598212e-01]\n",
      " [9.92716193e-01]\n",
      " [2.36011856e-05]\n",
      " [3.71006317e-03]\n",
      " [9.94245529e-01]\n",
      " [9.99616504e-01]\n",
      " [8.79841205e-03]\n",
      " [9.96915877e-01]\n",
      " [1.52482542e-07]\n",
      " [1.15910359e-01]\n",
      " [9.90705371e-01]\n",
      " [9.06702101e-01]\n",
      " [9.89371419e-01]\n",
      " [1.31473283e-03]\n",
      " [9.98315096e-01]\n",
      " [9.77612197e-01]\n",
      " [9.18846607e-01]\n",
      " [1.99397118e-03]\n",
      " [7.97015190e-01]\n",
      " [9.97924209e-01]\n",
      " [9.64135110e-01]\n",
      " [2.47936789e-03]\n",
      " [6.05503272e-04]\n",
      " [9.90072787e-01]\n",
      " [9.81926262e-01]\n",
      " [4.15001735e-02]\n",
      " [3.86768170e-06]\n",
      " [9.67278004e-01]\n",
      " [1.63953397e-02]\n",
      " [1.84515484e-05]\n",
      " [9.72658038e-01]\n",
      " [8.41634393e-01]\n",
      " [9.67526972e-01]\n",
      " [9.92062330e-01]\n",
      " [2.68698204e-04]\n",
      " [1.69402122e-01]\n",
      " [9.73968446e-01]\n",
      " [8.98681767e-03]\n",
      " [9.92738962e-01]\n",
      " [9.94304359e-01]\n",
      " [9.95833874e-01]\n",
      " [9.93735194e-01]\n",
      " [1.24107696e-01]\n",
      " [9.94314611e-01]\n",
      " [9.99619663e-01]\n",
      " [3.16249905e-04]\n",
      " [9.96337116e-01]\n",
      " [1.94946192e-02]\n",
      " [9.71911609e-01]\n",
      " [2.03473661e-02]\n",
      " [4.02856758e-03]\n",
      " [9.93404150e-01]\n",
      " [9.60893273e-01]\n",
      " [9.55780506e-01]\n",
      " [7.07357796e-03]\n",
      " [9.39692974e-01]\n",
      " [9.10640121e-01]\n",
      " [7.66575511e-04]\n",
      " [9.76240158e-01]\n",
      " [9.96983290e-01]\n",
      " [9.98771191e-01]\n",
      " [9.68795538e-01]\n",
      " [9.55718219e-01]\n",
      " [9.99375880e-01]\n",
      " [9.96075749e-01]\n",
      " [1.39693241e-03]\n",
      " [9.99417424e-01]\n",
      " [6.95554831e-04]\n",
      " [7.21488178e-01]\n",
      " [8.54329701e-05]\n",
      " [7.30116665e-01]\n",
      " [9.55334127e-01]\n",
      " [1.33791268e-01]\n",
      " [6.17766500e-06]\n",
      " [4.08744439e-03]\n",
      " [9.72569525e-01]\n",
      " [1.54643349e-05]\n",
      " [9.81426418e-01]\n",
      " [9.87056077e-01]\n",
      " [1.35164922e-02]\n",
      " [9.78355944e-01]\n",
      " [8.22295377e-04]\n",
      " [9.49348629e-01]\n",
      " [9.77638066e-01]\n",
      " [9.26096380e-01]\n",
      " [7.92604312e-03]\n",
      " [3.10816169e-01]\n",
      " [4.84697938e-01]\n",
      " [8.71340334e-01]\n",
      " [8.42999518e-02]\n",
      " [8.80690277e-06]\n",
      " [9.47587311e-01]\n",
      " [2.77765721e-01]\n",
      " [9.90984619e-01]\n",
      " [9.45855200e-01]\n",
      " [9.89276409e-01]\n",
      " [4.65449184e-01]\n",
      " [6.53384849e-02]\n",
      " [9.96251881e-01]]\n"
     ]
    }
   ],
   "source": [
    "# Make Predictions\n",
    "# this will output the sigmoid, interpreted as probabilities p(y=1 | x)\n",
    "P = model.predict(X_test)\n",
    "print(P)"
   ],
   "metadata": {
    "collapsed": false
   }
  },
  {
   "cell_type": "code",
   "execution_count": 16,
   "outputs": [
    {
     "name": "stdout",
     "output_type": "stream",
     "text": [
      "[0. 1. 1. 1. 0. 1. 1. 1. 0. 1. 1. 1. 1. 0. 0. 1. 0. 1. 1. 1. 0. 1. 0. 1.\n",
      " 1. 0. 1. 1. 0. 0. 0. 0. 1. 0. 1. 1. 1. 1. 0. 1. 1. 0. 1. 1. 1. 0. 1. 1.\n",
      " 1. 1. 0. 1. 1. 0. 0. 1. 0. 0. 1. 1. 1. 1. 1. 1. 0. 1. 0. 1. 0. 0. 1. 0.\n",
      " 1. 1. 1. 1. 1. 1. 1. 1. 1. 1. 0. 0. 1. 1. 1. 0. 1. 1. 1. 0. 0. 1. 1. 0.\n",
      " 1. 0. 0. 1. 1. 1. 0. 1. 1. 1. 0. 1. 1. 1. 0. 0. 1. 1. 0. 0. 1. 0. 0. 1.\n",
      " 1. 1. 1. 0. 0. 1. 0. 1. 1. 1. 1. 0. 1. 1. 0. 1. 0. 1. 0. 0. 1. 1. 1. 0.\n",
      " 1. 1. 0. 1. 1. 1. 1. 1. 1. 1. 0. 1. 0. 1. 0. 1. 1. 0. 0. 0. 1. 0. 1. 1.\n",
      " 0. 1. 0. 1. 1. 1. 0. 0. 0. 1. 0. 0. 1. 0. 1. 1. 1. 0. 0. 1.]\n"
     ]
    }
   ],
   "source": [
    "# Round to get the actual Predictions\n",
    "# ? Note: has to be flattened since the targets are size (N, ) while the predictions are size (N, 1)\n",
    "import numpy as np\n",
    "P = np.round(P).flatten()\n",
    "print(P)"
   ],
   "metadata": {
    "collapsed": false
   }
  },
  {
   "cell_type": "code",
   "execution_count": 17,
   "outputs": [
    {
     "name": "stdout",
     "output_type": "stream",
     "text": [
      "Manually calculated accuracy:  0.973404255319149\n",
      "6/6 [==============================] - 0s 1ms/step - loss: 0.0905 - accuracy: 0.9734\n",
      "Evaluate output:  [0.09052611142396927, 0.9734042286872864]\n"
     ]
    }
   ],
   "source": [
    "# Calculate the accuracy, compare it to evaluate() output\n",
    "print(\"Manually calculated accuracy: \", np.mean(P == y_test))\n",
    "print(\"Evaluate output: \", model.evaluate(X_test, y_test))"
   ],
   "metadata": {
    "collapsed": false
   }
  }
 ],
 "metadata": {
  "kernelspec": {
   "display_name": "Python 3",
   "language": "python",
   "name": "python3"
  },
  "language_info": {
   "codemirror_mode": {
    "name": "ipython",
    "version": 2
   },
   "file_extension": ".py",
   "mimetype": "text/x-python",
   "name": "python",
   "nbconvert_exporter": "python",
   "pygments_lexer": "ipython2",
   "version": "2.7.6"
  }
 },
 "nbformat": 4,
 "nbformat_minor": 0
}
