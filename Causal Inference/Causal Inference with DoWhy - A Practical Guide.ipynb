{
 "cells": [
  {
   "cell_type": "markdown",
   "source": [
    "Link: [Causal Inference with DoWhy - a practical guide](https://www.kaggle.com/code/adamwurdits/causal-inference-with-dowhy-a-practical-guide/notebook)"
   ],
   "metadata": {
    "collapsed": false
   }
  },
  {
   "cell_type": "code",
   "execution_count": 2,
   "metadata": {
    "collapsed": true
   },
   "outputs": [],
   "source": [
    "import numpy as np\n",
    "import pandas as pd\n",
    "import matplotlib.pyplot as plt\n",
    "import seaborn as sns\n",
    "\n",
    "import dowhy\n",
    "from dowhy import CausalModel\n",
    "\n",
    "import warnings\n",
    "warnings.filterwarnings(\"ignore\")"
   ]
  },
  {
   "cell_type": "markdown",
   "source": [
    "## Creating a dataset"
   ],
   "metadata": {
    "collapsed": false
   }
  },
  {
   "cell_type": "code",
   "execution_count": 5,
   "outputs": [
    {
     "data": {
      "text/plain": "        user_id  signup_month  month  spend  treatment\n0             0             0      1    521      False\n1             0             0      2    488      False\n2             0             0      3    479      False\n3             0             0      4    475      False\n4             0             0      5    456      False\n...         ...           ...    ...    ...        ...\n119995     9999             2      8    541       True\n119996     9999             2      9    499       True\n119997     9999             2     10    518       True\n119998     9999             2     11    488       True\n119999     9999             2     12    494       True\n\n[120000 rows x 5 columns]",
      "text/html": "<div>\n<style scoped>\n    .dataframe tbody tr th:only-of-type {\n        vertical-align: middle;\n    }\n\n    .dataframe tbody tr th {\n        vertical-align: top;\n    }\n\n    .dataframe thead th {\n        text-align: right;\n    }\n</style>\n<table border=\"1\" class=\"dataframe\">\n  <thead>\n    <tr style=\"text-align: right;\">\n      <th></th>\n      <th>user_id</th>\n      <th>signup_month</th>\n      <th>month</th>\n      <th>spend</th>\n      <th>treatment</th>\n    </tr>\n  </thead>\n  <tbody>\n    <tr>\n      <th>0</th>\n      <td>0</td>\n      <td>0</td>\n      <td>1</td>\n      <td>521</td>\n      <td>False</td>\n    </tr>\n    <tr>\n      <th>1</th>\n      <td>0</td>\n      <td>0</td>\n      <td>2</td>\n      <td>488</td>\n      <td>False</td>\n    </tr>\n    <tr>\n      <th>2</th>\n      <td>0</td>\n      <td>0</td>\n      <td>3</td>\n      <td>479</td>\n      <td>False</td>\n    </tr>\n    <tr>\n      <th>3</th>\n      <td>0</td>\n      <td>0</td>\n      <td>4</td>\n      <td>475</td>\n      <td>False</td>\n    </tr>\n    <tr>\n      <th>4</th>\n      <td>0</td>\n      <td>0</td>\n      <td>5</td>\n      <td>456</td>\n      <td>False</td>\n    </tr>\n    <tr>\n      <th>...</th>\n      <td>...</td>\n      <td>...</td>\n      <td>...</td>\n      <td>...</td>\n      <td>...</td>\n    </tr>\n    <tr>\n      <th>119995</th>\n      <td>9999</td>\n      <td>2</td>\n      <td>8</td>\n      <td>541</td>\n      <td>True</td>\n    </tr>\n    <tr>\n      <th>119996</th>\n      <td>9999</td>\n      <td>2</td>\n      <td>9</td>\n      <td>499</td>\n      <td>True</td>\n    </tr>\n    <tr>\n      <th>119997</th>\n      <td>9999</td>\n      <td>2</td>\n      <td>10</td>\n      <td>518</td>\n      <td>True</td>\n    </tr>\n    <tr>\n      <th>119998</th>\n      <td>9999</td>\n      <td>2</td>\n      <td>11</td>\n      <td>488</td>\n      <td>True</td>\n    </tr>\n    <tr>\n      <th>119999</th>\n      <td>9999</td>\n      <td>2</td>\n      <td>12</td>\n      <td>494</td>\n      <td>True</td>\n    </tr>\n  </tbody>\n</table>\n<p>120000 rows × 5 columns</p>\n</div>"
     },
     "execution_count": 5,
     "metadata": {},
     "output_type": "execute_result"
    }
   ],
   "source": [
    "np.random.seed(42)\n",
    "\n",
    "num_users = 10000\n",
    "num_months = 12\n",
    "\n",
    "signup_months = np.random.choice(np.arange(1, num_months), num_users) * np.random.randint(0, 2, size = num_users)\n",
    "\n",
    "df = pd.DataFrame(\n",
    "    {\n",
    "        \"user_id\": np.repeat(np.arange(num_users), num_months),\n",
    "        \"signup_month\": np.repeat(signup_months, num_months),\n",
    "        \"month\": np.tile(np.arange(1, num_months + 1), num_users),\n",
    "        \"spend\": np.random.poisson(500, num_users * num_months)\n",
    "    }\n",
    ")\n",
    "\n",
    "df[\"treatment\"] = df[\"signup_month\"] > 0\n",
    "\n",
    "df[\"spend\"] = df[\"spend\"] - df[\"month\"] * 10\n",
    "\n",
    "after_signup = (df[\"signup_month\"] < df[\"month\"]) & (df[\"treatment\"])\n",
    "\n",
    "df.loc[after_signup, \"spend\"] = df[after_signup][\"spend\"] + 100\n",
    "df"
   ],
   "metadata": {
    "collapsed": false
   }
  },
  {
   "cell_type": "markdown",
   "source": [
    "## 1. Model a causal problem"
   ],
   "metadata": {
    "collapsed": false
   }
  },
  {
   "cell_type": "code",
   "execution_count": 6,
   "outputs": [],
   "source": [
    "i = 3\n",
    "\n",
    "causal_graph = \"\"\"digraph {\n",
    "treatment[label=\"Program Signup in month i\"];\n",
    "pre_spends;\n",
    "post_spends;\n",
    "Z -> treatment;\n",
    "pre_spends -> treatment;\n",
    "treatment -> post_spends;\n",
    "signup_month -> post_spends;\n",
    "signup_month -> treatment;\n",
    "}\"\"\""
   ],
   "metadata": {
    "collapsed": false
   }
  },
  {
   "cell_type": "code",
   "execution_count": 7,
   "outputs": [
    {
     "name": "stdout",
     "output_type": "stream",
     "text": [
      "      user_id  signup_month  treatment  pre_spends  post_spends\n",
      "0           0             0      False       504.5   422.777778\n",
      "1           2             0      False       485.0   434.000000\n",
      "2           4             0      False       488.5   420.111111\n",
      "3           5             0      False       475.0   408.333333\n",
      "4           6             0      False       494.0   423.666667\n",
      "...       ...           ...        ...         ...          ...\n",
      "5468     9992             0      False       456.5   404.888889\n",
      "5469     9993             0      False       503.0   431.888889\n",
      "5470     9994             0      False       480.0   411.444444\n",
      "5471     9996             0      False       453.0   406.888889\n",
      "5472     9997             0      False       461.0   415.111111\n",
      "\n",
      "[5473 rows x 5 columns]\n"
     ]
    }
   ],
   "source": [
    "df_i_signupmonth = (\n",
    "    df[df.signup_month.isin([0, i])]\n",
    "    .groupby([\"user_id\", \"signup_month\", \"treatment\"])\n",
    "    .apply(\n",
    "        lambda x: pd.Series(\n",
    "            {\n",
    "                \"pre_spends\": x.loc[x.month < i, \"spend\"].mean(),\n",
    "                \"post_spends\": x.loc[x.month > i, \"spend\"].mean(),\n",
    "            }\n",
    "        )\n",
    "    )\n",
    "    .reset_index()\n",
    ")\n",
    "\n",
    "print(df_i_signupmonth)"
   ],
   "metadata": {
    "collapsed": false
   }
  },
  {
   "cell_type": "code",
   "execution_count": 8,
   "outputs": [
    {
     "data": {
      "text/plain": "<Figure size 800x600 with 1 Axes>",
      "image/png": "[encoded data removed]"
     },
     "metadata": {},
     "output_type": "display_data"
    }
   ],
   "source": [
    "model = dowhy.CausalModel(\n",
    "    data = df_i_signupmonth,\n",
    "    graph = causal_graph.replace(\"\\n\", \" \"),\n",
    "    treatment = \"treatment\",\n",
    "    outcome = \"post_spends\"\n",
    ")\n",
    "\n",
    "model.view_model()"
   ],
   "metadata": {
    "collapsed": false
   }
  },
  {
   "cell_type": "markdown",
   "source": [
    "## 2. Identify a target estimand under the model"
   ],
   "metadata": {
    "collapsed": false
   }
  },
  {
   "cell_type": "code",
   "execution_count": 9,
   "outputs": [
    {
     "name": "stdout",
     "output_type": "stream",
     "text": [
      "Estimand type: EstimandType.NONPARAMETRIC_ATE\n",
      "\n",
      "### Estimand : 1\n",
      "Estimand name: backdoor\n",
      "Estimand expression:\n",
      "     d                                   \n",
      "────────────(E[post_spends|signup_month])\n",
      "d[treatment]                             \n",
      "Estimand assumption 1, Unconfoundedness: If U→{treatment} and U→post_spends then P(post_spends|treatment,signup_month,U) = P(post_spends|treatment,signup_month)\n",
      "\n",
      "### Estimand : 2\n",
      "Estimand name: iv\n",
      "Estimand expression:\n",
      " ⎡                                                             -1⎤\n",
      " ⎢       d                      ⎛       d                     ⎞  ⎥\n",
      "E⎢────────────────(post_spends)⋅⎜────────────────([treatment])⎟  ⎥\n",
      " ⎣d[Z  pre_spends]              ⎝d[Z  pre_spends]             ⎠  ⎦\n",
      "Estimand assumption 1, As-if-random: If U→→post_spends then ¬(U →→{Z,pre_spends})\n",
      "Estimand assumption 2, Exclusion: If we remove {Z,pre_spends}→{treatment}, then ¬({Z,pre_spends}→post_spends)\n",
      "\n",
      "### Estimand : 3\n",
      "Estimand name: frontdoor\n",
      "No such variable(s) found!\n",
      "\n"
     ]
    }
   ],
   "source": [
    "identified_estimand = model.identify_effect(proceed_when_unidentifiable = True)\n",
    "print(identified_estimand)"
   ],
   "metadata": {
    "collapsed": false
   }
  },
  {
   "cell_type": "markdown",
   "source": [
    "## 3. Estimate causal effect based on the identified estimand"
   ],
   "metadata": {
    "collapsed": false
   }
  },
  {
   "cell_type": "code",
   "execution_count": 10,
   "outputs": [
    {
     "name": "stdout",
     "output_type": "stream",
     "text": [
      "*** Causal Estimate ***\n",
      "\n",
      "## Identified estimand\n",
      "Estimand type: EstimandType.NONPARAMETRIC_ATE\n",
      "\n",
      "### Estimand : 1\n",
      "Estimand name: backdoor\n",
      "Estimand expression:\n",
      "     d                                   \n",
      "────────────(E[post_spends|signup_month])\n",
      "d[treatment]                             \n",
      "Estimand assumption 1, Unconfoundedness: If U→{treatment} and U→post_spends then P(post_spends|treatment,signup_month,U) = P(post_spends|treatment,signup_month)\n",
      "\n",
      "## Realized estimand\n",
      "b: post_spends~treatment+signup_month\n",
      "Target units: att\n",
      "\n",
      "## Estimate\n",
      "Mean value: 97.49138947865055\n",
      "\n"
     ]
    }
   ],
   "source": [
    "estimate = model.estimate_effect(identified_estimand,\n",
    "                                 method_name = \"backdoor.propensity_score_matching\",\n",
    "                                 target_units = \"att\")\n",
    "\n",
    "print(estimate)"
   ],
   "metadata": {
    "collapsed": false
   }
  },
  {
   "cell_type": "markdown",
   "source": [
    "## Refute the obtained estimate"
   ],
   "metadata": {
    "collapsed": false
   }
  },
  {
   "cell_type": "code",
   "execution_count": 11,
   "outputs": [
    {
     "name": "stdout",
     "output_type": "stream",
     "text": [
      "Refute: Use a Placebo Treatment\n",
      "Estimated effect:97.49138947865055\n",
      "New effect:-3.122080679405515\n",
      "p value:0.14662574517912463\n",
      "\n"
     ]
    }
   ],
   "source": [
    "refutation = model.refute_estimate(identified_estimand, estimate, method_name = \"placebo_treatment_refuter\",\n",
    "                                   placebo_type = \"permute\", num_simulations = 20)\n",
    "\n",
    "print(refutation)"
   ],
   "metadata": {
    "collapsed": false
   }
  }
 ],
 "metadata": {
  "kernelspec": {
   "display_name": "Python 3",
   "language": "python",
   "name": "python3"
  },
  "language_info": {
   "codemirror_mode": {
    "name": "ipython",
    "version": 2
   },
   "file_extension": ".py",
   "mimetype": "text/x-python",
   "name": "python",
   "nbconvert_exporter": "python",
   "pygments_lexer": "ipython2",
   "version": "2.7.6"
  }
 },
 "nbformat": 4,
 "nbformat_minor": 0
}
