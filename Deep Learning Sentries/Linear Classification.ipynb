{
 "cells": [
  {
   "cell_type": "code",
   "execution_count": 1,
   "metadata": {
    "collapsed": true,
    "pycharm": {
     "name": "#%%\n"
    }
   },
   "outputs": [
    {
     "name": "stdout",
     "output_type": "stream",
     "text": [
      "2.10.0\n"
     ]
    }
   ],
   "source": [
    "# Import TensorFlow\n",
    "import tensorflow as tf\n",
    "print(tf.__version__)"
   ]
  },
  {
   "cell_type": "code",
   "execution_count": 2,
   "outputs": [],
   "source": [
    "# Load the breast_cancer Data from Sklearn\n",
    "from sklearn.datasets import load_breast_cancer\n",
    "\n",
    "data = load_breast_cancer()"
   ],
   "metadata": {
    "collapsed": false,
    "pycharm": {
     "name": "#%%\n"
    }
   }
  },
  {
   "cell_type": "code",
   "execution_count": 3,
   "outputs": [
    {
     "data": {
      "text/plain": "sklearn.utils._bunch.Bunch"
     },
     "execution_count": 3,
     "metadata": {},
     "output_type": "execute_result"
    }
   ],
   "source": [
    "# Check the type of data\n",
    "type(data)"
   ],
   "metadata": {
    "collapsed": false,
    "pycharm": {
     "name": "#%%\n"
    }
   }
  },
  {
   "cell_type": "code",
   "execution_count": 4,
   "outputs": [
    {
     "data": {
      "text/plain": "dict_keys(['data', 'target', 'frame', 'target_names', 'DESCR', 'feature_names', 'filename', 'data_module'])"
     },
     "execution_count": 4,
     "metadata": {},
     "output_type": "execute_result"
    }
   ],
   "source": [
    "# note: It is a Bunch object\n",
    "# ? this Bunch basically act like a dictionary where you can treat the keys like attributes\n",
    "data.keys()"
   ],
   "metadata": {
    "collapsed": false,
    "pycharm": {
     "name": "#%%\n"
    }
   }
  },
  {
   "cell_type": "code",
   "execution_count": 5,
   "outputs": [
    {
     "data": {
      "text/plain": "(569, 30)"
     },
     "execution_count": 5,
     "metadata": {},
     "output_type": "execute_result"
    }
   ],
   "source": [
    "# ? 'data' means input data (X)\n",
    "data.data.shape"
   ],
   "metadata": {
    "collapsed": false,
    "pycharm": {
     "name": "#%%\n"
    }
   }
  },
  {
   "cell_type": "code",
   "execution_count": 6,
   "outputs": [
    {
     "data": {
      "text/plain": "array([0, 0, 0, 0, 0, 0, 0, 0, 0, 0, 0, 0, 0, 0, 0, 0, 0, 0, 0, 1, 1, 1,\n       0, 0, 0, 0, 0, 0, 0, 0, 0, 0, 0, 0, 0, 0, 0, 1, 0, 0, 0, 0, 0, 0,\n       0, 0, 1, 0, 1, 1, 1, 1, 1, 0, 0, 1, 0, 0, 1, 1, 1, 1, 0, 1, 0, 0,\n       1, 1, 1, 1, 0, 1, 0, 0, 1, 0, 1, 0, 0, 1, 1, 1, 0, 0, 1, 0, 0, 0,\n       1, 1, 1, 0, 1, 1, 0, 0, 1, 1, 1, 0, 0, 1, 1, 1, 1, 0, 1, 1, 0, 1,\n       1, 1, 1, 1, 1, 1, 1, 0, 0, 0, 1, 0, 0, 1, 1, 1, 0, 0, 1, 0, 1, 0,\n       0, 1, 0, 0, 1, 1, 0, 1, 1, 0, 1, 1, 1, 1, 0, 1, 1, 1, 1, 1, 1, 1,\n       1, 1, 0, 1, 1, 1, 1, 0, 0, 1, 0, 1, 1, 0, 0, 1, 1, 0, 0, 1, 1, 1,\n       1, 0, 1, 1, 0, 0, 0, 1, 0, 1, 0, 1, 1, 1, 0, 1, 1, 0, 0, 1, 0, 0,\n       0, 0, 1, 0, 0, 0, 1, 0, 1, 0, 1, 1, 0, 1, 0, 0, 0, 0, 1, 1, 0, 0,\n       1, 1, 1, 0, 1, 1, 1, 1, 1, 0, 0, 1, 1, 0, 1, 1, 0, 0, 1, 0, 1, 1,\n       1, 1, 0, 1, 1, 1, 1, 1, 0, 1, 0, 0, 0, 0, 0, 0, 0, 0, 0, 0, 0, 0,\n       0, 0, 1, 1, 1, 1, 1, 1, 0, 1, 0, 1, 1, 0, 1, 1, 0, 1, 0, 0, 1, 1,\n       1, 1, 1, 1, 1, 1, 1, 1, 1, 1, 1, 0, 1, 1, 0, 1, 0, 1, 1, 1, 1, 1,\n       1, 1, 1, 1, 1, 1, 1, 1, 1, 0, 1, 1, 1, 0, 1, 0, 1, 1, 1, 1, 0, 0,\n       0, 1, 1, 1, 1, 0, 1, 0, 1, 0, 1, 1, 1, 0, 1, 1, 1, 1, 1, 1, 1, 0,\n       0, 0, 1, 1, 1, 1, 1, 1, 1, 1, 1, 1, 1, 0, 0, 1, 0, 0, 0, 1, 0, 0,\n       1, 1, 1, 1, 1, 0, 1, 1, 1, 1, 1, 0, 1, 1, 1, 0, 1, 1, 0, 0, 1, 1,\n       1, 1, 1, 1, 0, 1, 1, 1, 1, 1, 1, 1, 0, 1, 1, 1, 1, 1, 0, 1, 1, 0,\n       1, 1, 1, 1, 1, 1, 1, 1, 1, 1, 1, 1, 0, 1, 0, 0, 1, 0, 1, 1, 1, 1,\n       1, 0, 1, 1, 0, 1, 0, 1, 1, 0, 1, 0, 1, 1, 1, 1, 1, 1, 1, 1, 0, 0,\n       1, 1, 1, 1, 1, 1, 0, 1, 1, 1, 1, 1, 1, 1, 1, 1, 1, 0, 1, 1, 1, 1,\n       1, 1, 1, 0, 1, 0, 1, 1, 0, 1, 1, 1, 1, 1, 0, 0, 1, 0, 1, 0, 1, 1,\n       1, 1, 1, 0, 1, 1, 0, 1, 0, 1, 0, 0, 1, 1, 1, 0, 1, 1, 1, 1, 1, 1,\n       1, 1, 1, 1, 1, 0, 1, 0, 0, 1, 1, 1, 1, 1, 1, 1, 1, 1, 1, 1, 1, 1,\n       1, 1, 1, 1, 1, 1, 1, 1, 1, 1, 1, 1, 0, 0, 0, 0, 0, 0, 1])"
     },
     "execution_count": 6,
     "metadata": {},
     "output_type": "execute_result"
    }
   ],
   "source": [
    "# ? 'target' means output data (y)\n",
    "data.target"
   ],
   "metadata": {
    "collapsed": false,
    "pycharm": {
     "name": "#%%\n"
    }
   }
  },
  {
   "cell_type": "code",
   "execution_count": 7,
   "outputs": [
    {
     "data": {
      "text/plain": "array(['malignant', 'benign'], dtype='<U9')"
     },
     "execution_count": 7,
     "metadata": {},
     "output_type": "execute_result"
    }
   ],
   "source": [
    "# 'target' names\n",
    "data.target_names"
   ],
   "metadata": {
    "collapsed": false,
    "pycharm": {
     "name": "#%%\n"
    }
   }
  },
  {
   "cell_type": "code",
   "execution_count": 8,
   "outputs": [
    {
     "data": {
      "text/plain": "(569,)"
     },
     "execution_count": 8,
     "metadata": {},
     "output_type": "execute_result"
    }
   ],
   "source": [
    "data.target.shape"
   ],
   "metadata": {
    "collapsed": false,
    "pycharm": {
     "name": "#%%\n"
    }
   }
  },
  {
   "cell_type": "code",
   "execution_count": 9,
   "outputs": [
    {
     "data": {
      "text/plain": "array(['mean radius', 'mean texture', 'mean perimeter', 'mean area',\n       'mean smoothness', 'mean compactness', 'mean concavity',\n       'mean concave points', 'mean symmetry', 'mean fractal dimension',\n       'radius error', 'texture error', 'perimeter error', 'area error',\n       'smoothness error', 'compactness error', 'concavity error',\n       'concave points error', 'symmetry error',\n       'fractal dimension error', 'worst radius', 'worst texture',\n       'worst perimeter', 'worst area', 'worst smoothness',\n       'worst compactness', 'worst concavity', 'worst concave points',\n       'worst symmetry', 'worst fractal dimension'], dtype='<U23')"
     },
     "execution_count": 9,
     "metadata": {},
     "output_type": "execute_result"
    }
   ],
   "source": [
    "# Meaning of each feature\n",
    "data.feature_names"
   ],
   "metadata": {
    "collapsed": false,
    "pycharm": {
     "name": "#%%\n"
    }
   }
  },
  {
   "cell_type": "code",
   "execution_count": 10,
   "outputs": [],
   "source": [
    "# Split dataset into train and test\n",
    "from sklearn.model_selection import train_test_split\n",
    "\n",
    "X_train, X_test, y_train, y_test = train_test_split(data.data, data.target, test_size=0.33)\n",
    "N, D = X_train.shape"
   ],
   "metadata": {
    "collapsed": false,
    "pycharm": {
     "name": "#%%\n"
    }
   }
  },
  {
   "cell_type": "code",
   "execution_count": 11,
   "outputs": [],
   "source": [
    "# Scaling the input dataset\n",
    "from sklearn.preprocessing import StandardScaler\n",
    "\n",
    "scaler = StandardScaler()\n",
    "\n",
    "X_train = scaler.fit_transform(X_train)\n",
    "X_test = scaler.fit_transform(X_test)"
   ],
   "metadata": {
    "collapsed": false,
    "pycharm": {
     "name": "#%%\n"
    }
   }
  },
  {
   "cell_type": "code",
   "execution_count": 12,
   "outputs": [
    {
     "name": "stdout",
     "output_type": "stream",
     "text": [
      "Epoch 1/100\n",
      "12/12 [==============================] - 1s 21ms/step - loss: 0.6682 - accuracy: 0.6588 - val_loss: 0.5483 - val_accuracy: 0.7181\n",
      "Epoch 2/100\n",
      "12/12 [==============================] - 0s 5ms/step - loss: 0.6218 - accuracy: 0.6877 - val_loss: 0.5014 - val_accuracy: 0.7500\n",
      "Epoch 3/100\n",
      "12/12 [==============================] - 0s 6ms/step - loss: 0.5804 - accuracy: 0.7113 - val_loss: 0.4604 - val_accuracy: 0.7872\n",
      "Epoch 4/100\n",
      "12/12 [==============================] - 0s 7ms/step - loss: 0.5430 - accuracy: 0.7349 - val_loss: 0.4242 - val_accuracy: 0.8245\n",
      "Epoch 5/100\n",
      "12/12 [==============================] - 0s 7ms/step - loss: 0.5090 - accuracy: 0.7612 - val_loss: 0.3932 - val_accuracy: 0.8511\n",
      "Epoch 6/100\n",
      "12/12 [==============================] - 0s 6ms/step - loss: 0.4805 - accuracy: 0.7769 - val_loss: 0.3651 - val_accuracy: 0.8617\n",
      "Epoch 7/100\n",
      "12/12 [==============================] - 0s 7ms/step - loss: 0.4535 - accuracy: 0.7927 - val_loss: 0.3413 - val_accuracy: 0.8723\n",
      "Epoch 8/100\n",
      "12/12 [==============================] - 0s 7ms/step - loss: 0.4302 - accuracy: 0.8136 - val_loss: 0.3199 - val_accuracy: 0.8830\n",
      "Epoch 9/100\n",
      "12/12 [==============================] - 0s 7ms/step - loss: 0.4097 - accuracy: 0.8241 - val_loss: 0.3010 - val_accuracy: 0.8936\n",
      "Epoch 10/100\n",
      "12/12 [==============================] - 0s 7ms/step - loss: 0.3901 - accuracy: 0.8294 - val_loss: 0.2845 - val_accuracy: 0.8989\n",
      "Epoch 11/100\n",
      "12/12 [==============================] - 0s 6ms/step - loss: 0.3738 - accuracy: 0.8451 - val_loss: 0.2696 - val_accuracy: 0.8989\n",
      "Epoch 12/100\n",
      "12/12 [==============================] - 0s 6ms/step - loss: 0.3580 - accuracy: 0.8556 - val_loss: 0.2566 - val_accuracy: 0.9096\n",
      "Epoch 13/100\n",
      "12/12 [==============================] - 0s 6ms/step - loss: 0.3438 - accuracy: 0.8609 - val_loss: 0.2447 - val_accuracy: 0.9149\n",
      "Epoch 14/100\n",
      "12/12 [==============================] - 0s 7ms/step - loss: 0.3309 - accuracy: 0.8688 - val_loss: 0.2341 - val_accuracy: 0.9255\n",
      "Epoch 15/100\n",
      "12/12 [==============================] - 0s 7ms/step - loss: 0.3195 - accuracy: 0.8793 - val_loss: 0.2244 - val_accuracy: 0.9309\n",
      "Epoch 16/100\n",
      "12/12 [==============================] - 0s 5ms/step - loss: 0.3089 - accuracy: 0.8898 - val_loss: 0.2154 - val_accuracy: 0.9362\n",
      "Epoch 17/100\n",
      "12/12 [==============================] - 0s 8ms/step - loss: 0.2987 - accuracy: 0.8924 - val_loss: 0.2076 - val_accuracy: 0.9415\n",
      "Epoch 18/100\n",
      "12/12 [==============================] - 0s 7ms/step - loss: 0.2897 - accuracy: 0.8950 - val_loss: 0.2002 - val_accuracy: 0.9415\n",
      "Epoch 19/100\n",
      "12/12 [==============================] - 0s 8ms/step - loss: 0.2818 - accuracy: 0.8976 - val_loss: 0.1936 - val_accuracy: 0.9415\n",
      "Epoch 20/100\n",
      "12/12 [==============================] - 0s 7ms/step - loss: 0.2736 - accuracy: 0.9003 - val_loss: 0.1872 - val_accuracy: 0.9468\n",
      "Epoch 21/100\n",
      "12/12 [==============================] - 0s 6ms/step - loss: 0.2667 - accuracy: 0.9029 - val_loss: 0.1817 - val_accuracy: 0.9468\n",
      "Epoch 22/100\n",
      "12/12 [==============================] - 0s 6ms/step - loss: 0.2598 - accuracy: 0.9108 - val_loss: 0.1765 - val_accuracy: 0.9468\n",
      "Epoch 23/100\n",
      "12/12 [==============================] - 0s 6ms/step - loss: 0.2533 - accuracy: 0.9108 - val_loss: 0.1716 - val_accuracy: 0.9521\n",
      "Epoch 24/100\n",
      "12/12 [==============================] - 0s 6ms/step - loss: 0.2475 - accuracy: 0.9186 - val_loss: 0.1669 - val_accuracy: 0.9574\n",
      "Epoch 25/100\n",
      "12/12 [==============================] - 0s 6ms/step - loss: 0.2420 - accuracy: 0.9239 - val_loss: 0.1625 - val_accuracy: 0.9628\n",
      "Epoch 26/100\n",
      "12/12 [==============================] - 0s 6ms/step - loss: 0.2367 - accuracy: 0.9239 - val_loss: 0.1585 - val_accuracy: 0.9628\n",
      "Epoch 27/100\n",
      "12/12 [==============================] - 0s 6ms/step - loss: 0.2317 - accuracy: 0.9265 - val_loss: 0.1548 - val_accuracy: 0.9628\n",
      "Epoch 28/100\n",
      "12/12 [==============================] - 0s 6ms/step - loss: 0.2269 - accuracy: 0.9265 - val_loss: 0.1512 - val_accuracy: 0.9681\n",
      "Epoch 29/100\n",
      "12/12 [==============================] - 0s 6ms/step - loss: 0.2226 - accuracy: 0.9318 - val_loss: 0.1479 - val_accuracy: 0.9681\n",
      "Epoch 30/100\n",
      "12/12 [==============================] - 0s 7ms/step - loss: 0.2186 - accuracy: 0.9318 - val_loss: 0.1448 - val_accuracy: 0.9734\n",
      "Epoch 31/100\n",
      "12/12 [==============================] - 0s 6ms/step - loss: 0.2141 - accuracy: 0.9318 - val_loss: 0.1417 - val_accuracy: 0.9734\n",
      "Epoch 32/100\n",
      "12/12 [==============================] - 0s 7ms/step - loss: 0.2105 - accuracy: 0.9318 - val_loss: 0.1389 - val_accuracy: 0.9734\n",
      "Epoch 33/100\n",
      "12/12 [==============================] - 0s 8ms/step - loss: 0.2066 - accuracy: 0.9344 - val_loss: 0.1360 - val_accuracy: 0.9787\n",
      "Epoch 34/100\n",
      "12/12 [==============================] - 0s 6ms/step - loss: 0.2034 - accuracy: 0.9396 - val_loss: 0.1334 - val_accuracy: 0.9787\n",
      "Epoch 35/100\n",
      "12/12 [==============================] - 0s 7ms/step - loss: 0.1997 - accuracy: 0.9396 - val_loss: 0.1309 - val_accuracy: 0.9787\n",
      "Epoch 36/100\n",
      "12/12 [==============================] - 0s 7ms/step - loss: 0.1966 - accuracy: 0.9423 - val_loss: 0.1287 - val_accuracy: 0.9787\n",
      "Epoch 37/100\n",
      "12/12 [==============================] - 0s 7ms/step - loss: 0.1935 - accuracy: 0.9423 - val_loss: 0.1264 - val_accuracy: 0.9787\n",
      "Epoch 38/100\n",
      "12/12 [==============================] - 0s 7ms/step - loss: 0.1906 - accuracy: 0.9423 - val_loss: 0.1242 - val_accuracy: 0.9787\n",
      "Epoch 39/100\n",
      "12/12 [==============================] - 0s 7ms/step - loss: 0.1878 - accuracy: 0.9423 - val_loss: 0.1222 - val_accuracy: 0.9787\n",
      "Epoch 40/100\n",
      "12/12 [==============================] - 0s 5ms/step - loss: 0.1849 - accuracy: 0.9423 - val_loss: 0.1202 - val_accuracy: 0.9787\n",
      "Epoch 41/100\n",
      "12/12 [==============================] - 0s 5ms/step - loss: 0.1823 - accuracy: 0.9423 - val_loss: 0.1184 - val_accuracy: 0.9787\n",
      "Epoch 42/100\n",
      "12/12 [==============================] - 0s 5ms/step - loss: 0.1799 - accuracy: 0.9423 - val_loss: 0.1168 - val_accuracy: 0.9787\n",
      "Epoch 43/100\n",
      "12/12 [==============================] - 0s 6ms/step - loss: 0.1773 - accuracy: 0.9449 - val_loss: 0.1150 - val_accuracy: 0.9787\n",
      "Epoch 44/100\n",
      "12/12 [==============================] - 0s 6ms/step - loss: 0.1750 - accuracy: 0.9449 - val_loss: 0.1132 - val_accuracy: 0.9787\n",
      "Epoch 45/100\n",
      "12/12 [==============================] - 0s 8ms/step - loss: 0.1726 - accuracy: 0.9501 - val_loss: 0.1116 - val_accuracy: 0.9787\n",
      "Epoch 46/100\n",
      "12/12 [==============================] - 0s 8ms/step - loss: 0.1704 - accuracy: 0.9501 - val_loss: 0.1100 - val_accuracy: 0.9787\n",
      "Epoch 47/100\n",
      "12/12 [==============================] - 0s 8ms/step - loss: 0.1683 - accuracy: 0.9501 - val_loss: 0.1083 - val_accuracy: 0.9787\n",
      "Epoch 48/100\n",
      "12/12 [==============================] - 0s 8ms/step - loss: 0.1663 - accuracy: 0.9501 - val_loss: 0.1069 - val_accuracy: 0.9787\n",
      "Epoch 49/100\n",
      "12/12 [==============================] - 0s 8ms/step - loss: 0.1643 - accuracy: 0.9528 - val_loss: 0.1057 - val_accuracy: 0.9787\n",
      "Epoch 50/100\n",
      "12/12 [==============================] - 0s 6ms/step - loss: 0.1625 - accuracy: 0.9528 - val_loss: 0.1045 - val_accuracy: 0.9787\n",
      "Epoch 51/100\n",
      "12/12 [==============================] - 0s 7ms/step - loss: 0.1604 - accuracy: 0.9528 - val_loss: 0.1033 - val_accuracy: 0.9840\n",
      "Epoch 52/100\n",
      "12/12 [==============================] - 0s 6ms/step - loss: 0.1586 - accuracy: 0.9528 - val_loss: 0.1018 - val_accuracy: 0.9840\n",
      "Epoch 53/100\n",
      "12/12 [==============================] - 0s 5ms/step - loss: 0.1569 - accuracy: 0.9528 - val_loss: 0.1007 - val_accuracy: 0.9840\n",
      "Epoch 54/100\n",
      "12/12 [==============================] - 0s 5ms/step - loss: 0.1552 - accuracy: 0.9528 - val_loss: 0.0994 - val_accuracy: 0.9840\n",
      "Epoch 55/100\n",
      "12/12 [==============================] - 0s 5ms/step - loss: 0.1536 - accuracy: 0.9528 - val_loss: 0.0982 - val_accuracy: 0.9840\n",
      "Epoch 56/100\n",
      "12/12 [==============================] - 0s 5ms/step - loss: 0.1520 - accuracy: 0.9528 - val_loss: 0.0973 - val_accuracy: 0.9894\n",
      "Epoch 57/100\n",
      "12/12 [==============================] - 0s 6ms/step - loss: 0.1504 - accuracy: 0.9528 - val_loss: 0.0961 - val_accuracy: 0.9840\n",
      "Epoch 58/100\n",
      "12/12 [==============================] - 0s 6ms/step - loss: 0.1489 - accuracy: 0.9554 - val_loss: 0.0952 - val_accuracy: 0.9840\n",
      "Epoch 59/100\n",
      "12/12 [==============================] - 0s 6ms/step - loss: 0.1474 - accuracy: 0.9580 - val_loss: 0.0942 - val_accuracy: 0.9840\n",
      "Epoch 60/100\n",
      "12/12 [==============================] - 0s 6ms/step - loss: 0.1460 - accuracy: 0.9580 - val_loss: 0.0933 - val_accuracy: 0.9840\n",
      "Epoch 61/100\n",
      "12/12 [==============================] - 0s 6ms/step - loss: 0.1446 - accuracy: 0.9580 - val_loss: 0.0924 - val_accuracy: 0.9840\n",
      "Epoch 62/100\n",
      "12/12 [==============================] - 0s 6ms/step - loss: 0.1433 - accuracy: 0.9580 - val_loss: 0.0915 - val_accuracy: 0.9840\n",
      "Epoch 63/100\n",
      "12/12 [==============================] - 0s 6ms/step - loss: 0.1420 - accuracy: 0.9580 - val_loss: 0.0905 - val_accuracy: 0.9840\n",
      "Epoch 64/100\n",
      "12/12 [==============================] - 0s 5ms/step - loss: 0.1408 - accuracy: 0.9580 - val_loss: 0.0898 - val_accuracy: 0.9840\n",
      "Epoch 65/100\n",
      "12/12 [==============================] - 0s 5ms/step - loss: 0.1395 - accuracy: 0.9580 - val_loss: 0.0888 - val_accuracy: 0.9840\n",
      "Epoch 66/100\n",
      "12/12 [==============================] - 0s 5ms/step - loss: 0.1383 - accuracy: 0.9606 - val_loss: 0.0880 - val_accuracy: 0.9840\n",
      "Epoch 67/100\n",
      "12/12 [==============================] - 0s 6ms/step - loss: 0.1371 - accuracy: 0.9606 - val_loss: 0.0872 - val_accuracy: 0.9840\n",
      "Epoch 68/100\n",
      "12/12 [==============================] - 0s 6ms/step - loss: 0.1360 - accuracy: 0.9606 - val_loss: 0.0865 - val_accuracy: 0.9894\n",
      "Epoch 69/100\n",
      "12/12 [==============================] - 0s 6ms/step - loss: 0.1349 - accuracy: 0.9606 - val_loss: 0.0857 - val_accuracy: 0.9894\n",
      "Epoch 70/100\n",
      "12/12 [==============================] - 0s 6ms/step - loss: 0.1338 - accuracy: 0.9606 - val_loss: 0.0848 - val_accuracy: 0.9894\n",
      "Epoch 71/100\n",
      "12/12 [==============================] - 0s 6ms/step - loss: 0.1328 - accuracy: 0.9606 - val_loss: 0.0842 - val_accuracy: 0.9894\n",
      "Epoch 72/100\n",
      "12/12 [==============================] - 0s 7ms/step - loss: 0.1317 - accuracy: 0.9606 - val_loss: 0.0834 - val_accuracy: 0.9894\n",
      "Epoch 73/100\n",
      "12/12 [==============================] - 0s 6ms/step - loss: 0.1308 - accuracy: 0.9606 - val_loss: 0.0829 - val_accuracy: 0.9894\n",
      "Epoch 74/100\n",
      "12/12 [==============================] - 0s 6ms/step - loss: 0.1298 - accuracy: 0.9606 - val_loss: 0.0823 - val_accuracy: 0.9894\n",
      "Epoch 75/100\n",
      "12/12 [==============================] - 0s 7ms/step - loss: 0.1288 - accuracy: 0.9606 - val_loss: 0.0814 - val_accuracy: 0.9894\n",
      "Epoch 76/100\n",
      "12/12 [==============================] - 0s 6ms/step - loss: 0.1279 - accuracy: 0.9633 - val_loss: 0.0806 - val_accuracy: 0.9894\n",
      "Epoch 77/100\n",
      "12/12 [==============================] - 0s 7ms/step - loss: 0.1269 - accuracy: 0.9633 - val_loss: 0.0802 - val_accuracy: 0.9894\n",
      "Epoch 78/100\n",
      "12/12 [==============================] - 0s 6ms/step - loss: 0.1261 - accuracy: 0.9633 - val_loss: 0.0795 - val_accuracy: 0.9894\n",
      "Epoch 79/100\n",
      "12/12 [==============================] - 0s 5ms/step - loss: 0.1252 - accuracy: 0.9633 - val_loss: 0.0790 - val_accuracy: 0.9894\n",
      "Epoch 80/100\n",
      "12/12 [==============================] - 0s 5ms/step - loss: 0.1244 - accuracy: 0.9685 - val_loss: 0.0784 - val_accuracy: 0.9894\n",
      "Epoch 81/100\n",
      "12/12 [==============================] - 0s 5ms/step - loss: 0.1235 - accuracy: 0.9711 - val_loss: 0.0778 - val_accuracy: 0.9894\n",
      "Epoch 82/100\n",
      "12/12 [==============================] - 0s 4ms/step - loss: 0.1228 - accuracy: 0.9711 - val_loss: 0.0772 - val_accuracy: 0.9894\n",
      "Epoch 83/100\n",
      "12/12 [==============================] - 0s 5ms/step - loss: 0.1220 - accuracy: 0.9711 - val_loss: 0.0768 - val_accuracy: 0.9894\n",
      "Epoch 84/100\n",
      "12/12 [==============================] - 0s 5ms/step - loss: 0.1211 - accuracy: 0.9711 - val_loss: 0.0761 - val_accuracy: 0.9894\n",
      "Epoch 85/100\n",
      "12/12 [==============================] - 0s 4ms/step - loss: 0.1204 - accuracy: 0.9711 - val_loss: 0.0756 - val_accuracy: 0.9894\n",
      "Epoch 86/100\n",
      "12/12 [==============================] - 0s 5ms/step - loss: 0.1197 - accuracy: 0.9711 - val_loss: 0.0751 - val_accuracy: 0.9894\n",
      "Epoch 87/100\n",
      "12/12 [==============================] - 0s 5ms/step - loss: 0.1190 - accuracy: 0.9711 - val_loss: 0.0746 - val_accuracy: 0.9894\n",
      "Epoch 88/100\n",
      "12/12 [==============================] - 0s 4ms/step - loss: 0.1182 - accuracy: 0.9711 - val_loss: 0.0742 - val_accuracy: 0.9894\n",
      "Epoch 89/100\n",
      "12/12 [==============================] - 0s 4ms/step - loss: 0.1175 - accuracy: 0.9711 - val_loss: 0.0737 - val_accuracy: 0.9894\n",
      "Epoch 90/100\n",
      "12/12 [==============================] - 0s 4ms/step - loss: 0.1169 - accuracy: 0.9711 - val_loss: 0.0733 - val_accuracy: 0.9894\n",
      "Epoch 91/100\n",
      "12/12 [==============================] - 0s 4ms/step - loss: 0.1162 - accuracy: 0.9711 - val_loss: 0.0728 - val_accuracy: 0.9894\n",
      "Epoch 92/100\n",
      "12/12 [==============================] - 0s 4ms/step - loss: 0.1156 - accuracy: 0.9711 - val_loss: 0.0722 - val_accuracy: 0.9894\n",
      "Epoch 93/100\n",
      "12/12 [==============================] - 0s 4ms/step - loss: 0.1149 - accuracy: 0.9711 - val_loss: 0.0718 - val_accuracy: 0.9894\n",
      "Epoch 94/100\n",
      "12/12 [==============================] - 0s 4ms/step - loss: 0.1143 - accuracy: 0.9711 - val_loss: 0.0713 - val_accuracy: 0.9894\n",
      "Epoch 95/100\n",
      "12/12 [==============================] - 0s 4ms/step - loss: 0.1137 - accuracy: 0.9711 - val_loss: 0.0708 - val_accuracy: 0.9894\n",
      "Epoch 96/100\n",
      "12/12 [==============================] - 0s 4ms/step - loss: 0.1131 - accuracy: 0.9711 - val_loss: 0.0704 - val_accuracy: 0.9894\n",
      "Epoch 97/100\n",
      "12/12 [==============================] - 0s 4ms/step - loss: 0.1125 - accuracy: 0.9711 - val_loss: 0.0702 - val_accuracy: 0.9894\n",
      "Epoch 98/100\n",
      "12/12 [==============================] - 0s 4ms/step - loss: 0.1119 - accuracy: 0.9711 - val_loss: 0.0697 - val_accuracy: 0.9894\n",
      "Epoch 99/100\n",
      "12/12 [==============================] - 0s 4ms/step - loss: 0.1114 - accuracy: 0.9711 - val_loss: 0.0692 - val_accuracy: 0.9894\n",
      "Epoch 100/100\n",
      "12/12 [==============================] - 0s 4ms/step - loss: 0.1109 - accuracy: 0.9711 - val_loss: 0.0689 - val_accuracy: 0.9894\n",
      "12/12 [==============================] - 0s 1ms/step - loss: 0.1105 - accuracy: 0.9711\n",
      "Train Score:  [0.11050476878881454, 0.9711285829544067]\n",
      "6/6 [==============================] - 0s 1ms/step - loss: 0.0689 - accuracy: 0.9894\n",
      "Test Score:  [0.06885462254285812, 0.9893617033958435]\n"
     ]
    }
   ],
   "source": [
    "# TensorFlow Model\n",
    "model = tf.keras.models.Sequential([\n",
    "    tf.keras.layers.Input(shape=(D,)),\n",
    "    tf.keras.layers.Dense(1, activation='sigmoid')\n",
    "])\n",
    "\n",
    "model.compile(optimizer='adam',\n",
    "              loss='binary_crossentropy',\n",
    "              metrics=['accuracy'])\n",
    "\n",
    "# Train the Model\n",
    "r = model.fit(X_train, y_train, validation_data=(X_test, y_test), epochs=100)\n",
    "\n",
    "print(\"Train Score: \", model.evaluate(X_train, y_train))\n",
    "print(\"Test Score: \", model.evaluate(X_test, y_test))"
   ],
   "metadata": {
    "collapsed": false,
    "pycharm": {
     "name": "#%%\n"
    }
   }
  },
  {
   "cell_type": "code",
   "execution_count": 14,
   "outputs": [
    {
     "data": {
      "text/plain": "<matplotlib.legend.Legend at 0x11c1f3b2e30>"
     },
     "execution_count": 14,
     "metadata": {},
     "output_type": "execute_result"
    },
    {
     "data": {
      "text/plain": "<Figure size 640x480 with 1 Axes>",
      "image/png": "[encoded data removed]"
     },
     "metadata": {},
     "output_type": "display_data"
    }
   ],
   "source": [
    "# Plot what's returned by model.fit()\n",
    "import matplotlib.pyplot as plt\n",
    "plt.plot(r.history['loss'], label='loss')\n",
    "plt.plot(r.history['val_loss'], label='val_loss')\n",
    "plt.legend()"
   ],
   "metadata": {
    "collapsed": false,
    "pycharm": {
     "name": "#%%\n"
    }
   }
  },
  {
   "cell_type": "code",
   "execution_count": 15,
   "outputs": [
    {
     "data": {
      "text/plain": "<matplotlib.legend.Legend at 0x11c1f3b1510>"
     },
     "execution_count": 15,
     "metadata": {},
     "output_type": "execute_result"
    },
    {
     "data": {
      "text/plain": "<Figure size 640x480 with 1 Axes>",
      "image/png": "[encoded data removed]"
     },
     "metadata": {},
     "output_type": "display_data"
    }
   ],
   "source": [
    "# Plot the accuracy of the model\n",
    "plt.plot(r.history['accuracy'], label='acc')\n",
    "plt.plot(r.history['val_accuracy'], label='val_acc')\n",
    "plt.legend()"
   ],
   "metadata": {
    "collapsed": false,
    "pycharm": {
     "name": "#%%\n"
    }
   }
  }
 ],
 "metadata": {
  "kernelspec": {
   "display_name": "Python 3",
   "language": "python",
   "name": "python3"
  },
  "language_info": {
   "codemirror_mode": {
    "name": "ipython",
    "version": 2
   },
   "file_extension": ".py",
   "mimetype": "text/x-python",
   "name": "python",
   "nbconvert_exporter": "python",
   "pygments_lexer": "ipython2",
   "version": "2.7.6"
  }
 },
 "nbformat": 4,
 "nbformat_minor": 0
}