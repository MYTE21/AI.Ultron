{
 "cells": [
  {
   "cell_type": "markdown",
   "source": [
    "# Hypothesis Testing\n",
    "Hypothesis testing is a statistical method that is used in making statistical decisions using experimental data. Hypothesis Testing is basically an assumption that we make about the population parameter.\n",
    "\n",
    "Examples: you say avg student in class is 40 or a boy is taller than girls.\n",
    "\n",
    "Hypothesis Testing types:\n",
    "1. T Test [2 types]\n",
    "   1. One sample t-test\n",
    "   2. Two samples t-test\n",
    "   3. Paired samples t-test\n",
    "2. Z Test\n",
    "3. ANOVA Test\n",
    "4. Chi-Square Test"
   ],
   "metadata": {
    "collapsed": false
   }
  },
  {
   "cell_type": "markdown",
   "source": [
    "## T Test"
   ],
   "metadata": {
    "collapsed": false
   }
  },
  {
   "cell_type": "markdown",
   "source": [
    "### One sample T-test"
   ],
   "metadata": {
    "collapsed": false
   }
  },
  {
   "cell_type": "code",
   "execution_count": 3,
   "outputs": [],
   "source": [
    "from scipy.stats import ttest_1samp\n",
    "import numpy as np"
   ],
   "metadata": {
    "collapsed": false
   }
  },
  {
   "cell_type": "code",
   "execution_count": 5,
   "metadata": {
    "collapsed": true
   },
   "outputs": [
    {
     "name": "stdout",
     "output_type": "stream",
     "text": [
      "Ages:  [23, 35, 40, 57, 30, 49, 52, 22, 31, 45]\n"
     ]
    }
   ],
   "source": [
    "ages = [23, 35, 40, 57, 30, 49, 52, 22, 31, 45]\n",
    "print(\"Ages: \", ages)"
   ]
  },
  {
   "cell_type": "code",
   "execution_count": 6,
   "outputs": [
    {
     "name": "stdout",
     "output_type": "stream",
     "text": [
      "Mean of Ages:  38.4\n"
     ]
    }
   ],
   "source": [
    "ages_mean = np.mean(ages)\n",
    "print(\"Mean of Ages: \", ages_mean)"
   ],
   "metadata": {
    "collapsed": false
   }
  },
  {
   "cell_type": "code",
   "execution_count": 7,
   "outputs": [
    {
     "name": "stdout",
     "output_type": "stream",
     "text": [
      "p-values:  0.0568819292935687\n"
     ]
    }
   ],
   "source": [
    "tset, pval = ttest_1samp(ages, 30)\n",
    "print(\"p-values: \", pval)"
   ],
   "metadata": {
    "collapsed": false
   }
  },
  {
   "cell_type": "code",
   "execution_count": 8,
   "outputs": [
    {
     "name": "stdout",
     "output_type": "stream",
     "text": [
      "We are accepting null hypothesis ..!\n"
     ]
    }
   ],
   "source": [
    "if pval < 0.05:    # alpha = 0.05 or 5%\n",
    "    print(\"We are rejecting null hypothesis ..!\")\n",
    "else:\n",
    "    print(\"We are accepting null hypothesis ..!\")"
   ],
   "metadata": {
    "collapsed": false
   }
  },
  {
   "cell_type": "markdown",
   "source": [
    "### Two sampled T-test"
   ],
   "metadata": {
    "collapsed": false
   }
  },
  {
   "cell_type": "code",
   "execution_count": 9,
   "outputs": [],
   "source": [
    "from scipy.stats import ttest_ind\n",
    "import numpy as np"
   ],
   "metadata": {
    "collapsed": false
   }
  },
  {
   "cell_type": "code",
   "execution_count": 11,
   "outputs": [
    {
     "name": "stdout",
     "output_type": "stream",
     "text": [
      "Week 1:  [27 33 31 35 31 34 32 23 30 21 19 21 19 24 39 15 25 30 37 15 38 28 28 25\n",
      " 19 33 33 31 30 33 23 25 24 28 24 31 18 37 37 36 20 31 23 20 22 30 17 16\n",
      " 25 28]\n",
      "Week 2:  [31 23 16 25 35 24 20 37 35 25 35 38 18 18 24 23 24 22 22 26 24 16 27 16\n",
      " 31 38 17 35 15 16 26 28 22 17 39 31 34 35 37 28 20 20 39 16 32 37 22 20\n",
      " 35 34]\n"
     ]
    }
   ],
   "source": [
    "week1 = np.random.randint(15, 40, size = 50)\n",
    "week2 = np.random.randint(15, 40, size = 50)\n",
    "\n",
    "print(\"Week 1: \", week1)\n",
    "print(\"Week 2: \", week2)"
   ],
   "metadata": {
    "collapsed": false
   }
  },
  {
   "cell_type": "code",
   "execution_count": 12,
   "outputs": [
    {
     "name": "stdout",
     "output_type": "stream",
     "text": [
      "Week 1 mean value:  27.08\n",
      "Week 2 mean value:  26.56\n"
     ]
    }
   ],
   "source": [
    "week1_mean = np.mean(week1)\n",
    "week2_mean = np.mean(week2)\n",
    "\n",
    "print(\"Week 1 mean value: \", week1_mean)\n",
    "print(\"Week 2 mean value: \", week2_mean)"
   ],
   "metadata": {
    "collapsed": false
   }
  },
  {
   "cell_type": "code",
   "execution_count": 13,
   "outputs": [
    {
     "name": "stdout",
     "output_type": "stream",
     "text": [
      "Week 1 std value:  6.504890467947942\n",
      "Week 2 std value:  7.566135076774667\n"
     ]
    }
   ],
   "source": [
    "week1_std = np.std(week1)\n",
    "week2_std = np.std(week2)\n",
    "\n",
    "print(\"Week 1 std value: \", week1_std)\n",
    "print(\"Week 2 std value: \", week2_std)"
   ],
   "metadata": {
    "collapsed": false
   }
  },
  {
   "cell_type": "code",
   "execution_count": 14,
   "outputs": [
    {
     "name": "stdout",
     "output_type": "stream",
     "text": [
      "p-value:  0.7160441823485384\n"
     ]
    }
   ],
   "source": [
    "ttest, pval = ttest_ind(week1, week2)\n",
    "print(\"p-value: \", pval)"
   ],
   "metadata": {
    "collapsed": false
   }
  },
  {
   "cell_type": "code",
   "execution_count": 15,
   "outputs": [
    {
     "name": "stdout",
     "output_type": "stream",
     "text": [
      "We accept null hypothesis ..!\n"
     ]
    }
   ],
   "source": [
    "if pval < 0.05:\n",
    "    print(\"We reject null hypothesis ..!\")\n",
    "else:\n",
    "    print(\"We accept null hypothesis ..!\")"
   ],
   "metadata": {
    "collapsed": false
   }
  },
  {
   "cell_type": "markdown",
   "source": [
    "### Paired sampled t-test"
   ],
   "metadata": {
    "collapsed": false
   }
  },
  {
   "cell_type": "code",
   "execution_count": 16,
   "outputs": [],
   "source": [
    "import pandas as pd\n",
    "from scipy import stats"
   ],
   "metadata": {
    "collapsed": false
   }
  },
  {
   "cell_type": "code",
   "execution_count": 17,
   "outputs": [
    {
     "data": {
      "text/plain": "   patient   sex agegrp  bp_before  bp_after\n0        1  Male  30-45        143       153\n1        2  Male  30-45        163       170\n2        3  Male  30-45        153       168\n3        4  Male  30-45        153       142\n4        5  Male  30-45        146       141",
      "text/html": "<div>\n<style scoped>\n    .dataframe tbody tr th:only-of-type {\n        vertical-align: middle;\n    }\n\n    .dataframe tbody tr th {\n        vertical-align: top;\n    }\n\n    .dataframe thead th {\n        text-align: right;\n    }\n</style>\n<table border=\"1\" class=\"dataframe\">\n  <thead>\n    <tr style=\"text-align: right;\">\n      <th></th>\n      <th>patient</th>\n      <th>sex</th>\n      <th>agegrp</th>\n      <th>bp_before</th>\n      <th>bp_after</th>\n    </tr>\n  </thead>\n  <tbody>\n    <tr>\n      <th>0</th>\n      <td>1</td>\n      <td>Male</td>\n      <td>30-45</td>\n      <td>143</td>\n      <td>153</td>\n    </tr>\n    <tr>\n      <th>1</th>\n      <td>2</td>\n      <td>Male</td>\n      <td>30-45</td>\n      <td>163</td>\n      <td>170</td>\n    </tr>\n    <tr>\n      <th>2</th>\n      <td>3</td>\n      <td>Male</td>\n      <td>30-45</td>\n      <td>153</td>\n      <td>168</td>\n    </tr>\n    <tr>\n      <th>3</th>\n      <td>4</td>\n      <td>Male</td>\n      <td>30-45</td>\n      <td>153</td>\n      <td>142</td>\n    </tr>\n    <tr>\n      <th>4</th>\n      <td>5</td>\n      <td>Male</td>\n      <td>30-45</td>\n      <td>146</td>\n      <td>141</td>\n    </tr>\n  </tbody>\n</table>\n</div>"
     },
     "execution_count": 17,
     "metadata": {},
     "output_type": "execute_result"
    }
   ],
   "source": [
    "df = pd.read_csv(\"dataset/blood_pressure.csv\")\n",
    "df.head()"
   ],
   "metadata": {
    "collapsed": false
   }
  },
  {
   "cell_type": "code",
   "execution_count": 18,
   "outputs": [
    {
     "data": {
      "text/plain": "        bp_before    bp_after\ncount  120.000000  120.000000\nmean   156.450000  151.358333\nstd     11.389845   14.177622\nmin    138.000000  125.000000\n25%    147.000000  140.750000\n50%    154.500000  149.500000\n75%    164.000000  161.000000\nmax    185.000000  185.000000",
      "text/html": "<div>\n<style scoped>\n    .dataframe tbody tr th:only-of-type {\n        vertical-align: middle;\n    }\n\n    .dataframe tbody tr th {\n        vertical-align: top;\n    }\n\n    .dataframe thead th {\n        text-align: right;\n    }\n</style>\n<table border=\"1\" class=\"dataframe\">\n  <thead>\n    <tr style=\"text-align: right;\">\n      <th></th>\n      <th>bp_before</th>\n      <th>bp_after</th>\n    </tr>\n  </thead>\n  <tbody>\n    <tr>\n      <th>count</th>\n      <td>120.000000</td>\n      <td>120.000000</td>\n    </tr>\n    <tr>\n      <th>mean</th>\n      <td>156.450000</td>\n      <td>151.358333</td>\n    </tr>\n    <tr>\n      <th>std</th>\n      <td>11.389845</td>\n      <td>14.177622</td>\n    </tr>\n    <tr>\n      <th>min</th>\n      <td>138.000000</td>\n      <td>125.000000</td>\n    </tr>\n    <tr>\n      <th>25%</th>\n      <td>147.000000</td>\n      <td>140.750000</td>\n    </tr>\n    <tr>\n      <th>50%</th>\n      <td>154.500000</td>\n      <td>149.500000</td>\n    </tr>\n    <tr>\n      <th>75%</th>\n      <td>164.000000</td>\n      <td>161.000000</td>\n    </tr>\n    <tr>\n      <th>max</th>\n      <td>185.000000</td>\n      <td>185.000000</td>\n    </tr>\n  </tbody>\n</table>\n</div>"
     },
     "execution_count": 18,
     "metadata": {},
     "output_type": "execute_result"
    }
   ],
   "source": [
    "df[[\"bp_before\", \"bp_after\"]].describe()"
   ],
   "metadata": {
    "collapsed": false
   }
  },
  {
   "cell_type": "code",
   "execution_count": 19,
   "outputs": [
    {
     "name": "stdout",
     "output_type": "stream",
     "text": [
      "p-value:  0.0011297914644840823\n"
     ]
    }
   ],
   "source": [
    "ttest, pval = stats.ttest_rel(df[\"bp_before\"], df[\"bp_after\"])\n",
    "print(\"p-value: \", pval)"
   ],
   "metadata": {
    "collapsed": false
   }
  },
  {
   "cell_type": "code",
   "execution_count": 20,
   "outputs": [
    {
     "name": "stdout",
     "output_type": "stream",
     "text": [
      "Reject null hypothesis ..!\n"
     ]
    }
   ],
   "source": [
    "if pval < 0.05:\n",
    "    print(\"Reject null hypothesis ..!\")\n",
    "else:\n",
    "    print(\"accept null hypothesis ..!\")"
   ],
   "metadata": {
    "collapsed": false
   }
  },
  {
   "cell_type": "markdown",
   "source": [
    "## Z Test"
   ],
   "metadata": {
    "collapsed": false
   }
  },
  {
   "cell_type": "markdown",
   "source": [
    "### One-sample Z Test"
   ],
   "metadata": {
    "collapsed": false
   }
  },
  {
   "cell_type": "code",
   "execution_count": 21,
   "outputs": [],
   "source": [
    "import pandas as pd\n",
    "from scipy import stats\n",
    "from statsmodels.stats import weightstats as stests"
   ],
   "metadata": {
    "collapsed": false
   }
  },
  {
   "cell_type": "code",
   "execution_count": 23,
   "outputs": [
    {
     "name": "stdout",
     "output_type": "stream",
     "text": [
      "p-value:  0.6651614730255063\n"
     ]
    }
   ],
   "source": [
    "ztest, pval = stests.ztest(df[\"bp_before\"], x2 = None, value = 156)\n",
    "print(\"p-value: \", float(pval))"
   ],
   "metadata": {
    "collapsed": false
   }
  },
  {
   "cell_type": "code",
   "execution_count": 24,
   "outputs": [
    {
     "name": "stdout",
     "output_type": "stream",
     "text": [
      "accept null hypothesis ..!\n"
     ]
    }
   ],
   "source": [
    "if pval < 0.05:\n",
    "    print(\"reject null hypothesis ..!\")\n",
    "else:\n",
    "    print(\"accept null hypothesis ..!\")"
   ],
   "metadata": {
    "collapsed": false
   }
  },
  {
   "cell_type": "markdown",
   "source": [
    "### Two-sample Z Test"
   ],
   "metadata": {
    "collapsed": false
   }
  },
  {
   "cell_type": "code",
   "execution_count": 25,
   "outputs": [
    {
     "name": "stdout",
     "output_type": "stream",
     "text": [
      "p-value:  0.002162306611369422\n"
     ]
    }
   ],
   "source": [
    "ztest, pval = stests.ztest(df[\"bp_before\"],\n",
    "                           x2 = df[\"bp_after\"],\n",
    "                           value = 0,\n",
    "                           alternative = \"two-sided\")\n",
    "\n",
    "print(\"p-value: \", float(pval))"
   ],
   "metadata": {
    "collapsed": false
   }
  },
  {
   "cell_type": "code",
   "execution_count": 26,
   "outputs": [
    {
     "name": "stdout",
     "output_type": "stream",
     "text": [
      "reject null hypothesis ..!\n"
     ]
    }
   ],
   "source": [
    "if pval < 0.05:\n",
    "    print(\"reject null hypothesis ..!\")\n",
    "else:\n",
    "    print(\"accept null hypothesis ..!\")"
   ],
   "metadata": {
    "collapsed": false
   }
  },
  {
   "cell_type": "markdown",
   "source": [
    "## ANOVA (F-Test) - Analysis of variance"
   ],
   "metadata": {
    "collapsed": false
   }
  },
  {
   "cell_type": "markdown",
   "source": [
    "### One Way F-Test (Anova)"
   ],
   "metadata": {
    "collapsed": false
   }
  },
  {
   "cell_type": "code",
   "execution_count": 29,
   "outputs": [
    {
     "data": {
      "text/plain": "    weight group\n0     4.17  ctrl\n1     5.58  ctrl\n2     5.18  ctrl\n3     6.11  ctrl\n4     4.50  ctrl\n5     4.61  ctrl\n6     5.17  ctrl\n7     4.53  ctrl\n8     5.33  ctrl\n9     5.14  ctrl\n10    4.81  trt1\n11    4.17  trt1\n12    4.41  trt1\n13    3.59  trt1\n14    5.87  trt1\n15    3.83  trt1\n16    6.03  trt1\n17    4.89  trt1\n18    4.32  trt1\n19    4.69  trt1\n20    6.31  trt2\n21    5.12  trt2\n22    5.54  trt2\n23    5.50  trt2\n24    5.37  trt2\n25    5.29  trt2\n26    4.92  trt2\n27    6.15  trt2\n28    5.80  trt2\n29    5.26  trt2",
      "text/html": "<div>\n<style scoped>\n    .dataframe tbody tr th:only-of-type {\n        vertical-align: middle;\n    }\n\n    .dataframe tbody tr th {\n        vertical-align: top;\n    }\n\n    .dataframe thead th {\n        text-align: right;\n    }\n</style>\n<table border=\"1\" class=\"dataframe\">\n  <thead>\n    <tr style=\"text-align: right;\">\n      <th></th>\n      <th>weight</th>\n      <th>group</th>\n    </tr>\n  </thead>\n  <tbody>\n    <tr>\n      <th>0</th>\n      <td>4.17</td>\n      <td>ctrl</td>\n    </tr>\n    <tr>\n      <th>1</th>\n      <td>5.58</td>\n      <td>ctrl</td>\n    </tr>\n    <tr>\n      <th>2</th>\n      <td>5.18</td>\n      <td>ctrl</td>\n    </tr>\n    <tr>\n      <th>3</th>\n      <td>6.11</td>\n      <td>ctrl</td>\n    </tr>\n    <tr>\n      <th>4</th>\n      <td>4.50</td>\n      <td>ctrl</td>\n    </tr>\n    <tr>\n      <th>5</th>\n      <td>4.61</td>\n      <td>ctrl</td>\n    </tr>\n    <tr>\n      <th>6</th>\n      <td>5.17</td>\n      <td>ctrl</td>\n    </tr>\n    <tr>\n      <th>7</th>\n      <td>4.53</td>\n      <td>ctrl</td>\n    </tr>\n    <tr>\n      <th>8</th>\n      <td>5.33</td>\n      <td>ctrl</td>\n    </tr>\n    <tr>\n      <th>9</th>\n      <td>5.14</td>\n      <td>ctrl</td>\n    </tr>\n    <tr>\n      <th>10</th>\n      <td>4.81</td>\n      <td>trt1</td>\n    </tr>\n    <tr>\n      <th>11</th>\n      <td>4.17</td>\n      <td>trt1</td>\n    </tr>\n    <tr>\n      <th>12</th>\n      <td>4.41</td>\n      <td>trt1</td>\n    </tr>\n    <tr>\n      <th>13</th>\n      <td>3.59</td>\n      <td>trt1</td>\n    </tr>\n    <tr>\n      <th>14</th>\n      <td>5.87</td>\n      <td>trt1</td>\n    </tr>\n    <tr>\n      <th>15</th>\n      <td>3.83</td>\n      <td>trt1</td>\n    </tr>\n    <tr>\n      <th>16</th>\n      <td>6.03</td>\n      <td>trt1</td>\n    </tr>\n    <tr>\n      <th>17</th>\n      <td>4.89</td>\n      <td>trt1</td>\n    </tr>\n    <tr>\n      <th>18</th>\n      <td>4.32</td>\n      <td>trt1</td>\n    </tr>\n    <tr>\n      <th>19</th>\n      <td>4.69</td>\n      <td>trt1</td>\n    </tr>\n    <tr>\n      <th>20</th>\n      <td>6.31</td>\n      <td>trt2</td>\n    </tr>\n    <tr>\n      <th>21</th>\n      <td>5.12</td>\n      <td>trt2</td>\n    </tr>\n    <tr>\n      <th>22</th>\n      <td>5.54</td>\n      <td>trt2</td>\n    </tr>\n    <tr>\n      <th>23</th>\n      <td>5.50</td>\n      <td>trt2</td>\n    </tr>\n    <tr>\n      <th>24</th>\n      <td>5.37</td>\n      <td>trt2</td>\n    </tr>\n    <tr>\n      <th>25</th>\n      <td>5.29</td>\n      <td>trt2</td>\n    </tr>\n    <tr>\n      <th>26</th>\n      <td>4.92</td>\n      <td>trt2</td>\n    </tr>\n    <tr>\n      <th>27</th>\n      <td>6.15</td>\n      <td>trt2</td>\n    </tr>\n    <tr>\n      <th>28</th>\n      <td>5.80</td>\n      <td>trt2</td>\n    </tr>\n    <tr>\n      <th>29</th>\n      <td>5.26</td>\n      <td>trt2</td>\n    </tr>\n  </tbody>\n</table>\n</div>"
     },
     "execution_count": 29,
     "metadata": {},
     "output_type": "execute_result"
    }
   ],
   "source": [
    "df_anova = pd.read_csv(\"dataset/PlantGrowth.csv\")\n",
    "df_anova = df_anova[[\"weight\", \"group\"]]"
   ],
   "metadata": {
    "collapsed": false
   }
  },
  {
   "cell_type": "code",
   "execution_count": 30,
   "outputs": [
    {
     "data": {
      "text/plain": "{'ctrl': 0    4.17\n 1    5.58\n 2    5.18\n 3    6.11\n 4    4.50\n 5    4.61\n 6    5.17\n 7    4.53\n 8    5.33\n 9    5.14\n Name: weight, dtype: float64,\n 'trt1': 10    4.81\n 11    4.17\n 12    4.41\n 13    3.59\n 14    5.87\n 15    3.83\n 16    6.03\n 17    4.89\n 18    4.32\n 19    4.69\n Name: weight, dtype: float64,\n 'trt2': 20    6.31\n 21    5.12\n 22    5.54\n 23    5.50\n 24    5.37\n 25    5.29\n 26    4.92\n 27    6.15\n 28    5.80\n 29    5.26\n Name: weight, dtype: float64}"
     },
     "execution_count": 30,
     "metadata": {},
     "output_type": "execute_result"
    }
   ],
   "source": [
    "grps = pd.unique(df_anova.group.values)\n",
    "\n",
    "d_data = {grp: df_anova[\"weight\"][df_anova.group == grp] for grp in grps}\n",
    "d_data"
   ],
   "metadata": {
    "collapsed": false
   }
  },
  {
   "cell_type": "code",
   "execution_count": 31,
   "outputs": [
    {
     "name": "stdout",
     "output_type": "stream",
     "text": [
      "p-value for significance is:  0.0159099583256229\n"
     ]
    }
   ],
   "source": [
    "F, p = stats.f_oneway(d_data[\"ctrl\"], d_data[\"trt1\"], d_data[\"trt2\"])\n",
    "\n",
    "print(\"p-value for significance is: \", p)"
   ],
   "metadata": {
    "collapsed": false
   }
  },
  {
   "cell_type": "code",
   "execution_count": 32,
   "outputs": [
    {
     "name": "stdout",
     "output_type": "stream",
     "text": [
      "reject null hypothesis\n"
     ]
    }
   ],
   "source": [
    "if p < 0.05:\n",
    "    print(\"reject null hypothesis\")\n",
    "else:\n",
    "    print(\"accept null hypothesis\")"
   ],
   "metadata": {
    "collapsed": false
   }
  },
  {
   "cell_type": "markdown",
   "source": [
    "### Two Way F-Test"
   ],
   "metadata": {
    "collapsed": false
   }
  },
  {
   "cell_type": "code",
   "execution_count": 33,
   "outputs": [],
   "source": [
    "import statsmodels.api as sm\n",
    "from statsmodels.formula.api import ols"
   ],
   "metadata": {
    "collapsed": false
   }
  },
  {
   "cell_type": "code",
   "execution_count": 34,
   "outputs": [],
   "source": [
    "df_anova2 = pd.read_csv(\"https://raw.githubusercontent.com/Opensourcefordatascience/Data-sets/master/crop_yield.csv\")"
   ],
   "metadata": {
    "collapsed": false
   }
  },
  {
   "cell_type": "code",
   "execution_count": 35,
   "outputs": [
    {
     "data": {
      "text/plain": "   Fert Water  Yield\n0     A  High   27.4\n1     A  High   33.6\n2     A  High   29.8\n3     A  High   35.2\n4     A  High   33.0\n5     B  High   34.8\n6     B  High   27.0\n7     B  High   30.2\n8     B  High   30.8\n9     B  High   26.4\n10    A   Low   32.0\n11    A   Low   32.2\n12    A   Low   26.0\n13    A   Low   33.4\n14    A   Low   26.4\n15    B   Low   26.8\n16    B   Low   23.2\n17    B   Low   29.4\n18    B   Low   19.4\n19    B   Low   23.8",
      "text/html": "<div>\n<style scoped>\n    .dataframe tbody tr th:only-of-type {\n        vertical-align: middle;\n    }\n\n    .dataframe tbody tr th {\n        vertical-align: top;\n    }\n\n    .dataframe thead th {\n        text-align: right;\n    }\n</style>\n<table border=\"1\" class=\"dataframe\">\n  <thead>\n    <tr style=\"text-align: right;\">\n      <th></th>\n      <th>Fert</th>\n      <th>Water</th>\n      <th>Yield</th>\n    </tr>\n  </thead>\n  <tbody>\n    <tr>\n      <th>0</th>\n      <td>A</td>\n      <td>High</td>\n      <td>27.4</td>\n    </tr>\n    <tr>\n      <th>1</th>\n      <td>A</td>\n      <td>High</td>\n      <td>33.6</td>\n    </tr>\n    <tr>\n      <th>2</th>\n      <td>A</td>\n      <td>High</td>\n      <td>29.8</td>\n    </tr>\n    <tr>\n      <th>3</th>\n      <td>A</td>\n      <td>High</td>\n      <td>35.2</td>\n    </tr>\n    <tr>\n      <th>4</th>\n      <td>A</td>\n      <td>High</td>\n      <td>33.0</td>\n    </tr>\n    <tr>\n      <th>5</th>\n      <td>B</td>\n      <td>High</td>\n      <td>34.8</td>\n    </tr>\n    <tr>\n      <th>6</th>\n      <td>B</td>\n      <td>High</td>\n      <td>27.0</td>\n    </tr>\n    <tr>\n      <th>7</th>\n      <td>B</td>\n      <td>High</td>\n      <td>30.2</td>\n    </tr>\n    <tr>\n      <th>8</th>\n      <td>B</td>\n      <td>High</td>\n      <td>30.8</td>\n    </tr>\n    <tr>\n      <th>9</th>\n      <td>B</td>\n      <td>High</td>\n      <td>26.4</td>\n    </tr>\n    <tr>\n      <th>10</th>\n      <td>A</td>\n      <td>Low</td>\n      <td>32.0</td>\n    </tr>\n    <tr>\n      <th>11</th>\n      <td>A</td>\n      <td>Low</td>\n      <td>32.2</td>\n    </tr>\n    <tr>\n      <th>12</th>\n      <td>A</td>\n      <td>Low</td>\n      <td>26.0</td>\n    </tr>\n    <tr>\n      <th>13</th>\n      <td>A</td>\n      <td>Low</td>\n      <td>33.4</td>\n    </tr>\n    <tr>\n      <th>14</th>\n      <td>A</td>\n      <td>Low</td>\n      <td>26.4</td>\n    </tr>\n    <tr>\n      <th>15</th>\n      <td>B</td>\n      <td>Low</td>\n      <td>26.8</td>\n    </tr>\n    <tr>\n      <th>16</th>\n      <td>B</td>\n      <td>Low</td>\n      <td>23.2</td>\n    </tr>\n    <tr>\n      <th>17</th>\n      <td>B</td>\n      <td>Low</td>\n      <td>29.4</td>\n    </tr>\n    <tr>\n      <th>18</th>\n      <td>B</td>\n      <td>Low</td>\n      <td>19.4</td>\n    </tr>\n    <tr>\n      <th>19</th>\n      <td>B</td>\n      <td>Low</td>\n      <td>23.8</td>\n    </tr>\n  </tbody>\n</table>\n</div>"
     },
     "execution_count": 35,
     "metadata": {},
     "output_type": "execute_result"
    }
   ],
   "source": [
    "df_anova2"
   ],
   "metadata": {
    "collapsed": false
   }
  },
  {
   "cell_type": "code",
   "execution_count": 36,
   "outputs": [],
   "source": [
    "model = ols(\"Yield ~ C(Fert)*C(Water)\", df_anova2).fit()"
   ],
   "metadata": {
    "collapsed": false
   }
  },
  {
   "cell_type": "code",
   "execution_count": 37,
   "outputs": [
    {
     "name": "stdout",
     "output_type": "stream",
     "text": [
      "Overall model F( 3,  16) =  4.112, p =  0.0243\n"
     ]
    }
   ],
   "source": [
    "print(f\"Overall model F({model.df_model: .0f}, {model.df_resid: .0f}) = {model.fvalue: .3f}, p = {model.f_pvalue: .4f}\")"
   ],
   "metadata": {
    "collapsed": false
   }
  },
  {
   "cell_type": "code",
   "execution_count": 38,
   "outputs": [
    {
     "data": {
      "text/plain": "                   sum_sq    df         F    PR(>F)\nC(Fert)            69.192   1.0  5.766000  0.028847\nC(Water)           63.368   1.0  5.280667  0.035386\nC(Fert):C(Water)   15.488   1.0  1.290667  0.272656\nResidual          192.000  16.0       NaN       NaN",
      "text/html": "<div>\n<style scoped>\n    .dataframe tbody tr th:only-of-type {\n        vertical-align: middle;\n    }\n\n    .dataframe tbody tr th {\n        vertical-align: top;\n    }\n\n    .dataframe thead th {\n        text-align: right;\n    }\n</style>\n<table border=\"1\" class=\"dataframe\">\n  <thead>\n    <tr style=\"text-align: right;\">\n      <th></th>\n      <th>sum_sq</th>\n      <th>df</th>\n      <th>F</th>\n      <th>PR(&gt;F)</th>\n    </tr>\n  </thead>\n  <tbody>\n    <tr>\n      <th>C(Fert)</th>\n      <td>69.192</td>\n      <td>1.0</td>\n      <td>5.766000</td>\n      <td>0.028847</td>\n    </tr>\n    <tr>\n      <th>C(Water)</th>\n      <td>63.368</td>\n      <td>1.0</td>\n      <td>5.280667</td>\n      <td>0.035386</td>\n    </tr>\n    <tr>\n      <th>C(Fert):C(Water)</th>\n      <td>15.488</td>\n      <td>1.0</td>\n      <td>1.290667</td>\n      <td>0.272656</td>\n    </tr>\n    <tr>\n      <th>Residual</th>\n      <td>192.000</td>\n      <td>16.0</td>\n      <td>NaN</td>\n      <td>NaN</td>\n    </tr>\n  </tbody>\n</table>\n</div>"
     },
     "execution_count": 38,
     "metadata": {},
     "output_type": "execute_result"
    }
   ],
   "source": [
    "res = sm.stats.anova_lm(model, typ = 2)\n",
    "res"
   ],
   "metadata": {
    "collapsed": false
   }
  },
  {
   "cell_type": "markdown",
   "source": [
    "## Chi-Square Test"
   ],
   "metadata": {
    "collapsed": false
   }
  },
  {
   "cell_type": "code",
   "execution_count": 40,
   "outputs": [
    {
     "name": "stdout",
     "output_type": "stream",
     "text": [
      "contingency_table :-\n",
      " Like Shopping?  No  Yes\n",
      "Gender                 \n",
      "Female           2    3\n",
      "Male             2    2\n",
      "Observed Values :-\n",
      " [[2 3]\n",
      " [2 2]]\n",
      "Expected Values :-\n",
      " [[2.22222222 2.77777778]\n",
      " [1.77777778 2.22222222]]\n",
      "Degree of Freedom:- 1\n",
      "chi-square statistic:- 0.09000000000000008\n",
      "critical_value: 3.841458820694124\n",
      "p-value: 0.7641771556220945\n",
      "Significance level:  0.05\n",
      "Degree of Freedom:  1\n",
      "chi-square statistic: 0.09000000000000008\n",
      "critical_value: 3.841458820694124\n",
      "p-value: 0.7641771556220945\n",
      "Retain H0,There is no relationship between 2 categorical variables\n",
      "Retain H0,There is no relationship between 2 categorical variables\n"
     ]
    }
   ],
   "source": [
    "df_chi = pd.read_csv('dataset/chi-test.csv')\n",
    "contingency_table=pd.crosstab(df_chi[\"Gender\"],df_chi[\"Like Shopping?\"])\n",
    "print('contingency_table :-\\n',contingency_table)\n",
    "#Observed Values\n",
    "Observed_Values = contingency_table.values\n",
    "print(\"Observed Values :-\\n\",Observed_Values)\n",
    "b=stats.chi2_contingency(contingency_table)\n",
    "Expected_Values = b[3]\n",
    "print(\"Expected Values :-\\n\",Expected_Values)\n",
    "no_of_rows=len(contingency_table.iloc[0:2,0])\n",
    "no_of_columns=len(contingency_table.iloc[0,0:2])\n",
    "ddof=(no_of_rows-1)*(no_of_columns-1)\n",
    "print(\"Degree of Freedom:-\",ddof)\n",
    "alpha = 0.05\n",
    "from scipy.stats import chi2\n",
    "chi_square=sum([(o-e)**2./e for o,e in zip(Observed_Values,Expected_Values)])\n",
    "chi_square_statistic=chi_square[0]+chi_square[1]\n",
    "print(\"chi-square statistic:-\",chi_square_statistic)\n",
    "critical_value=chi2.ppf(q=1-alpha,df=ddof)\n",
    "print('critical_value:',critical_value)\n",
    "#p-value\n",
    "p_value=1-chi2.cdf(x=chi_square_statistic,df=ddof)\n",
    "print('p-value:',p_value)\n",
    "print('Significance level: ',alpha)\n",
    "print('Degree of Freedom: ',ddof)\n",
    "print('chi-square statistic:',chi_square_statistic)\n",
    "print('critical_value:',critical_value)\n",
    "print('p-value:',p_value)\n",
    "if chi_square_statistic>=critical_value:\n",
    "    print(\"Reject H0,There is a relationship between 2 categorical variables\")\n",
    "else:\n",
    "    print(\"Retain H0,There is no relationship between 2 categorical variables\")\n",
    "\n",
    "if p_value<=alpha:\n",
    "    print(\"Reject H0,There is a relationship between 2 categorical variables\")\n",
    "else:\n",
    "    print(\"Retain H0,There is no relationship between 2 categorical variables\")"
   ],
   "metadata": {
    "collapsed": false
   }
  }
 ],
 "metadata": {
  "kernelspec": {
   "display_name": "Python 3",
   "language": "python",
   "name": "python3"
  },
  "language_info": {
   "codemirror_mode": {
    "name": "ipython",
    "version": 2
   },
   "file_extension": ".py",
   "mimetype": "text/x-python",
   "name": "python",
   "nbconvert_exporter": "python",
   "pygments_lexer": "ipython2",
   "version": "2.7.6"
  }
 },
 "nbformat": 4,
 "nbformat_minor": 0
}
