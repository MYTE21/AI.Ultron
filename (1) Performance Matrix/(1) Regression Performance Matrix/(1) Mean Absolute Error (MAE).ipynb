{
 "cells": [
  {
   "cell_type": "markdown",
   "source": [
    "<h1 style=\"color:darkmagenta; text-align:center; font-family:Cursive\">\n",
    "    <b>Mean Absolute Error\n",
    "    <b><br>(MAE)\n",
    "</h1>"
   ],
   "metadata": {
    "collapsed": false,
    "pycharm": {
     "name": "#%% md\n"
    }
   }
  },
  {
   "cell_type": "markdown",
   "source": [
    "`Mean Absolute Error (MAE) calculates the average of the absolute differences between the actual value and model's predicted value.`\n",
    "\n",
    "$$ MAR = \\frac{\\sum_{i=1}^{n} |y_i - \\hat{y_i}|} {N} $$\n",
    "\n",
    "Here, $ y_i $ = Actual Value\n",
    "&nbsp; &nbsp; &nbsp; &nbsp; &nbsp; $ \\hat{y_i} $ = Prediction Value\n",
    "&nbsp; &nbsp; &nbsp; &nbsp; &nbsp; $ N $ = Total Number of Data Points\n",
    "\n",
    "\n",
    "> A small MAE value suggests that the model is great at predicting the actual value, contrarily a larger MAE value suggests that your model may have trouble in certain areas finding the actual value.\n",
    ">\n",
    "> MAE of 0 means that your model is a perfect predictor of the outputs."
   ],
   "metadata": {
    "collapsed": false,
    "pycharm": {
     "name": "#%% md\n"
    }
   }
  },
  {
   "cell_type": "code",
   "execution_count": null,
   "metadata": {
    "collapsed": true,
    "pycharm": {
     "name": "#%%\n"
    }
   },
   "outputs": [],
   "source": []
  }
 ],
 "metadata": {
  "kernelspec": {
   "display_name": "Python 3",
   "language": "python",
   "name": "python3"
  },
  "language_info": {
   "codemirror_mode": {
    "name": "ipython",
    "version": 2
   },
   "file_extension": ".py",
   "mimetype": "text/x-python",
   "name": "python",
   "nbconvert_exporter": "python",
   "pygments_lexer": "ipython2",
   "version": "2.7.6"
  }
 },
 "nbformat": 4,
 "nbformat_minor": 0
}